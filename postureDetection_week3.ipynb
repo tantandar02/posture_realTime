{
 "cells": [
  {
   "cell_type": "markdown",
   "id": "383adaee-e31f-41ee-97af-46990cb71da2",
   "metadata": {},
   "source": [
    "# INITIALIZE MEDIAPIPE"
   ]
  },
  {
   "cell_type": "code",
   "execution_count": 7,
   "id": "44371c57-5f29-41ab-9008-7e8c3d7c81b6",
   "metadata": {},
   "outputs": [],
   "source": [
    "# !pip install mediapipe opencv-python pandas scikit-learn"
   ]
  },
  {
   "cell_type": "code",
   "execution_count": 4,
   "id": "d482519e-10b7-4208-b500-64bcb518dcc0",
   "metadata": {},
   "outputs": [],
   "source": [
    "import mediapipe as mp\n",
    "import cv2 "
   ]
  },
  {
   "cell_type": "code",
   "execution_count": 5,
   "id": "56edf9e8-4a03-49c1-a3d2-df6d40325990",
   "metadata": {},
   "outputs": [],
   "source": [
    "mp_drawing = mp.solutions.drawing_utils\n",
    "mp_holistic = mp.solutions.holistic"
   ]
  },
  {
   "cell_type": "code",
   "execution_count": 8,
   "id": "3d3a5f7c-2b4a-4e10-87fd-5d9b54ee6ade",
   "metadata": {},
   "outputs": [],
   "source": [
    "cap = cv2.VideoCapture(0)\n",
    "# Initiate holistic model\n",
    "with mp_holistic.Holistic(min_detection_confidence=0.5, min_tracking_confidence=0.5) as holistic:\n",
    "    \n",
    "    while cap.isOpened():\n",
    "        ret, frame = cap.read()\n",
    "        \n",
    "        # Recolor Feed\n",
    "        image = cv2.cvtColor(frame, cv2.COLOR_BGR2RGB)\n",
    "        image.flags.writeable = False        \n",
    "        \n",
    "        # Make Detections\n",
    "        results = holistic.process(image)\n",
    "        # print(results.face_landmarks)\n",
    "        \n",
    "        # face_landmarks, pose_landmarks, left_hand_landmarks, right_hand_landmarks\n",
    "        \n",
    "        # Recolor image back to BGR for rendering\n",
    "        image.flags.writeable = True   \n",
    "        image = cv2.cvtColor(image, cv2.COLOR_RGB2BGR)\n",
    "        \n",
    "        # 4. Pose Detections\n",
    "        mp_drawing.draw_landmarks(image, results.pose_landmarks, mp_holistic.POSE_CONNECTIONS, \n",
    "                                 mp_drawing.DrawingSpec(color=(245,117,66), thickness=2, circle_radius=4),\n",
    "                                 mp_drawing.DrawingSpec(color=(245,66,230), thickness=2, circle_radius=2)\n",
    "                                 )\n",
    "                        \n",
    "        cv2.imshow('Raw Webcam Feed', image)\n",
    "\n",
    "        if cv2.waitKey(10) & 0xFF == ord('q'):\n",
    "            break\n",
    "\n",
    "cap.release()\n",
    "cv2.destroyAllWindows()"
   ]
  },
  {
   "cell_type": "code",
   "execution_count": 10,
   "id": "8885d2dc-6b50-4e77-a66b-1a4f570fa7fe",
   "metadata": {},
   "outputs": [
    {
     "data": {
      "text/plain": [
       "[x: 0.6185909509658813\n",
       "y: 0.8356022238731384\n",
       "z: -1.0666818618774414\n",
       "visibility: 0.9958324432373047\n",
       ", x: 0.6495606303215027\n",
       "y: 0.7602099180221558\n",
       "z: -1.0134544372558594\n",
       "visibility: 0.9955704808235168\n",
       ", x: 0.6663106679916382\n",
       "y: 0.7580215930938721\n",
       "z: -1.0137944221496582\n",
       "visibility: 0.9961051344871521\n",
       ", x: 0.6820663213729858\n",
       "y: 0.7569400072097778\n",
       "z: -1.0139811038970947\n",
       "visibility: 0.9950929880142212\n",
       ", x: 0.5821147561073303\n",
       "y: 0.7642518877983093\n",
       "z: -1.0157420635223389\n",
       "visibility: 0.9951221942901611\n",
       ", x: 0.5568656921386719\n",
       "y: 0.7646142244338989\n",
       "z: -1.0155550241470337\n",
       "visibility: 0.9955771565437317\n",
       ", x: 0.5352917909622192\n",
       "y: 0.7656300663948059\n",
       "z: -1.0157428979873657\n",
       "visibility: 0.9945157766342163\n",
       ", x: 0.7036648988723755\n",
       "y: 0.7810410261154175\n",
       "z: -0.5982675552368164\n",
       "visibility: 0.9965399503707886\n",
       ", x: 0.5072117447853088\n",
       "y: 0.7927507758140564\n",
       "z: -0.5998085141181946\n",
       "visibility: 0.9943633079528809\n",
       ", x: 0.6547107100486755\n",
       "y: 0.9045527577400208\n",
       "z: -0.9013694524765015\n",
       "visibility: 0.9839874505996704\n",
       ", x: 0.5761920213699341\n",
       "y: 0.9094563722610474\n",
       "z: -0.9018347859382629\n",
       "visibility: 0.9826655387878418\n",
       ", x: 0.8427537679672241\n",
       "y: 1.096291184425354\n",
       "z: -0.411503404378891\n",
       "visibility: 0.7218902707099915\n",
       ", x: 0.39274656772613525\n",
       "y: 1.133541464805603\n",
       "z: -0.3150208294391632\n",
       "visibility: 0.6920546889305115\n",
       ", x: 0.9405628442764282\n",
       "y: 1.314685344696045\n",
       "z: -0.7162265777587891\n",
       "visibility: 0.05843542888760567\n",
       ", x: 0.2987978756427765\n",
       "y: 1.3853344917297363\n",
       "z: -0.7582263350486755\n",
       "visibility: 0.03287525102496147\n",
       ", x: 0.819806694984436\n",
       "y: 1.3173370361328125\n",
       "z: -1.0522860288619995\n",
       "visibility: 0.0447506308555603\n",
       ", x: 0.41151028871536255\n",
       "y: 1.1738866567611694\n",
       "z: -1.5499742031097412\n",
       "visibility: 0.04820866137742996\n",
       ", x: 0.8132139444351196\n",
       "y: 1.3448795080184937\n",
       "z: -1.1186931133270264\n",
       "visibility: 0.07612191885709763\n",
       ", x: 0.42434048652648926\n",
       "y: 1.1283454895019531\n",
       "z: -1.6941452026367188\n",
       "visibility: 0.0762072280049324\n",
       ", x: 0.7794569730758667\n",
       "y: 1.3099995851516724\n",
       "z: -1.0579451322555542\n",
       "visibility: 0.10526364296674728\n",
       ", x: 0.43323689699172974\n",
       "y: 1.0946966409683228\n",
       "z: -1.6384048461914062\n",
       "visibility: 0.10369222611188889\n",
       ", x: 0.7743263840675354\n",
       "y: 1.3029838800430298\n",
       "z: -1.0511850118637085\n",
       "visibility: 0.09817217290401459\n",
       ", x: 0.4394966959953308\n",
       "y: 1.1119071245193481\n",
       "z: -1.5564477443695068\n",
       "visibility: 0.09375690668821335\n",
       ", x: 0.7917791604995728\n",
       "y: 1.9518073797225952\n",
       "z: -0.08487294614315033\n",
       "visibility: 0.0006758141098544002\n",
       ", x: 0.49806731939315796\n",
       "y: 1.9503707885742188\n",
       "z: 0.08931292593479156\n",
       "visibility: 0.0005887489533051848\n",
       ", x: 0.7975456118583679\n",
       "y: 2.5662293434143066\n",
       "z: -0.117708720266819\n",
       "visibility: 0.004168895538896322\n",
       ", x: 0.5083304643630981\n",
       "y: 2.5392417907714844\n",
       "z: 0.03936289995908737\n",
       "visibility: 0.0026974796783179045\n",
       ", x: 0.802367091178894\n",
       "y: 3.1564857959747314\n",
       "z: 0.3893836438655853\n",
       "visibility: 0.000280010630376637\n",
       ", x: 0.5452200174331665\n",
       "y: 3.111886501312256\n",
       "z: 0.3634474277496338\n",
       "visibility: 0.00011421175440773368\n",
       ", x: 0.8040752410888672\n",
       "y: 3.254390001296997\n",
       "z: 0.4060448110103607\n",
       "visibility: 0.0002257139713037759\n",
       ", x: 0.5477712750434875\n",
       "y: 3.203134298324585\n",
       "z: 0.37097737193107605\n",
       "visibility: 0.00016013733693398535\n",
       ", x: 0.7637608051300049\n",
       "y: 3.3329129219055176\n",
       "z: -0.17911061644554138\n",
       "visibility: 0.0005247944500297308\n",
       ", x: 0.5749972462654114\n",
       "y: 3.285331964492798\n",
       "z: -0.2288983166217804\n",
       "visibility: 0.00043409710633568466\n",
       "]"
      ]
     },
     "execution_count": 10,
     "metadata": {},
     "output_type": "execute_result"
    }
   ],
   "source": [
    "results.pose_landmarks.landmark"
   ]
  },
  {
   "cell_type": "markdown",
   "id": "f9818c64-fc34-4803-b825-eca122992cca",
   "metadata": {},
   "source": [
    "# EXPORT COORDINATES TO MAKE A DATASET"
   ]
  },
  {
   "cell_type": "code",
   "execution_count": 12,
   "id": "5f03de7f-141d-4df5-9082-26b54b949d2f",
   "metadata": {},
   "outputs": [],
   "source": [
    "import csv \n",
    "import os\n",
    "import numpy as np"
   ]
  },
  {
   "cell_type": "code",
   "execution_count": 14,
   "id": "bf0a9420-f045-42dc-9892-7a942f69039b",
   "metadata": {},
   "outputs": [
    {
     "data": {
      "text/plain": [
       "33"
      ]
     },
     "execution_count": 14,
     "metadata": {},
     "output_type": "execute_result"
    }
   ],
   "source": [
    "num_coords = len(results.pose_landmarks.landmark)\n",
    "num_coords"
   ]
  },
  {
   "cell_type": "code",
   "execution_count": 16,
   "id": "d03a240f-0761-43fb-b3e3-a1be9620f9e8",
   "metadata": {
    "scrolled": true
   },
   "outputs": [
    {
     "data": {
      "text/plain": [
       "['class',\n",
       " 'x1',\n",
       " 'y1',\n",
       " 'z1',\n",
       " 'v1',\n",
       " 'x2',\n",
       " 'y2',\n",
       " 'z2',\n",
       " 'v2',\n",
       " 'x3',\n",
       " 'y3',\n",
       " 'z3',\n",
       " 'v3',\n",
       " 'x4',\n",
       " 'y4',\n",
       " 'z4',\n",
       " 'v4',\n",
       " 'x5',\n",
       " 'y5',\n",
       " 'z5',\n",
       " 'v5',\n",
       " 'x6',\n",
       " 'y6',\n",
       " 'z6',\n",
       " 'v6',\n",
       " 'x7',\n",
       " 'y7',\n",
       " 'z7',\n",
       " 'v7',\n",
       " 'x8',\n",
       " 'y8',\n",
       " 'z8',\n",
       " 'v8',\n",
       " 'x9',\n",
       " 'y9',\n",
       " 'z9',\n",
       " 'v9',\n",
       " 'x10',\n",
       " 'y10',\n",
       " 'z10',\n",
       " 'v10',\n",
       " 'x11',\n",
       " 'y11',\n",
       " 'z11',\n",
       " 'v11',\n",
       " 'x12',\n",
       " 'y12',\n",
       " 'z12',\n",
       " 'v12',\n",
       " 'x13',\n",
       " 'y13',\n",
       " 'z13',\n",
       " 'v13',\n",
       " 'x14',\n",
       " 'y14',\n",
       " 'z14',\n",
       " 'v14',\n",
       " 'x15',\n",
       " 'y15',\n",
       " 'z15',\n",
       " 'v15',\n",
       " 'x16',\n",
       " 'y16',\n",
       " 'z16',\n",
       " 'v16',\n",
       " 'x17',\n",
       " 'y17',\n",
       " 'z17',\n",
       " 'v17',\n",
       " 'x18',\n",
       " 'y18',\n",
       " 'z18',\n",
       " 'v18',\n",
       " 'x19',\n",
       " 'y19',\n",
       " 'z19',\n",
       " 'v19',\n",
       " 'x20',\n",
       " 'y20',\n",
       " 'z20',\n",
       " 'v20',\n",
       " 'x21',\n",
       " 'y21',\n",
       " 'z21',\n",
       " 'v21',\n",
       " 'x22',\n",
       " 'y22',\n",
       " 'z22',\n",
       " 'v22',\n",
       " 'x23',\n",
       " 'y23',\n",
       " 'z23',\n",
       " 'v23',\n",
       " 'x24',\n",
       " 'y24',\n",
       " 'z24',\n",
       " 'v24',\n",
       " 'x25',\n",
       " 'y25',\n",
       " 'z25',\n",
       " 'v25',\n",
       " 'x26',\n",
       " 'y26',\n",
       " 'z26',\n",
       " 'v26',\n",
       " 'x27',\n",
       " 'y27',\n",
       " 'z27',\n",
       " 'v27',\n",
       " 'x28',\n",
       " 'y28',\n",
       " 'z28',\n",
       " 'v28',\n",
       " 'x29',\n",
       " 'y29',\n",
       " 'z29',\n",
       " 'v29',\n",
       " 'x30',\n",
       " 'y30',\n",
       " 'z30',\n",
       " 'v30',\n",
       " 'x31',\n",
       " 'y31',\n",
       " 'z31',\n",
       " 'v31',\n",
       " 'x32',\n",
       " 'y32',\n",
       " 'z32',\n",
       " 'v32',\n",
       " 'x33',\n",
       " 'y33',\n",
       " 'z33',\n",
       " 'v33']"
      ]
     },
     "execution_count": 16,
     "metadata": {},
     "output_type": "execute_result"
    }
   ],
   "source": [
    "landmarks = ['class']\n",
    "for val in range(1, num_coords+1):\n",
    "    landmarks += ['x{}'.format(val), 'y{}'.format(val), 'z{}'.format(val), 'v{}'.format(val)]\n",
    "landmarks"
   ]
  },
  {
   "cell_type": "code",
   "execution_count": 18,
   "id": "4bad5b4d-cf08-44e2-947e-13305090e5de",
   "metadata": {},
   "outputs": [],
   "source": [
    "# make a csv file ('w' is for creating a file)\n",
    "with open('dataset2.csv', mode='w', newline='') as f:\n",
    "    csv_writer = csv.writer(f, delimiter=',', quotechar='\"', quoting=csv.QUOTE_MINIMAL)\n",
    "    csv_writer.writerow(landmarks)"
   ]
  },
  {
   "cell_type": "code",
   "execution_count": 34,
   "id": "45bd4bf8-0b24-43cc-a75c-1d532ec7a5e3",
   "metadata": {},
   "outputs": [],
   "source": [
    "class_name = \"Swayback\""
   ]
  },
  {
   "cell_type": "code",
   "execution_count": 36,
   "id": "56f4630e-4c28-4a0a-b7a1-6950692f88f4",
   "metadata": {},
   "outputs": [],
   "source": [
    "cap = cv2.VideoCapture(0)\n",
    "# Initiate holistic model\n",
    "with mp_holistic.Holistic(min_detection_confidence=0.5, min_tracking_confidence=0.5) as holistic:\n",
    "    \n",
    "    while cap.isOpened():\n",
    "        ret, frame = cap.read()\n",
    "        \n",
    "        # Recolor Feed\n",
    "        image = cv2.cvtColor(frame, cv2.COLOR_BGR2RGB)\n",
    "        image.flags.writeable = False        \n",
    "        \n",
    "        # Make Detections\n",
    "        results = holistic.process(image)\n",
    "        # print(results.face_landmarks)\n",
    "        \n",
    "        # face_landmarks, pose_landmarks, left_hand_landmarks, right_hand_landmarks\n",
    "        \n",
    "        # Recolor image back to BGR for rendering\n",
    "        image.flags.writeable = True   \n",
    "        image = cv2.cvtColor(image, cv2.COLOR_RGB2BGR)\n",
    "\n",
    "        # 4. Pose Detections\n",
    "        mp_drawing.draw_landmarks(image, results.pose_landmarks, mp_holistic.POSE_CONNECTIONS, \n",
    "                                 mp_drawing.DrawingSpec(color=(245,117,66), thickness=2, circle_radius=4),\n",
    "                                 mp_drawing.DrawingSpec(color=(245,66,230), thickness=2, circle_radius=2)\n",
    "                                 )\n",
    "        # Export coordinates\n",
    "        try:\n",
    "            # Extract Pose landmarks\n",
    "            pose = results.pose_landmarks.landmark\n",
    "            pose_row = list(np.array([[landmark.x, landmark.y, landmark.z, landmark.visibility] for landmark in pose]).flatten())\n",
    "            \n",
    "            # Append class name \n",
    "            pose_row.insert(0, class_name)\n",
    "            \n",
    "            # Export to CSV ('a' means append, it doesnt create a new csv file)\n",
    "            with open('dataset.csv', mode='a', newline='') as f:\n",
    "                csv_writer = csv.writer(f, delimiter=',', quotechar='\"', quoting=csv.QUOTE_MINIMAL)\n",
    "                csv_writer.writerow(pose_row) \n",
    "            \n",
    "        except:\n",
    "            pass\n",
    "                        \n",
    "        cv2.imshow('Raw Webcam Feed', image)\n",
    "\n",
    "        if cv2.waitKey(10) & 0xFF == ord('q'):\n",
    "            break\n",
    "\n",
    "cap.release()\n",
    "cv2.destroyAllWindows()"
   ]
  },
  {
   "cell_type": "markdown",
   "id": "b2a7e15c-c714-46f4-8b4c-996ccb706bff",
   "metadata": {},
   "source": [
    "# IMPORT AND SPLIT THE DATASET"
   ]
  },
  {
   "cell_type": "code",
   "execution_count": 38,
   "id": "f6c994e1-6860-4b82-aefb-7b580933d6fa",
   "metadata": {},
   "outputs": [],
   "source": [
    "import pandas as pd\n",
    "from sklearn.model_selection import train_test_split"
   ]
  },
  {
   "cell_type": "code",
   "execution_count": 40,
   "id": "89079332-e952-45ec-b051-c9fe06e094bc",
   "metadata": {},
   "outputs": [],
   "source": [
    "df = pd.read_csv('dataset.csv')"
   ]
  },
  {
   "cell_type": "code",
   "execution_count": 42,
   "id": "cd0eb373-d6ff-49f4-a554-1405de4b8b18",
   "metadata": {},
   "outputs": [
    {
     "data": {
      "text/html": [
       "<div>\n",
       "<style scoped>\n",
       "    .dataframe tbody tr th:only-of-type {\n",
       "        vertical-align: middle;\n",
       "    }\n",
       "\n",
       "    .dataframe tbody tr th {\n",
       "        vertical-align: top;\n",
       "    }\n",
       "\n",
       "    .dataframe thead th {\n",
       "        text-align: right;\n",
       "    }\n",
       "</style>\n",
       "<table border=\"1\" class=\"dataframe\">\n",
       "  <thead>\n",
       "    <tr style=\"text-align: right;\">\n",
       "      <th></th>\n",
       "      <th>class</th>\n",
       "      <th>x1</th>\n",
       "      <th>y1</th>\n",
       "      <th>z1</th>\n",
       "      <th>v1</th>\n",
       "      <th>x2</th>\n",
       "      <th>y2</th>\n",
       "      <th>z2</th>\n",
       "      <th>v2</th>\n",
       "      <th>x3</th>\n",
       "      <th>...</th>\n",
       "      <th>z31</th>\n",
       "      <th>v31</th>\n",
       "      <th>x32</th>\n",
       "      <th>y32</th>\n",
       "      <th>z32</th>\n",
       "      <th>v32</th>\n",
       "      <th>x33</th>\n",
       "      <th>y33</th>\n",
       "      <th>z33</th>\n",
       "      <th>v33</th>\n",
       "    </tr>\n",
       "  </thead>\n",
       "  <tbody>\n",
       "    <tr>\n",
       "      <th>0</th>\n",
       "      <td>Kyphosis</td>\n",
       "      <td>0.306809</td>\n",
       "      <td>0.369044</td>\n",
       "      <td>-0.338260</td>\n",
       "      <td>0.999607</td>\n",
       "      <td>0.305489</td>\n",
       "      <td>0.337434</td>\n",
       "      <td>-0.351246</td>\n",
       "      <td>0.999839</td>\n",
       "      <td>0.310803</td>\n",
       "      <td>...</td>\n",
       "      <td>0.533763</td>\n",
       "      <td>0.126459</td>\n",
       "      <td>0.663247</td>\n",
       "      <td>0.746580</td>\n",
       "      <td>0.378824</td>\n",
       "      <td>0.248668</td>\n",
       "      <td>0.660135</td>\n",
       "      <td>0.743640</td>\n",
       "      <td>0.531012</td>\n",
       "      <td>0.100851</td>\n",
       "    </tr>\n",
       "    <tr>\n",
       "      <th>1</th>\n",
       "      <td>Kyphosis</td>\n",
       "      <td>0.309920</td>\n",
       "      <td>0.359889</td>\n",
       "      <td>-0.339014</td>\n",
       "      <td>0.999632</td>\n",
       "      <td>0.310283</td>\n",
       "      <td>0.329782</td>\n",
       "      <td>-0.348633</td>\n",
       "      <td>0.999849</td>\n",
       "      <td>0.315488</td>\n",
       "      <td>...</td>\n",
       "      <td>0.395457</td>\n",
       "      <td>0.131070</td>\n",
       "      <td>0.662114</td>\n",
       "      <td>0.814646</td>\n",
       "      <td>0.254018</td>\n",
       "      <td>0.245539</td>\n",
       "      <td>0.662923</td>\n",
       "      <td>0.765447</td>\n",
       "      <td>0.408176</td>\n",
       "      <td>0.102622</td>\n",
       "    </tr>\n",
       "    <tr>\n",
       "      <th>2</th>\n",
       "      <td>Kyphosis</td>\n",
       "      <td>0.302996</td>\n",
       "      <td>0.360161</td>\n",
       "      <td>-0.300572</td>\n",
       "      <td>0.999665</td>\n",
       "      <td>0.302864</td>\n",
       "      <td>0.330085</td>\n",
       "      <td>-0.297248</td>\n",
       "      <td>0.999862</td>\n",
       "      <td>0.306778</td>\n",
       "      <td>...</td>\n",
       "      <td>0.431281</td>\n",
       "      <td>0.147043</td>\n",
       "      <td>0.627302</td>\n",
       "      <td>0.669536</td>\n",
       "      <td>0.442907</td>\n",
       "      <td>0.245324</td>\n",
       "      <td>0.655046</td>\n",
       "      <td>0.671010</td>\n",
       "      <td>0.522498</td>\n",
       "      <td>0.107088</td>\n",
       "    </tr>\n",
       "    <tr>\n",
       "      <th>3</th>\n",
       "      <td>Kyphosis</td>\n",
       "      <td>0.271275</td>\n",
       "      <td>0.380411</td>\n",
       "      <td>-0.171216</td>\n",
       "      <td>0.999645</td>\n",
       "      <td>0.272691</td>\n",
       "      <td>0.354127</td>\n",
       "      <td>-0.189469</td>\n",
       "      <td>0.999843</td>\n",
       "      <td>0.275812</td>\n",
       "      <td>...</td>\n",
       "      <td>0.616502</td>\n",
       "      <td>0.157351</td>\n",
       "      <td>0.588505</td>\n",
       "      <td>0.695069</td>\n",
       "      <td>0.470652</td>\n",
       "      <td>0.256621</td>\n",
       "      <td>0.605828</td>\n",
       "      <td>0.668642</td>\n",
       "      <td>0.642823</td>\n",
       "      <td>0.111029</td>\n",
       "    </tr>\n",
       "    <tr>\n",
       "      <th>4</th>\n",
       "      <td>Kyphosis</td>\n",
       "      <td>0.262538</td>\n",
       "      <td>0.407688</td>\n",
       "      <td>-0.140191</td>\n",
       "      <td>0.999395</td>\n",
       "      <td>0.262171</td>\n",
       "      <td>0.380181</td>\n",
       "      <td>-0.167395</td>\n",
       "      <td>0.999698</td>\n",
       "      <td>0.264408</td>\n",
       "      <td>...</td>\n",
       "      <td>0.574160</td>\n",
       "      <td>0.161589</td>\n",
       "      <td>0.584699</td>\n",
       "      <td>0.939907</td>\n",
       "      <td>0.428348</td>\n",
       "      <td>0.261725</td>\n",
       "      <td>0.601221</td>\n",
       "      <td>0.885697</td>\n",
       "      <td>0.595527</td>\n",
       "      <td>0.111110</td>\n",
       "    </tr>\n",
       "  </tbody>\n",
       "</table>\n",
       "<p>5 rows × 133 columns</p>\n",
       "</div>"
      ],
      "text/plain": [
       "      class        x1        y1        z1        v1        x2        y2  \\\n",
       "0  Kyphosis  0.306809  0.369044 -0.338260  0.999607  0.305489  0.337434   \n",
       "1  Kyphosis  0.309920  0.359889 -0.339014  0.999632  0.310283  0.329782   \n",
       "2  Kyphosis  0.302996  0.360161 -0.300572  0.999665  0.302864  0.330085   \n",
       "3  Kyphosis  0.271275  0.380411 -0.171216  0.999645  0.272691  0.354127   \n",
       "4  Kyphosis  0.262538  0.407688 -0.140191  0.999395  0.262171  0.380181   \n",
       "\n",
       "         z2        v2        x3  ...       z31       v31       x32       y32  \\\n",
       "0 -0.351246  0.999839  0.310803  ...  0.533763  0.126459  0.663247  0.746580   \n",
       "1 -0.348633  0.999849  0.315488  ...  0.395457  0.131070  0.662114  0.814646   \n",
       "2 -0.297248  0.999862  0.306778  ...  0.431281  0.147043  0.627302  0.669536   \n",
       "3 -0.189469  0.999843  0.275812  ...  0.616502  0.157351  0.588505  0.695069   \n",
       "4 -0.167395  0.999698  0.264408  ...  0.574160  0.161589  0.584699  0.939907   \n",
       "\n",
       "        z32       v32       x33       y33       z33       v33  \n",
       "0  0.378824  0.248668  0.660135  0.743640  0.531012  0.100851  \n",
       "1  0.254018  0.245539  0.662923  0.765447  0.408176  0.102622  \n",
       "2  0.442907  0.245324  0.655046  0.671010  0.522498  0.107088  \n",
       "3  0.470652  0.256621  0.605828  0.668642  0.642823  0.111029  \n",
       "4  0.428348  0.261725  0.601221  0.885697  0.595527  0.111110  \n",
       "\n",
       "[5 rows x 133 columns]"
      ]
     },
     "execution_count": 42,
     "metadata": {},
     "output_type": "execute_result"
    }
   ],
   "source": [
    "df.head()"
   ]
  },
  {
   "cell_type": "code",
   "execution_count": 44,
   "id": "e27e61bf-07ce-493a-9d3a-f1df234af6a1",
   "metadata": {},
   "outputs": [
    {
     "data": {
      "text/html": [
       "<div>\n",
       "<style scoped>\n",
       "    .dataframe tbody tr th:only-of-type {\n",
       "        vertical-align: middle;\n",
       "    }\n",
       "\n",
       "    .dataframe tbody tr th {\n",
       "        vertical-align: top;\n",
       "    }\n",
       "\n",
       "    .dataframe thead th {\n",
       "        text-align: right;\n",
       "    }\n",
       "</style>\n",
       "<table border=\"1\" class=\"dataframe\">\n",
       "  <thead>\n",
       "    <tr style=\"text-align: right;\">\n",
       "      <th></th>\n",
       "      <th>class</th>\n",
       "      <th>x1</th>\n",
       "      <th>y1</th>\n",
       "      <th>z1</th>\n",
       "      <th>v1</th>\n",
       "      <th>x2</th>\n",
       "      <th>y2</th>\n",
       "      <th>z2</th>\n",
       "      <th>v2</th>\n",
       "      <th>x3</th>\n",
       "      <th>...</th>\n",
       "      <th>z31</th>\n",
       "      <th>v31</th>\n",
       "      <th>x32</th>\n",
       "      <th>y32</th>\n",
       "      <th>z32</th>\n",
       "      <th>v32</th>\n",
       "      <th>x33</th>\n",
       "      <th>y33</th>\n",
       "      <th>z33</th>\n",
       "      <th>v33</th>\n",
       "    </tr>\n",
       "  </thead>\n",
       "  <tbody>\n",
       "    <tr>\n",
       "      <th>2263</th>\n",
       "      <td>Swayback</td>\n",
       "      <td>0.426985</td>\n",
       "      <td>0.208236</td>\n",
       "      <td>-0.427839</td>\n",
       "      <td>0.998122</td>\n",
       "      <td>0.442863</td>\n",
       "      <td>0.153357</td>\n",
       "      <td>-0.426593</td>\n",
       "      <td>0.998358</td>\n",
       "      <td>0.455852</td>\n",
       "      <td>...</td>\n",
       "      <td>0.694376</td>\n",
       "      <td>0.187991</td>\n",
       "      <td>0.473830</td>\n",
       "      <td>1.585674</td>\n",
       "      <td>0.279319</td>\n",
       "      <td>0.046165</td>\n",
       "      <td>0.418375</td>\n",
       "      <td>1.520033</td>\n",
       "      <td>0.586311</td>\n",
       "      <td>0.044149</td>\n",
       "    </tr>\n",
       "    <tr>\n",
       "      <th>2264</th>\n",
       "      <td>Swayback</td>\n",
       "      <td>0.424688</td>\n",
       "      <td>0.205641</td>\n",
       "      <td>-0.440398</td>\n",
       "      <td>0.998254</td>\n",
       "      <td>0.438814</td>\n",
       "      <td>0.147622</td>\n",
       "      <td>-0.448078</td>\n",
       "      <td>0.998457</td>\n",
       "      <td>0.451804</td>\n",
       "      <td>...</td>\n",
       "      <td>0.650220</td>\n",
       "      <td>0.171821</td>\n",
       "      <td>0.477154</td>\n",
       "      <td>1.765080</td>\n",
       "      <td>0.153006</td>\n",
       "      <td>0.044627</td>\n",
       "      <td>0.407342</td>\n",
       "      <td>1.761728</td>\n",
       "      <td>0.502931</td>\n",
       "      <td>0.041424</td>\n",
       "    </tr>\n",
       "    <tr>\n",
       "      <th>2265</th>\n",
       "      <td>Swayback</td>\n",
       "      <td>0.409316</td>\n",
       "      <td>0.203446</td>\n",
       "      <td>-0.563623</td>\n",
       "      <td>0.998411</td>\n",
       "      <td>0.425300</td>\n",
       "      <td>0.143956</td>\n",
       "      <td>-0.571647</td>\n",
       "      <td>0.998583</td>\n",
       "      <td>0.440482</td>\n",
       "      <td>...</td>\n",
       "      <td>0.740963</td>\n",
       "      <td>0.156119</td>\n",
       "      <td>0.490494</td>\n",
       "      <td>1.885802</td>\n",
       "      <td>0.221550</td>\n",
       "      <td>0.040821</td>\n",
       "      <td>0.410403</td>\n",
       "      <td>1.881217</td>\n",
       "      <td>0.538659</td>\n",
       "      <td>0.038428</td>\n",
       "    </tr>\n",
       "    <tr>\n",
       "      <th>2266</th>\n",
       "      <td>Swayback</td>\n",
       "      <td>0.404019</td>\n",
       "      <td>0.204181</td>\n",
       "      <td>-0.757971</td>\n",
       "      <td>0.998566</td>\n",
       "      <td>0.419599</td>\n",
       "      <td>0.143938</td>\n",
       "      <td>-0.763589</td>\n",
       "      <td>0.998718</td>\n",
       "      <td>0.436824</td>\n",
       "      <td>...</td>\n",
       "      <td>0.843208</td>\n",
       "      <td>0.142531</td>\n",
       "      <td>0.463253</td>\n",
       "      <td>1.897168</td>\n",
       "      <td>0.266343</td>\n",
       "      <td>0.038014</td>\n",
       "      <td>0.365331</td>\n",
       "      <td>1.894970</td>\n",
       "      <td>0.643694</td>\n",
       "      <td>0.036722</td>\n",
       "    </tr>\n",
       "    <tr>\n",
       "      <th>2267</th>\n",
       "      <td>Swayback</td>\n",
       "      <td>0.406006</td>\n",
       "      <td>0.203103</td>\n",
       "      <td>-0.889404</td>\n",
       "      <td>0.998705</td>\n",
       "      <td>0.424851</td>\n",
       "      <td>0.134925</td>\n",
       "      <td>-0.904933</td>\n",
       "      <td>0.998841</td>\n",
       "      <td>0.444404</td>\n",
       "      <td>...</td>\n",
       "      <td>0.922724</td>\n",
       "      <td>0.128801</td>\n",
       "      <td>0.469630</td>\n",
       "      <td>1.932393</td>\n",
       "      <td>0.274749</td>\n",
       "      <td>0.034562</td>\n",
       "      <td>0.381637</td>\n",
       "      <td>1.928715</td>\n",
       "      <td>0.696143</td>\n",
       "      <td>0.033751</td>\n",
       "    </tr>\n",
       "  </tbody>\n",
       "</table>\n",
       "<p>5 rows × 133 columns</p>\n",
       "</div>"
      ],
      "text/plain": [
       "         class        x1        y1        z1        v1        x2        y2  \\\n",
       "2263  Swayback  0.426985  0.208236 -0.427839  0.998122  0.442863  0.153357   \n",
       "2264  Swayback  0.424688  0.205641 -0.440398  0.998254  0.438814  0.147622   \n",
       "2265  Swayback  0.409316  0.203446 -0.563623  0.998411  0.425300  0.143956   \n",
       "2266  Swayback  0.404019  0.204181 -0.757971  0.998566  0.419599  0.143938   \n",
       "2267  Swayback  0.406006  0.203103 -0.889404  0.998705  0.424851  0.134925   \n",
       "\n",
       "            z2        v2        x3  ...       z31       v31       x32  \\\n",
       "2263 -0.426593  0.998358  0.455852  ...  0.694376  0.187991  0.473830   \n",
       "2264 -0.448078  0.998457  0.451804  ...  0.650220  0.171821  0.477154   \n",
       "2265 -0.571647  0.998583  0.440482  ...  0.740963  0.156119  0.490494   \n",
       "2266 -0.763589  0.998718  0.436824  ...  0.843208  0.142531  0.463253   \n",
       "2267 -0.904933  0.998841  0.444404  ...  0.922724  0.128801  0.469630   \n",
       "\n",
       "           y32       z32       v32       x33       y33       z33       v33  \n",
       "2263  1.585674  0.279319  0.046165  0.418375  1.520033  0.586311  0.044149  \n",
       "2264  1.765080  0.153006  0.044627  0.407342  1.761728  0.502931  0.041424  \n",
       "2265  1.885802  0.221550  0.040821  0.410403  1.881217  0.538659  0.038428  \n",
       "2266  1.897168  0.266343  0.038014  0.365331  1.894970  0.643694  0.036722  \n",
       "2267  1.932393  0.274749  0.034562  0.381637  1.928715  0.696143  0.033751  \n",
       "\n",
       "[5 rows x 133 columns]"
      ]
     },
     "execution_count": 44,
     "metadata": {},
     "output_type": "execute_result"
    }
   ],
   "source": [
    "df.tail()"
   ]
  },
  {
   "cell_type": "code",
   "execution_count": 46,
   "id": "ff7eab69-4c0c-4343-a177-fdb56d00e6c7",
   "metadata": {},
   "outputs": [
    {
     "data": {
      "text/html": [
       "<div>\n",
       "<style scoped>\n",
       "    .dataframe tbody tr th:only-of-type {\n",
       "        vertical-align: middle;\n",
       "    }\n",
       "\n",
       "    .dataframe tbody tr th {\n",
       "        vertical-align: top;\n",
       "    }\n",
       "\n",
       "    .dataframe thead th {\n",
       "        text-align: right;\n",
       "    }\n",
       "</style>\n",
       "<table border=\"1\" class=\"dataframe\">\n",
       "  <thead>\n",
       "    <tr style=\"text-align: right;\">\n",
       "      <th></th>\n",
       "      <th>class</th>\n",
       "      <th>x1</th>\n",
       "      <th>y1</th>\n",
       "      <th>z1</th>\n",
       "      <th>v1</th>\n",
       "      <th>x2</th>\n",
       "      <th>y2</th>\n",
       "      <th>z2</th>\n",
       "      <th>v2</th>\n",
       "      <th>x3</th>\n",
       "      <th>...</th>\n",
       "      <th>z31</th>\n",
       "      <th>v31</th>\n",
       "      <th>x32</th>\n",
       "      <th>y32</th>\n",
       "      <th>z32</th>\n",
       "      <th>v32</th>\n",
       "      <th>x33</th>\n",
       "      <th>y33</th>\n",
       "      <th>z33</th>\n",
       "      <th>v33</th>\n",
       "    </tr>\n",
       "  </thead>\n",
       "  <tbody>\n",
       "    <tr>\n",
       "      <th>1066</th>\n",
       "      <td>Normal</td>\n",
       "      <td>0.389033</td>\n",
       "      <td>0.297662</td>\n",
       "      <td>-0.308170</td>\n",
       "      <td>0.999636</td>\n",
       "      <td>0.392169</td>\n",
       "      <td>0.268025</td>\n",
       "      <td>-0.326028</td>\n",
       "      <td>0.999846</td>\n",
       "      <td>0.395845</td>\n",
       "      <td>...</td>\n",
       "      <td>0.676603</td>\n",
       "      <td>0.098571</td>\n",
       "      <td>0.646024</td>\n",
       "      <td>0.893544</td>\n",
       "      <td>0.489781</td>\n",
       "      <td>0.477888</td>\n",
       "      <td>0.599479</td>\n",
       "      <td>0.807781</td>\n",
       "      <td>0.688285</td>\n",
       "      <td>0.074278</td>\n",
       "    </tr>\n",
       "    <tr>\n",
       "      <th>1067</th>\n",
       "      <td>Normal</td>\n",
       "      <td>0.387780</td>\n",
       "      <td>0.297871</td>\n",
       "      <td>-0.264961</td>\n",
       "      <td>0.999553</td>\n",
       "      <td>0.389227</td>\n",
       "      <td>0.268058</td>\n",
       "      <td>-0.285174</td>\n",
       "      <td>0.999802</td>\n",
       "      <td>0.393148</td>\n",
       "      <td>...</td>\n",
       "      <td>0.487974</td>\n",
       "      <td>0.101483</td>\n",
       "      <td>0.633768</td>\n",
       "      <td>0.919587</td>\n",
       "      <td>0.297903</td>\n",
       "      <td>0.461963</td>\n",
       "      <td>0.601519</td>\n",
       "      <td>0.853819</td>\n",
       "      <td>0.502277</td>\n",
       "      <td>0.073663</td>\n",
       "    </tr>\n",
       "    <tr>\n",
       "      <th>1068</th>\n",
       "      <td>Normal</td>\n",
       "      <td>0.382842</td>\n",
       "      <td>0.297816</td>\n",
       "      <td>-0.277435</td>\n",
       "      <td>0.999543</td>\n",
       "      <td>0.384608</td>\n",
       "      <td>0.267730</td>\n",
       "      <td>-0.296630</td>\n",
       "      <td>0.999792</td>\n",
       "      <td>0.388417</td>\n",
       "      <td>...</td>\n",
       "      <td>0.721012</td>\n",
       "      <td>0.105054</td>\n",
       "      <td>0.641114</td>\n",
       "      <td>0.915034</td>\n",
       "      <td>0.533327</td>\n",
       "      <td>0.436521</td>\n",
       "      <td>0.652824</td>\n",
       "      <td>0.842369</td>\n",
       "      <td>0.711869</td>\n",
       "      <td>0.071356</td>\n",
       "    </tr>\n",
       "    <tr>\n",
       "      <th>1069</th>\n",
       "      <td>Normal</td>\n",
       "      <td>0.382308</td>\n",
       "      <td>0.294581</td>\n",
       "      <td>-0.292458</td>\n",
       "      <td>0.999573</td>\n",
       "      <td>0.384319</td>\n",
       "      <td>0.264490</td>\n",
       "      <td>-0.309977</td>\n",
       "      <td>0.999804</td>\n",
       "      <td>0.388362</td>\n",
       "      <td>...</td>\n",
       "      <td>0.692743</td>\n",
       "      <td>0.120032</td>\n",
       "      <td>0.641295</td>\n",
       "      <td>0.913037</td>\n",
       "      <td>0.485795</td>\n",
       "      <td>0.416101</td>\n",
       "      <td>0.670119</td>\n",
       "      <td>0.886799</td>\n",
       "      <td>0.653056</td>\n",
       "      <td>0.073573</td>\n",
       "    </tr>\n",
       "    <tr>\n",
       "      <th>1070</th>\n",
       "      <td>Normal</td>\n",
       "      <td>0.386640</td>\n",
       "      <td>0.275802</td>\n",
       "      <td>-0.338453</td>\n",
       "      <td>0.999605</td>\n",
       "      <td>0.391787</td>\n",
       "      <td>0.244492</td>\n",
       "      <td>-0.343495</td>\n",
       "      <td>0.999815</td>\n",
       "      <td>0.397317</td>\n",
       "      <td>...</td>\n",
       "      <td>0.722525</td>\n",
       "      <td>0.145787</td>\n",
       "      <td>0.641249</td>\n",
       "      <td>0.832424</td>\n",
       "      <td>0.629099</td>\n",
       "      <td>0.392386</td>\n",
       "      <td>0.682782</td>\n",
       "      <td>0.871589</td>\n",
       "      <td>0.705023</td>\n",
       "      <td>0.078725</td>\n",
       "    </tr>\n",
       "    <tr>\n",
       "      <th>...</th>\n",
       "      <td>...</td>\n",
       "      <td>...</td>\n",
       "      <td>...</td>\n",
       "      <td>...</td>\n",
       "      <td>...</td>\n",
       "      <td>...</td>\n",
       "      <td>...</td>\n",
       "      <td>...</td>\n",
       "      <td>...</td>\n",
       "      <td>...</td>\n",
       "      <td>...</td>\n",
       "      <td>...</td>\n",
       "      <td>...</td>\n",
       "      <td>...</td>\n",
       "      <td>...</td>\n",
       "      <td>...</td>\n",
       "      <td>...</td>\n",
       "      <td>...</td>\n",
       "      <td>...</td>\n",
       "      <td>...</td>\n",
       "      <td>...</td>\n",
       "    </tr>\n",
       "    <tr>\n",
       "      <th>1580</th>\n",
       "      <td>Normal</td>\n",
       "      <td>0.557521</td>\n",
       "      <td>0.235475</td>\n",
       "      <td>-0.403168</td>\n",
       "      <td>0.991973</td>\n",
       "      <td>0.572980</td>\n",
       "      <td>0.189207</td>\n",
       "      <td>-0.412615</td>\n",
       "      <td>0.993904</td>\n",
       "      <td>0.585802</td>\n",
       "      <td>...</td>\n",
       "      <td>0.453261</td>\n",
       "      <td>0.147967</td>\n",
       "      <td>0.616918</td>\n",
       "      <td>1.587200</td>\n",
       "      <td>-0.010358</td>\n",
       "      <td>0.044935</td>\n",
       "      <td>0.547541</td>\n",
       "      <td>1.630129</td>\n",
       "      <td>0.328099</td>\n",
       "      <td>0.034063</td>\n",
       "    </tr>\n",
       "    <tr>\n",
       "      <th>1581</th>\n",
       "      <td>Normal</td>\n",
       "      <td>0.539614</td>\n",
       "      <td>0.211028</td>\n",
       "      <td>-0.593535</td>\n",
       "      <td>0.992654</td>\n",
       "      <td>0.557741</td>\n",
       "      <td>0.157769</td>\n",
       "      <td>-0.590278</td>\n",
       "      <td>0.994380</td>\n",
       "      <td>0.573936</td>\n",
       "      <td>...</td>\n",
       "      <td>0.636543</td>\n",
       "      <td>0.136550</td>\n",
       "      <td>0.600366</td>\n",
       "      <td>1.711734</td>\n",
       "      <td>0.060404</td>\n",
       "      <td>0.041488</td>\n",
       "      <td>0.495162</td>\n",
       "      <td>1.694149</td>\n",
       "      <td>0.427522</td>\n",
       "      <td>0.031988</td>\n",
       "    </tr>\n",
       "    <tr>\n",
       "      <th>1582</th>\n",
       "      <td>Normal</td>\n",
       "      <td>0.528506</td>\n",
       "      <td>0.199482</td>\n",
       "      <td>-0.651356</td>\n",
       "      <td>0.993330</td>\n",
       "      <td>0.546290</td>\n",
       "      <td>0.141744</td>\n",
       "      <td>-0.648889</td>\n",
       "      <td>0.994867</td>\n",
       "      <td>0.562464</td>\n",
       "      <td>...</td>\n",
       "      <td>0.815539</td>\n",
       "      <td>0.125019</td>\n",
       "      <td>0.596582</td>\n",
       "      <td>1.679104</td>\n",
       "      <td>0.193665</td>\n",
       "      <td>0.038327</td>\n",
       "      <td>0.485324</td>\n",
       "      <td>1.667349</td>\n",
       "      <td>0.666720</td>\n",
       "      <td>0.030065</td>\n",
       "    </tr>\n",
       "    <tr>\n",
       "      <th>1583</th>\n",
       "      <td>Normal</td>\n",
       "      <td>0.509218</td>\n",
       "      <td>0.177804</td>\n",
       "      <td>-0.686427</td>\n",
       "      <td>0.993931</td>\n",
       "      <td>0.528799</td>\n",
       "      <td>0.118965</td>\n",
       "      <td>-0.679566</td>\n",
       "      <td>0.995281</td>\n",
       "      <td>0.547798</td>\n",
       "      <td>...</td>\n",
       "      <td>0.963060</td>\n",
       "      <td>0.118446</td>\n",
       "      <td>0.608580</td>\n",
       "      <td>1.607669</td>\n",
       "      <td>0.337442</td>\n",
       "      <td>0.037004</td>\n",
       "      <td>0.484110</td>\n",
       "      <td>1.582783</td>\n",
       "      <td>0.865755</td>\n",
       "      <td>0.030230</td>\n",
       "    </tr>\n",
       "    <tr>\n",
       "      <th>1584</th>\n",
       "      <td>Normal</td>\n",
       "      <td>0.490744</td>\n",
       "      <td>0.154307</td>\n",
       "      <td>-0.714486</td>\n",
       "      <td>0.994473</td>\n",
       "      <td>0.507580</td>\n",
       "      <td>0.096782</td>\n",
       "      <td>-0.711498</td>\n",
       "      <td>0.995663</td>\n",
       "      <td>0.526315</td>\n",
       "      <td>...</td>\n",
       "      <td>0.895970</td>\n",
       "      <td>0.111404</td>\n",
       "      <td>0.611966</td>\n",
       "      <td>1.657461</td>\n",
       "      <td>0.284474</td>\n",
       "      <td>0.034536</td>\n",
       "      <td>0.487305</td>\n",
       "      <td>1.627364</td>\n",
       "      <td>0.762617</td>\n",
       "      <td>0.029483</td>\n",
       "    </tr>\n",
       "  </tbody>\n",
       "</table>\n",
       "<p>519 rows × 133 columns</p>\n",
       "</div>"
      ],
      "text/plain": [
       "       class        x1        y1        z1        v1        x2        y2  \\\n",
       "1066  Normal  0.389033  0.297662 -0.308170  0.999636  0.392169  0.268025   \n",
       "1067  Normal  0.387780  0.297871 -0.264961  0.999553  0.389227  0.268058   \n",
       "1068  Normal  0.382842  0.297816 -0.277435  0.999543  0.384608  0.267730   \n",
       "1069  Normal  0.382308  0.294581 -0.292458  0.999573  0.384319  0.264490   \n",
       "1070  Normal  0.386640  0.275802 -0.338453  0.999605  0.391787  0.244492   \n",
       "...      ...       ...       ...       ...       ...       ...       ...   \n",
       "1580  Normal  0.557521  0.235475 -0.403168  0.991973  0.572980  0.189207   \n",
       "1581  Normal  0.539614  0.211028 -0.593535  0.992654  0.557741  0.157769   \n",
       "1582  Normal  0.528506  0.199482 -0.651356  0.993330  0.546290  0.141744   \n",
       "1583  Normal  0.509218  0.177804 -0.686427  0.993931  0.528799  0.118965   \n",
       "1584  Normal  0.490744  0.154307 -0.714486  0.994473  0.507580  0.096782   \n",
       "\n",
       "            z2        v2        x3  ...       z31       v31       x32  \\\n",
       "1066 -0.326028  0.999846  0.395845  ...  0.676603  0.098571  0.646024   \n",
       "1067 -0.285174  0.999802  0.393148  ...  0.487974  0.101483  0.633768   \n",
       "1068 -0.296630  0.999792  0.388417  ...  0.721012  0.105054  0.641114   \n",
       "1069 -0.309977  0.999804  0.388362  ...  0.692743  0.120032  0.641295   \n",
       "1070 -0.343495  0.999815  0.397317  ...  0.722525  0.145787  0.641249   \n",
       "...        ...       ...       ...  ...       ...       ...       ...   \n",
       "1580 -0.412615  0.993904  0.585802  ...  0.453261  0.147967  0.616918   \n",
       "1581 -0.590278  0.994380  0.573936  ...  0.636543  0.136550  0.600366   \n",
       "1582 -0.648889  0.994867  0.562464  ...  0.815539  0.125019  0.596582   \n",
       "1583 -0.679566  0.995281  0.547798  ...  0.963060  0.118446  0.608580   \n",
       "1584 -0.711498  0.995663  0.526315  ...  0.895970  0.111404  0.611966   \n",
       "\n",
       "           y32       z32       v32       x33       y33       z33       v33  \n",
       "1066  0.893544  0.489781  0.477888  0.599479  0.807781  0.688285  0.074278  \n",
       "1067  0.919587  0.297903  0.461963  0.601519  0.853819  0.502277  0.073663  \n",
       "1068  0.915034  0.533327  0.436521  0.652824  0.842369  0.711869  0.071356  \n",
       "1069  0.913037  0.485795  0.416101  0.670119  0.886799  0.653056  0.073573  \n",
       "1070  0.832424  0.629099  0.392386  0.682782  0.871589  0.705023  0.078725  \n",
       "...        ...       ...       ...       ...       ...       ...       ...  \n",
       "1580  1.587200 -0.010358  0.044935  0.547541  1.630129  0.328099  0.034063  \n",
       "1581  1.711734  0.060404  0.041488  0.495162  1.694149  0.427522  0.031988  \n",
       "1582  1.679104  0.193665  0.038327  0.485324  1.667349  0.666720  0.030065  \n",
       "1583  1.607669  0.337442  0.037004  0.484110  1.582783  0.865755  0.030230  \n",
       "1584  1.657461  0.284474  0.034536  0.487305  1.627364  0.762617  0.029483  \n",
       "\n",
       "[519 rows x 133 columns]"
      ]
     },
     "execution_count": 46,
     "metadata": {},
     "output_type": "execute_result"
    }
   ],
   "source": [
    "df[df['class']=='Normal']"
   ]
  },
  {
   "cell_type": "code",
   "execution_count": 48,
   "id": "33cd9123-c29b-49b3-99a1-d93d390c3094",
   "metadata": {},
   "outputs": [],
   "source": [
    "X = df.drop('class', axis=1) # features (data entries)\n",
    "y = df['class'] # target value (classes)"
   ]
  },
  {
   "cell_type": "code",
   "execution_count": 50,
   "id": "b82f88ee-9b6e-43de-86b1-b8e48a2c926a",
   "metadata": {},
   "outputs": [],
   "source": [
    "X_train, X_test, y_train, y_test = train_test_split(X, y, test_size=0.3, random_state=1234)"
   ]
  },
  {
   "cell_type": "code",
   "execution_count": 52,
   "id": "49c1d5e9-4f2d-4e2e-99ba-0a0dcae30af3",
   "metadata": {},
   "outputs": [
    {
     "data": {
      "text/html": [
       "<div>\n",
       "<style scoped>\n",
       "    .dataframe tbody tr th:only-of-type {\n",
       "        vertical-align: middle;\n",
       "    }\n",
       "\n",
       "    .dataframe tbody tr th {\n",
       "        vertical-align: top;\n",
       "    }\n",
       "\n",
       "    .dataframe thead th {\n",
       "        text-align: right;\n",
       "    }\n",
       "</style>\n",
       "<table border=\"1\" class=\"dataframe\">\n",
       "  <thead>\n",
       "    <tr style=\"text-align: right;\">\n",
       "      <th></th>\n",
       "      <th>x1</th>\n",
       "      <th>y1</th>\n",
       "      <th>z1</th>\n",
       "      <th>v1</th>\n",
       "      <th>x2</th>\n",
       "      <th>y2</th>\n",
       "      <th>z2</th>\n",
       "      <th>v2</th>\n",
       "      <th>x3</th>\n",
       "      <th>y3</th>\n",
       "      <th>...</th>\n",
       "      <th>z31</th>\n",
       "      <th>v31</th>\n",
       "      <th>x32</th>\n",
       "      <th>y32</th>\n",
       "      <th>z32</th>\n",
       "      <th>v32</th>\n",
       "      <th>x33</th>\n",
       "      <th>y33</th>\n",
       "      <th>z33</th>\n",
       "      <th>v33</th>\n",
       "    </tr>\n",
       "  </thead>\n",
       "  <tbody>\n",
       "    <tr>\n",
       "      <th>774</th>\n",
       "      <td>0.625225</td>\n",
       "      <td>0.190452</td>\n",
       "      <td>-0.423613</td>\n",
       "      <td>0.999536</td>\n",
       "      <td>0.640050</td>\n",
       "      <td>0.156867</td>\n",
       "      <td>-0.432088</td>\n",
       "      <td>0.999604</td>\n",
       "      <td>0.647301</td>\n",
       "      <td>0.154814</td>\n",
       "      <td>...</td>\n",
       "      <td>0.579189</td>\n",
       "      <td>0.167981</td>\n",
       "      <td>0.452943</td>\n",
       "      <td>1.493100</td>\n",
       "      <td>0.226756</td>\n",
       "      <td>0.040371</td>\n",
       "      <td>0.437188</td>\n",
       "      <td>1.478774</td>\n",
       "      <td>0.473384</td>\n",
       "      <td>0.031725</td>\n",
       "    </tr>\n",
       "    <tr>\n",
       "      <th>1966</th>\n",
       "      <td>0.507098</td>\n",
       "      <td>0.209976</td>\n",
       "      <td>0.408073</td>\n",
       "      <td>0.996464</td>\n",
       "      <td>0.494951</td>\n",
       "      <td>0.180737</td>\n",
       "      <td>0.326318</td>\n",
       "      <td>0.996934</td>\n",
       "      <td>0.486520</td>\n",
       "      <td>0.182072</td>\n",
       "      <td>...</td>\n",
       "      <td>0.622792</td>\n",
       "      <td>0.494000</td>\n",
       "      <td>0.437337</td>\n",
       "      <td>1.328152</td>\n",
       "      <td>0.673737</td>\n",
       "      <td>0.215186</td>\n",
       "      <td>0.518710</td>\n",
       "      <td>1.319369</td>\n",
       "      <td>0.628032</td>\n",
       "      <td>0.321634</td>\n",
       "    </tr>\n",
       "    <tr>\n",
       "      <th>1702</th>\n",
       "      <td>0.438841</td>\n",
       "      <td>0.364948</td>\n",
       "      <td>-0.749655</td>\n",
       "      <td>0.999206</td>\n",
       "      <td>0.453557</td>\n",
       "      <td>0.319257</td>\n",
       "      <td>-0.743001</td>\n",
       "      <td>0.998476</td>\n",
       "      <td>0.467209</td>\n",
       "      <td>0.316702</td>\n",
       "      <td>...</td>\n",
       "      <td>0.218532</td>\n",
       "      <td>0.053734</td>\n",
       "      <td>0.518128</td>\n",
       "      <td>1.793368</td>\n",
       "      <td>-0.021541</td>\n",
       "      <td>0.020647</td>\n",
       "      <td>0.417008</td>\n",
       "      <td>1.780375</td>\n",
       "      <td>-0.009037</td>\n",
       "      <td>0.036711</td>\n",
       "    </tr>\n",
       "    <tr>\n",
       "      <th>2126</th>\n",
       "      <td>0.524480</td>\n",
       "      <td>0.217384</td>\n",
       "      <td>-0.463555</td>\n",
       "      <td>0.999606</td>\n",
       "      <td>0.540105</td>\n",
       "      <td>0.182611</td>\n",
       "      <td>-0.441685</td>\n",
       "      <td>0.999317</td>\n",
       "      <td>0.550945</td>\n",
       "      <td>0.183393</td>\n",
       "      <td>...</td>\n",
       "      <td>0.359545</td>\n",
       "      <td>0.021717</td>\n",
       "      <td>0.546596</td>\n",
       "      <td>1.845711</td>\n",
       "      <td>0.199415</td>\n",
       "      <td>0.011841</td>\n",
       "      <td>0.432788</td>\n",
       "      <td>1.817092</td>\n",
       "      <td>0.079114</td>\n",
       "      <td>0.009065</td>\n",
       "    </tr>\n",
       "    <tr>\n",
       "      <th>754</th>\n",
       "      <td>0.660419</td>\n",
       "      <td>0.296974</td>\n",
       "      <td>-0.218885</td>\n",
       "      <td>0.999871</td>\n",
       "      <td>0.672740</td>\n",
       "      <td>0.267928</td>\n",
       "      <td>-0.238005</td>\n",
       "      <td>0.999854</td>\n",
       "      <td>0.679502</td>\n",
       "      <td>0.266642</td>\n",
       "      <td>...</td>\n",
       "      <td>0.353100</td>\n",
       "      <td>0.192371</td>\n",
       "      <td>0.555548</td>\n",
       "      <td>1.365661</td>\n",
       "      <td>0.051729</td>\n",
       "      <td>0.055442</td>\n",
       "      <td>0.532549</td>\n",
       "      <td>1.385910</td>\n",
       "      <td>0.278242</td>\n",
       "      <td>0.036377</td>\n",
       "    </tr>\n",
       "    <tr>\n",
       "      <th>...</th>\n",
       "      <td>...</td>\n",
       "      <td>...</td>\n",
       "      <td>...</td>\n",
       "      <td>...</td>\n",
       "      <td>...</td>\n",
       "      <td>...</td>\n",
       "      <td>...</td>\n",
       "      <td>...</td>\n",
       "      <td>...</td>\n",
       "      <td>...</td>\n",
       "      <td>...</td>\n",
       "      <td>...</td>\n",
       "      <td>...</td>\n",
       "      <td>...</td>\n",
       "      <td>...</td>\n",
       "      <td>...</td>\n",
       "      <td>...</td>\n",
       "      <td>...</td>\n",
       "      <td>...</td>\n",
       "      <td>...</td>\n",
       "      <td>...</td>\n",
       "    </tr>\n",
       "    <tr>\n",
       "      <th>279</th>\n",
       "      <td>0.494151</td>\n",
       "      <td>0.418277</td>\n",
       "      <td>-0.034384</td>\n",
       "      <td>0.997463</td>\n",
       "      <td>0.508329</td>\n",
       "      <td>0.397173</td>\n",
       "      <td>-0.021002</td>\n",
       "      <td>0.995752</td>\n",
       "      <td>0.508783</td>\n",
       "      <td>0.397613</td>\n",
       "      <td>...</td>\n",
       "      <td>-0.009464</td>\n",
       "      <td>0.302190</td>\n",
       "      <td>0.322448</td>\n",
       "      <td>1.624560</td>\n",
       "      <td>0.368114</td>\n",
       "      <td>0.063418</td>\n",
       "      <td>0.321721</td>\n",
       "      <td>1.706035</td>\n",
       "      <td>-0.112005</td>\n",
       "      <td>0.161021</td>\n",
       "    </tr>\n",
       "    <tr>\n",
       "      <th>2041</th>\n",
       "      <td>0.460195</td>\n",
       "      <td>0.171637</td>\n",
       "      <td>-0.427935</td>\n",
       "      <td>0.997728</td>\n",
       "      <td>0.481651</td>\n",
       "      <td>0.126622</td>\n",
       "      <td>-0.422341</td>\n",
       "      <td>0.997865</td>\n",
       "      <td>0.492862</td>\n",
       "      <td>0.125013</td>\n",
       "      <td>...</td>\n",
       "      <td>0.418722</td>\n",
       "      <td>0.123818</td>\n",
       "      <td>0.551861</td>\n",
       "      <td>1.728104</td>\n",
       "      <td>0.137882</td>\n",
       "      <td>0.061920</td>\n",
       "      <td>0.542118</td>\n",
       "      <td>1.738869</td>\n",
       "      <td>0.267276</td>\n",
       "      <td>0.030237</td>\n",
       "    </tr>\n",
       "    <tr>\n",
       "      <th>664</th>\n",
       "      <td>0.759120</td>\n",
       "      <td>0.179223</td>\n",
       "      <td>-0.470160</td>\n",
       "      <td>0.999704</td>\n",
       "      <td>0.765743</td>\n",
       "      <td>0.147332</td>\n",
       "      <td>-0.442012</td>\n",
       "      <td>0.999589</td>\n",
       "      <td>0.773748</td>\n",
       "      <td>0.149163</td>\n",
       "      <td>...</td>\n",
       "      <td>0.272399</td>\n",
       "      <td>0.355709</td>\n",
       "      <td>0.670722</td>\n",
       "      <td>1.459957</td>\n",
       "      <td>0.580692</td>\n",
       "      <td>0.146061</td>\n",
       "      <td>0.624480</td>\n",
       "      <td>1.529357</td>\n",
       "      <td>0.160314</td>\n",
       "      <td>0.294806</td>\n",
       "    </tr>\n",
       "    <tr>\n",
       "      <th>1318</th>\n",
       "      <td>0.460829</td>\n",
       "      <td>0.163850</td>\n",
       "      <td>0.347706</td>\n",
       "      <td>0.984073</td>\n",
       "      <td>0.451910</td>\n",
       "      <td>0.130426</td>\n",
       "      <td>0.266625</td>\n",
       "      <td>0.987592</td>\n",
       "      <td>0.443460</td>\n",
       "      <td>0.128995</td>\n",
       "      <td>...</td>\n",
       "      <td>0.474314</td>\n",
       "      <td>0.212718</td>\n",
       "      <td>0.447335</td>\n",
       "      <td>1.618458</td>\n",
       "      <td>0.406737</td>\n",
       "      <td>0.071034</td>\n",
       "      <td>0.536427</td>\n",
       "      <td>1.636591</td>\n",
       "      <td>0.379864</td>\n",
       "      <td>0.074074</td>\n",
       "    </tr>\n",
       "    <tr>\n",
       "      <th>723</th>\n",
       "      <td>0.451163</td>\n",
       "      <td>0.323466</td>\n",
       "      <td>-0.198106</td>\n",
       "      <td>0.999947</td>\n",
       "      <td>0.462422</td>\n",
       "      <td>0.296493</td>\n",
       "      <td>-0.212376</td>\n",
       "      <td>0.999938</td>\n",
       "      <td>0.468104</td>\n",
       "      <td>0.295468</td>\n",
       "      <td>...</td>\n",
       "      <td>0.241907</td>\n",
       "      <td>0.175847</td>\n",
       "      <td>0.360810</td>\n",
       "      <td>1.406644</td>\n",
       "      <td>-0.010826</td>\n",
       "      <td>0.046387</td>\n",
       "      <td>0.359370</td>\n",
       "      <td>1.416301</td>\n",
       "      <td>0.159724</td>\n",
       "      <td>0.038851</td>\n",
       "    </tr>\n",
       "  </tbody>\n",
       "</table>\n",
       "<p>1587 rows × 132 columns</p>\n",
       "</div>"
      ],
      "text/plain": [
       "            x1        y1        z1        v1        x2        y2        z2  \\\n",
       "774   0.625225  0.190452 -0.423613  0.999536  0.640050  0.156867 -0.432088   \n",
       "1966  0.507098  0.209976  0.408073  0.996464  0.494951  0.180737  0.326318   \n",
       "1702  0.438841  0.364948 -0.749655  0.999206  0.453557  0.319257 -0.743001   \n",
       "2126  0.524480  0.217384 -0.463555  0.999606  0.540105  0.182611 -0.441685   \n",
       "754   0.660419  0.296974 -0.218885  0.999871  0.672740  0.267928 -0.238005   \n",
       "...        ...       ...       ...       ...       ...       ...       ...   \n",
       "279   0.494151  0.418277 -0.034384  0.997463  0.508329  0.397173 -0.021002   \n",
       "2041  0.460195  0.171637 -0.427935  0.997728  0.481651  0.126622 -0.422341   \n",
       "664   0.759120  0.179223 -0.470160  0.999704  0.765743  0.147332 -0.442012   \n",
       "1318  0.460829  0.163850  0.347706  0.984073  0.451910  0.130426  0.266625   \n",
       "723   0.451163  0.323466 -0.198106  0.999947  0.462422  0.296493 -0.212376   \n",
       "\n",
       "            v2        x3        y3  ...       z31       v31       x32  \\\n",
       "774   0.999604  0.647301  0.154814  ...  0.579189  0.167981  0.452943   \n",
       "1966  0.996934  0.486520  0.182072  ...  0.622792  0.494000  0.437337   \n",
       "1702  0.998476  0.467209  0.316702  ...  0.218532  0.053734  0.518128   \n",
       "2126  0.999317  0.550945  0.183393  ...  0.359545  0.021717  0.546596   \n",
       "754   0.999854  0.679502  0.266642  ...  0.353100  0.192371  0.555548   \n",
       "...        ...       ...       ...  ...       ...       ...       ...   \n",
       "279   0.995752  0.508783  0.397613  ... -0.009464  0.302190  0.322448   \n",
       "2041  0.997865  0.492862  0.125013  ...  0.418722  0.123818  0.551861   \n",
       "664   0.999589  0.773748  0.149163  ...  0.272399  0.355709  0.670722   \n",
       "1318  0.987592  0.443460  0.128995  ...  0.474314  0.212718  0.447335   \n",
       "723   0.999938  0.468104  0.295468  ...  0.241907  0.175847  0.360810   \n",
       "\n",
       "           y32       z32       v32       x33       y33       z33       v33  \n",
       "774   1.493100  0.226756  0.040371  0.437188  1.478774  0.473384  0.031725  \n",
       "1966  1.328152  0.673737  0.215186  0.518710  1.319369  0.628032  0.321634  \n",
       "1702  1.793368 -0.021541  0.020647  0.417008  1.780375 -0.009037  0.036711  \n",
       "2126  1.845711  0.199415  0.011841  0.432788  1.817092  0.079114  0.009065  \n",
       "754   1.365661  0.051729  0.055442  0.532549  1.385910  0.278242  0.036377  \n",
       "...        ...       ...       ...       ...       ...       ...       ...  \n",
       "279   1.624560  0.368114  0.063418  0.321721  1.706035 -0.112005  0.161021  \n",
       "2041  1.728104  0.137882  0.061920  0.542118  1.738869  0.267276  0.030237  \n",
       "664   1.459957  0.580692  0.146061  0.624480  1.529357  0.160314  0.294806  \n",
       "1318  1.618458  0.406737  0.071034  0.536427  1.636591  0.379864  0.074074  \n",
       "723   1.406644 -0.010826  0.046387  0.359370  1.416301  0.159724  0.038851  \n",
       "\n",
       "[1587 rows x 132 columns]"
      ]
     },
     "execution_count": 52,
     "metadata": {},
     "output_type": "execute_result"
    }
   ],
   "source": [
    "X_train"
   ]
  },
  {
   "cell_type": "markdown",
   "id": "2ab4c7e9-63de-4477-bc9f-40144afb7711",
   "metadata": {},
   "source": [
    "# MODEL TRAINING USING 4 ALGORITHMS"
   ]
  },
  {
   "cell_type": "code",
   "execution_count": 54,
   "id": "0555374d-c80f-47ee-996b-1c1e4569a157",
   "metadata": {},
   "outputs": [],
   "source": [
    "from sklearn.pipeline import make_pipeline\n",
    "from sklearn.preprocessing import StandardScaler\n",
    "\n",
    "from sklearn.linear_model import LogisticRegression, RidgeClassifier\n",
    "from sklearn.ensemble import RandomForestClassifier, GradientBoostingClassifier"
   ]
  },
  {
   "cell_type": "code",
   "execution_count": 56,
   "id": "1c0e38c7-963f-4181-aff5-276789fd7df3",
   "metadata": {},
   "outputs": [],
   "source": [
    "pipelines = {\n",
    "    'lr': make_pipeline(StandardScaler(), LogisticRegression()),\n",
    "    'rc': make_pipeline(StandardScaler(), RidgeClassifier()),\n",
    "    'rf': make_pipeline(StandardScaler(), RandomForestClassifier()),\n",
    "    'gb': make_pipeline(StandardScaler(), GradientBoostingClassifier()),\n",
    "}"
   ]
  },
  {
   "cell_type": "code",
   "execution_count": 58,
   "id": "de291ce5-9376-4d42-bd1e-669e108a90fb",
   "metadata": {},
   "outputs": [
    {
     "name": "stderr",
     "output_type": "stream",
     "text": [
      "D:\\coding\\hereLiesAanaconda\\Lib\\site-packages\\sklearn\\linear_model\\_logistic.py:469: ConvergenceWarning: lbfgs failed to converge (status=1):\n",
      "STOP: TOTAL NO. of ITERATIONS REACHED LIMIT.\n",
      "\n",
      "Increase the number of iterations (max_iter) or scale the data as shown in:\n",
      "    https://scikit-learn.org/stable/modules/preprocessing.html\n",
      "Please also refer to the documentation for alternative solver options:\n",
      "    https://scikit-learn.org/stable/modules/linear_model.html#logistic-regression\n",
      "  n_iter_i = _check_optimize_result(\n"
     ]
    }
   ],
   "source": [
    "fit_models = {}\n",
    "for algo, pipeline in pipelines.items():\n",
    "    model = pipeline.fit(X_train, y_train)\n",
    "    fit_models[algo] = model"
   ]
  },
  {
   "cell_type": "code",
   "execution_count": 60,
   "id": "9614c00d-4c6b-47cd-9667-0cedab354748",
   "metadata": {},
   "outputs": [
    {
     "data": {
      "text/plain": [
       "{'lr': Pipeline(steps=[('standardscaler', StandardScaler()),\n",
       "                 ('logisticregression', LogisticRegression())]),\n",
       " 'rc': Pipeline(steps=[('standardscaler', StandardScaler()),\n",
       "                 ('ridgeclassifier', RidgeClassifier())]),\n",
       " 'rf': Pipeline(steps=[('standardscaler', StandardScaler()),\n",
       "                 ('randomforestclassifier', RandomForestClassifier())]),\n",
       " 'gb': Pipeline(steps=[('standardscaler', StandardScaler()),\n",
       "                 ('gradientboostingclassifier', GradientBoostingClassifier())])}"
      ]
     },
     "execution_count": 60,
     "metadata": {},
     "output_type": "execute_result"
    }
   ],
   "source": [
    "fit_models"
   ]
  },
  {
   "cell_type": "code",
   "execution_count": 62,
   "id": "5ff30c7c-d0be-406c-a0a4-aac30a95943f",
   "metadata": {},
   "outputs": [
    {
     "data": {
      "text/plain": [
       "array(['Normal', 'Normal', 'Normal', 'Lordosis', 'Kyphosis', 'Lordosis',\n",
       "       'Normal', 'Lordosis', 'Kyphosis', 'Lordosis', 'Lordosis',\n",
       "       'Kyphosis', 'Swayback', 'Normal', 'Normal', 'Kyphosis', 'Kyphosis',\n",
       "       'Swayback', 'Kyphosis', 'Kyphosis', 'Lordosis', 'Swayback',\n",
       "       'Kyphosis', 'Lordosis', 'Swayback', 'Kyphosis', 'Kyphosis',\n",
       "       'Normal', 'Kyphosis', 'Lordosis', 'Lordosis', 'Normal', 'Normal',\n",
       "       'Normal', 'Lordosis', 'Lordosis', 'Kyphosis', 'Lordosis',\n",
       "       'Kyphosis', 'Swayback', 'Kyphosis', 'Normal', 'Lordosis',\n",
       "       'Lordosis', 'Kyphosis', 'Normal', 'Normal', 'Kyphosis', 'Normal',\n",
       "       'Kyphosis', 'Kyphosis', 'Kyphosis', 'Swayback', 'Swayback',\n",
       "       'Normal', 'Normal', 'Normal', 'Kyphosis', 'Lordosis', 'Lordosis',\n",
       "       'Normal', 'Lordosis', 'Lordosis', 'Kyphosis', 'Swayback',\n",
       "       'Lordosis', 'Lordosis', 'Swayback', 'Swayback', 'Kyphosis',\n",
       "       'Swayback', 'Kyphosis', 'Normal', 'Swayback', 'Swayback',\n",
       "       'Swayback', 'Normal', 'Swayback', 'Lordosis', 'Normal', 'Swayback',\n",
       "       'Normal', 'Swayback', 'Kyphosis', 'Normal', 'Kyphosis', 'Swayback',\n",
       "       'Lordosis', 'Swayback', 'Lordosis', 'Lordosis', 'Normal', 'Normal',\n",
       "       'Lordosis', 'Lordosis', 'Swayback', 'Lordosis', 'Kyphosis',\n",
       "       'Kyphosis', 'Kyphosis', 'Swayback', 'Lordosis', 'Normal',\n",
       "       'Kyphosis', 'Lordosis', 'Normal', 'Swayback', 'Lordosis',\n",
       "       'Swayback', 'Lordosis', 'Normal', 'Normal', 'Lordosis', 'Kyphosis',\n",
       "       'Kyphosis', 'Kyphosis', 'Swayback', 'Lordosis', 'Swayback',\n",
       "       'Kyphosis', 'Lordosis', 'Kyphosis', 'Kyphosis', 'Normal', 'Normal',\n",
       "       'Swayback', 'Kyphosis', 'Kyphosis', 'Kyphosis', 'Swayback',\n",
       "       'Lordosis', 'Lordosis', 'Normal', 'Normal', 'Normal', 'Swayback',\n",
       "       'Swayback', 'Swayback', 'Swayback', 'Swayback', 'Swayback',\n",
       "       'Kyphosis', 'Kyphosis', 'Lordosis', 'Normal', 'Lordosis',\n",
       "       'Lordosis', 'Kyphosis', 'Normal', 'Kyphosis', 'Kyphosis',\n",
       "       'Lordosis', 'Normal', 'Swayback', 'Normal', 'Normal', 'Swayback',\n",
       "       'Swayback', 'Normal', 'Swayback', 'Lordosis', 'Normal', 'Swayback',\n",
       "       'Swayback', 'Swayback', 'Normal', 'Kyphosis', 'Swayback',\n",
       "       'Lordosis', 'Lordosis', 'Swayback', 'Swayback', 'Swayback',\n",
       "       'Swayback', 'Lordosis', 'Normal', 'Normal', 'Lordosis', 'Normal',\n",
       "       'Kyphosis', 'Swayback', 'Lordosis', 'Swayback', 'Kyphosis',\n",
       "       'Kyphosis', 'Normal', 'Kyphosis', 'Lordosis', 'Swayback',\n",
       "       'Lordosis', 'Swayback', 'Lordosis', 'Lordosis', 'Swayback',\n",
       "       'Normal', 'Swayback', 'Lordosis', 'Kyphosis', 'Kyphosis',\n",
       "       'Kyphosis', 'Swayback', 'Swayback', 'Normal', 'Kyphosis',\n",
       "       'Swayback', 'Kyphosis', 'Normal', 'Normal', 'Lordosis', 'Lordosis',\n",
       "       'Swayback', 'Lordosis', 'Kyphosis', 'Kyphosis', 'Normal', 'Normal',\n",
       "       'Lordosis', 'Lordosis', 'Swayback', 'Lordosis', 'Lordosis',\n",
       "       'Kyphosis', 'Kyphosis', 'Normal', 'Normal', 'Kyphosis', 'Normal',\n",
       "       'Swayback', 'Lordosis', 'Swayback', 'Swayback', 'Lordosis',\n",
       "       'Kyphosis', 'Kyphosis', 'Normal', 'Swayback', 'Swayback',\n",
       "       'Kyphosis', 'Normal', 'Swayback', 'Lordosis', 'Swayback',\n",
       "       'Lordosis', 'Kyphosis', 'Swayback', 'Lordosis', 'Kyphosis',\n",
       "       'Lordosis', 'Swayback', 'Kyphosis', 'Kyphosis', 'Swayback',\n",
       "       'Lordosis', 'Lordosis', 'Kyphosis', 'Normal', 'Swayback',\n",
       "       'Kyphosis', 'Swayback', 'Normal', 'Swayback', 'Normal', 'Swayback',\n",
       "       'Lordosis', 'Kyphosis', 'Normal', 'Lordosis', 'Kyphosis', 'Normal',\n",
       "       'Swayback', 'Lordosis', 'Lordosis', 'Swayback', 'Lordosis',\n",
       "       'Normal', 'Kyphosis', 'Lordosis', 'Kyphosis', 'Kyphosis',\n",
       "       'Swayback', 'Lordosis', 'Lordosis', 'Kyphosis', 'Normal',\n",
       "       'Kyphosis', 'Lordosis', 'Kyphosis', 'Kyphosis', 'Lordosis',\n",
       "       'Kyphosis', 'Lordosis', 'Lordosis', 'Swayback', 'Lordosis',\n",
       "       'Kyphosis', 'Kyphosis', 'Lordosis', 'Kyphosis', 'Lordosis',\n",
       "       'Lordosis', 'Normal', 'Lordosis', 'Kyphosis', 'Normal', 'Lordosis',\n",
       "       'Normal', 'Lordosis', 'Normal', 'Swayback', 'Normal', 'Normal',\n",
       "       'Kyphosis', 'Normal', 'Normal', 'Normal', 'Swayback', 'Lordosis',\n",
       "       'Lordosis', 'Kyphosis', 'Kyphosis', 'Lordosis', 'Kyphosis',\n",
       "       'Normal', 'Normal', 'Kyphosis', 'Normal', 'Swayback', 'Normal',\n",
       "       'Normal', 'Lordosis', 'Swayback', 'Swayback', 'Normal', 'Lordosis',\n",
       "       'Normal', 'Normal', 'Swayback', 'Kyphosis', 'Normal', 'Kyphosis',\n",
       "       'Lordosis', 'Kyphosis', 'Swayback', 'Kyphosis', 'Normal',\n",
       "       'Swayback', 'Swayback', 'Swayback', 'Swayback', 'Normal',\n",
       "       'Lordosis', 'Swayback', 'Swayback', 'Kyphosis', 'Normal',\n",
       "       'Lordosis', 'Lordosis', 'Swayback', 'Kyphosis', 'Lordosis',\n",
       "       'Lordosis', 'Swayback', 'Lordosis', 'Normal', 'Swayback',\n",
       "       'Kyphosis', 'Normal', 'Normal', 'Kyphosis', 'Swayback', 'Kyphosis',\n",
       "       'Kyphosis', 'Lordosis', 'Swayback', 'Normal', 'Swayback', 'Normal',\n",
       "       'Normal', 'Kyphosis', 'Lordosis', 'Normal', 'Kyphosis', 'Kyphosis',\n",
       "       'Lordosis', 'Lordosis', 'Lordosis', 'Kyphosis', 'Kyphosis',\n",
       "       'Lordosis', 'Normal', 'Kyphosis', 'Kyphosis', 'Swayback',\n",
       "       'Kyphosis', 'Kyphosis', 'Swayback', 'Swayback', 'Normal', 'Normal',\n",
       "       'Lordosis', 'Swayback', 'Kyphosis', 'Lordosis', 'Swayback',\n",
       "       'Swayback', 'Kyphosis', 'Lordosis', 'Kyphosis', 'Swayback',\n",
       "       'Normal', 'Swayback', 'Kyphosis', 'Normal', 'Swayback', 'Normal',\n",
       "       'Normal', 'Lordosis', 'Normal', 'Normal', 'Lordosis', 'Kyphosis',\n",
       "       'Kyphosis', 'Normal', 'Normal', 'Normal', 'Lordosis', 'Lordosis',\n",
       "       'Kyphosis', 'Lordosis', 'Kyphosis', 'Lordosis', 'Kyphosis',\n",
       "       'Lordosis', 'Swayback', 'Swayback', 'Lordosis', 'Normal',\n",
       "       'Lordosis', 'Kyphosis', 'Kyphosis', 'Lordosis', 'Kyphosis',\n",
       "       'Lordosis', 'Kyphosis', 'Swayback', 'Lordosis', 'Kyphosis',\n",
       "       'Swayback', 'Swayback', 'Lordosis', 'Lordosis', 'Kyphosis',\n",
       "       'Normal', 'Kyphosis', 'Lordosis', 'Swayback', 'Lordosis',\n",
       "       'Kyphosis', 'Swayback', 'Lordosis', 'Swayback', 'Normal',\n",
       "       'Swayback', 'Kyphosis', 'Normal', 'Kyphosis', 'Normal', 'Lordosis',\n",
       "       'Normal', 'Lordosis', 'Kyphosis', 'Normal', 'Lordosis', 'Kyphosis',\n",
       "       'Kyphosis', 'Swayback', 'Kyphosis', 'Lordosis', 'Normal', 'Normal',\n",
       "       'Lordosis', 'Swayback', 'Kyphosis', 'Kyphosis', 'Normal', 'Normal',\n",
       "       'Lordosis', 'Normal', 'Normal', 'Swayback', 'Lordosis', 'Swayback',\n",
       "       'Lordosis', 'Kyphosis', 'Lordosis', 'Lordosis', 'Swayback',\n",
       "       'Swayback', 'Normal', 'Swayback', 'Kyphosis', 'Normal', 'Swayback',\n",
       "       'Normal', 'Swayback', 'Kyphosis', 'Kyphosis', 'Kyphosis',\n",
       "       'Lordosis', 'Kyphosis', 'Lordosis', 'Lordosis', 'Lordosis',\n",
       "       'Normal', 'Swayback', 'Swayback', 'Kyphosis', 'Swayback', 'Normal',\n",
       "       'Swayback', 'Swayback', 'Kyphosis', 'Kyphosis', 'Lordosis',\n",
       "       'Normal', 'Swayback', 'Lordosis', 'Kyphosis', 'Normal', 'Normal',\n",
       "       'Kyphosis', 'Lordosis', 'Lordosis', 'Normal', 'Kyphosis',\n",
       "       'Swayback', 'Kyphosis', 'Kyphosis', 'Lordosis', 'Normal',\n",
       "       'Lordosis', 'Lordosis', 'Kyphosis', 'Lordosis', 'Swayback',\n",
       "       'Kyphosis', 'Lordosis', 'Kyphosis', 'Kyphosis', 'Swayback',\n",
       "       'Kyphosis', 'Normal', 'Normal', 'Kyphosis', 'Lordosis', 'Normal',\n",
       "       'Lordosis', 'Normal', 'Kyphosis', 'Swayback', 'Lordosis',\n",
       "       'Kyphosis', 'Kyphosis', 'Kyphosis', 'Lordosis', 'Swayback',\n",
       "       'Normal', 'Swayback', 'Normal', 'Lordosis', 'Swayback', 'Lordosis',\n",
       "       'Normal', 'Lordosis', 'Swayback', 'Normal', 'Normal', 'Kyphosis',\n",
       "       'Lordosis', 'Normal', 'Swayback', 'Kyphosis', 'Swayback', 'Normal',\n",
       "       'Normal', 'Swayback', 'Normal', 'Swayback', 'Lordosis', 'Lordosis',\n",
       "       'Swayback', 'Swayback', 'Swayback', 'Swayback', 'Swayback',\n",
       "       'Kyphosis', 'Normal', 'Kyphosis', 'Kyphosis', 'Kyphosis',\n",
       "       'Lordosis', 'Lordosis', 'Swayback', 'Kyphosis', 'Normal',\n",
       "       'Swayback', 'Lordosis', 'Lordosis', 'Lordosis', 'Swayback',\n",
       "       'Lordosis', 'Normal', 'Kyphosis', 'Kyphosis', 'Swayback', 'Normal',\n",
       "       'Normal', 'Lordosis', 'Normal', 'Normal', 'Normal', 'Normal',\n",
       "       'Normal', 'Swayback', 'Swayback', 'Kyphosis', 'Swayback',\n",
       "       'Lordosis', 'Swayback', 'Normal', 'Lordosis', 'Normal', 'Lordosis',\n",
       "       'Kyphosis', 'Swayback', 'Swayback', 'Normal', 'Normal', 'Swayback',\n",
       "       'Swayback', 'Kyphosis', 'Swayback', 'Normal', 'Kyphosis', 'Normal',\n",
       "       'Kyphosis', 'Swayback', 'Swayback', 'Kyphosis', 'Swayback',\n",
       "       'Normal', 'Lordosis', 'Swayback', 'Normal', 'Swayback', 'Swayback',\n",
       "       'Normal', 'Lordosis', 'Swayback', 'Lordosis', 'Normal', 'Normal',\n",
       "       'Swayback', 'Swayback', 'Lordosis', 'Lordosis', 'Normal',\n",
       "       'Kyphosis', 'Kyphosis', 'Lordosis', 'Kyphosis', 'Kyphosis',\n",
       "       'Swayback', 'Lordosis', 'Swayback', 'Swayback', 'Swayback',\n",
       "       'Swayback', 'Swayback', 'Kyphosis', 'Swayback'], dtype=object)"
      ]
     },
     "execution_count": 62,
     "metadata": {},
     "output_type": "execute_result"
    }
   ],
   "source": [
    "fit_models['rf'].predict(X_test)"
   ]
  },
  {
   "cell_type": "markdown",
   "id": "7ac313d8-44a8-49ee-896b-588822d9fe3a",
   "metadata": {},
   "source": [
    "# EVALUATE AND SAVE THE MODEL"
   ]
  },
  {
   "cell_type": "code",
   "execution_count": 64,
   "id": "e400caed-8aff-422a-a0e1-53b31801589c",
   "metadata": {},
   "outputs": [],
   "source": [
    "from sklearn.metrics import accuracy_score\n",
    "import pickle"
   ]
  },
  {
   "cell_type": "code",
   "execution_count": 66,
   "id": "f7b6fb63-5838-43e7-a96e-96ca4575b04a",
   "metadata": {},
   "outputs": [
    {
     "name": "stdout",
     "output_type": "stream",
     "text": [
      "lr 0.9618208516886931\n",
      "rc 0.9588839941262849\n",
      "rf 0.9970631424375918\n",
      "gb 0.9941262848751835\n"
     ]
    }
   ],
   "source": [
    "for algo, model in fit_models.items():\n",
    "    yhat = model.predict(X_test)\n",
    "    print(algo, accuracy_score(y_test, yhat))"
   ]
  },
  {
   "cell_type": "code",
   "execution_count": 68,
   "id": "4b514446-0b5d-46cc-91b9-18205635b4e4",
   "metadata": {},
   "outputs": [
    {
     "data": {
      "text/plain": [
       "array(['Normal', 'Normal', 'Normal', 'Lordosis', 'Kyphosis', 'Lordosis',\n",
       "       'Normal', 'Lordosis', 'Kyphosis', 'Lordosis', 'Lordosis',\n",
       "       'Kyphosis', 'Swayback', 'Normal', 'Normal', 'Kyphosis', 'Kyphosis',\n",
       "       'Swayback', 'Kyphosis', 'Kyphosis', 'Lordosis', 'Swayback',\n",
       "       'Kyphosis', 'Lordosis', 'Swayback', 'Kyphosis', 'Kyphosis',\n",
       "       'Normal', 'Kyphosis', 'Lordosis', 'Lordosis', 'Normal', 'Normal',\n",
       "       'Normal', 'Lordosis', 'Lordosis', 'Kyphosis', 'Lordosis',\n",
       "       'Kyphosis', 'Swayback', 'Kyphosis', 'Normal', 'Lordosis',\n",
       "       'Lordosis', 'Kyphosis', 'Normal', 'Normal', 'Kyphosis', 'Normal',\n",
       "       'Kyphosis', 'Kyphosis', 'Kyphosis', 'Swayback', 'Swayback',\n",
       "       'Normal', 'Normal', 'Normal', 'Kyphosis', 'Lordosis', 'Lordosis',\n",
       "       'Normal', 'Lordosis', 'Lordosis', 'Kyphosis', 'Swayback',\n",
       "       'Lordosis', 'Lordosis', 'Swayback', 'Swayback', 'Kyphosis',\n",
       "       'Swayback', 'Kyphosis', 'Normal', 'Swayback', 'Swayback',\n",
       "       'Swayback', 'Normal', 'Swayback', 'Lordosis', 'Normal', 'Swayback',\n",
       "       'Normal', 'Swayback', 'Kyphosis', 'Normal', 'Kyphosis', 'Swayback',\n",
       "       'Lordosis', 'Swayback', 'Lordosis', 'Lordosis', 'Normal', 'Normal',\n",
       "       'Lordosis', 'Lordosis', 'Swayback', 'Lordosis', 'Kyphosis',\n",
       "       'Kyphosis', 'Kyphosis', 'Swayback', 'Lordosis', 'Normal',\n",
       "       'Kyphosis', 'Lordosis', 'Normal', 'Swayback', 'Lordosis',\n",
       "       'Swayback', 'Lordosis', 'Normal', 'Normal', 'Lordosis', 'Kyphosis',\n",
       "       'Kyphosis', 'Kyphosis', 'Swayback', 'Lordosis', 'Swayback',\n",
       "       'Kyphosis', 'Lordosis', 'Kyphosis', 'Kyphosis', 'Normal', 'Normal',\n",
       "       'Swayback', 'Kyphosis', 'Kyphosis', 'Kyphosis', 'Swayback',\n",
       "       'Lordosis', 'Lordosis', 'Normal', 'Normal', 'Normal', 'Swayback',\n",
       "       'Swayback', 'Swayback', 'Swayback', 'Swayback', 'Swayback',\n",
       "       'Kyphosis', 'Kyphosis', 'Lordosis', 'Normal', 'Lordosis',\n",
       "       'Lordosis', 'Kyphosis', 'Normal', 'Kyphosis', 'Kyphosis',\n",
       "       'Lordosis', 'Normal', 'Swayback', 'Normal', 'Normal', 'Swayback',\n",
       "       'Swayback', 'Normal', 'Swayback', 'Lordosis', 'Normal', 'Swayback',\n",
       "       'Swayback', 'Swayback', 'Normal', 'Kyphosis', 'Swayback',\n",
       "       'Lordosis', 'Lordosis', 'Swayback', 'Swayback', 'Swayback',\n",
       "       'Swayback', 'Lordosis', 'Normal', 'Normal', 'Lordosis', 'Normal',\n",
       "       'Kyphosis', 'Swayback', 'Lordosis', 'Swayback', 'Kyphosis',\n",
       "       'Kyphosis', 'Normal', 'Kyphosis', 'Lordosis', 'Swayback',\n",
       "       'Lordosis', 'Swayback', 'Lordosis', 'Lordosis', 'Swayback',\n",
       "       'Normal', 'Swayback', 'Lordosis', 'Kyphosis', 'Kyphosis',\n",
       "       'Kyphosis', 'Swayback', 'Swayback', 'Normal', 'Kyphosis',\n",
       "       'Swayback', 'Kyphosis', 'Normal', 'Normal', 'Lordosis', 'Lordosis',\n",
       "       'Swayback', 'Lordosis', 'Kyphosis', 'Kyphosis', 'Normal', 'Normal',\n",
       "       'Lordosis', 'Lordosis', 'Swayback', 'Lordosis', 'Lordosis',\n",
       "       'Kyphosis', 'Kyphosis', 'Normal', 'Normal', 'Kyphosis', 'Normal',\n",
       "       'Swayback', 'Lordosis', 'Swayback', 'Swayback', 'Lordosis',\n",
       "       'Kyphosis', 'Kyphosis', 'Normal', 'Swayback', 'Swayback',\n",
       "       'Kyphosis', 'Normal', 'Swayback', 'Lordosis', 'Swayback',\n",
       "       'Lordosis', 'Kyphosis', 'Swayback', 'Lordosis', 'Kyphosis',\n",
       "       'Lordosis', 'Swayback', 'Kyphosis', 'Kyphosis', 'Swayback',\n",
       "       'Lordosis', 'Lordosis', 'Kyphosis', 'Normal', 'Swayback',\n",
       "       'Kyphosis', 'Swayback', 'Normal', 'Swayback', 'Normal', 'Swayback',\n",
       "       'Lordosis', 'Kyphosis', 'Normal', 'Lordosis', 'Kyphosis', 'Normal',\n",
       "       'Swayback', 'Lordosis', 'Lordosis', 'Swayback', 'Lordosis',\n",
       "       'Normal', 'Kyphosis', 'Lordosis', 'Kyphosis', 'Kyphosis',\n",
       "       'Swayback', 'Lordosis', 'Lordosis', 'Kyphosis', 'Normal',\n",
       "       'Kyphosis', 'Lordosis', 'Kyphosis', 'Kyphosis', 'Lordosis',\n",
       "       'Kyphosis', 'Lordosis', 'Lordosis', 'Swayback', 'Lordosis',\n",
       "       'Kyphosis', 'Kyphosis', 'Lordosis', 'Kyphosis', 'Lordosis',\n",
       "       'Lordosis', 'Normal', 'Lordosis', 'Kyphosis', 'Normal', 'Lordosis',\n",
       "       'Normal', 'Lordosis', 'Normal', 'Swayback', 'Normal', 'Normal',\n",
       "       'Kyphosis', 'Normal', 'Normal', 'Normal', 'Swayback', 'Lordosis',\n",
       "       'Lordosis', 'Kyphosis', 'Kyphosis', 'Lordosis', 'Kyphosis',\n",
       "       'Normal', 'Normal', 'Kyphosis', 'Normal', 'Swayback', 'Normal',\n",
       "       'Normal', 'Lordosis', 'Swayback', 'Swayback', 'Normal', 'Lordosis',\n",
       "       'Normal', 'Normal', 'Swayback', 'Kyphosis', 'Normal', 'Kyphosis',\n",
       "       'Lordosis', 'Kyphosis', 'Swayback', 'Kyphosis', 'Normal',\n",
       "       'Swayback', 'Swayback', 'Swayback', 'Swayback', 'Normal',\n",
       "       'Lordosis', 'Swayback', 'Swayback', 'Kyphosis', 'Normal',\n",
       "       'Lordosis', 'Lordosis', 'Swayback', 'Kyphosis', 'Lordosis',\n",
       "       'Lordosis', 'Swayback', 'Lordosis', 'Normal', 'Swayback',\n",
       "       'Kyphosis', 'Normal', 'Normal', 'Kyphosis', 'Swayback', 'Kyphosis',\n",
       "       'Kyphosis', 'Lordosis', 'Swayback', 'Normal', 'Swayback', 'Normal',\n",
       "       'Normal', 'Kyphosis', 'Lordosis', 'Normal', 'Kyphosis', 'Kyphosis',\n",
       "       'Lordosis', 'Lordosis', 'Lordosis', 'Kyphosis', 'Kyphosis',\n",
       "       'Lordosis', 'Normal', 'Kyphosis', 'Kyphosis', 'Swayback',\n",
       "       'Kyphosis', 'Kyphosis', 'Swayback', 'Swayback', 'Normal', 'Normal',\n",
       "       'Lordosis', 'Swayback', 'Kyphosis', 'Lordosis', 'Swayback',\n",
       "       'Swayback', 'Kyphosis', 'Lordosis', 'Kyphosis', 'Swayback',\n",
       "       'Normal', 'Swayback', 'Kyphosis', 'Normal', 'Swayback', 'Normal',\n",
       "       'Normal', 'Lordosis', 'Normal', 'Normal', 'Lordosis', 'Kyphosis',\n",
       "       'Kyphosis', 'Normal', 'Normal', 'Normal', 'Lordosis', 'Lordosis',\n",
       "       'Kyphosis', 'Lordosis', 'Kyphosis', 'Lordosis', 'Kyphosis',\n",
       "       'Lordosis', 'Swayback', 'Swayback', 'Lordosis', 'Normal',\n",
       "       'Lordosis', 'Kyphosis', 'Kyphosis', 'Lordosis', 'Kyphosis',\n",
       "       'Lordosis', 'Kyphosis', 'Swayback', 'Lordosis', 'Kyphosis',\n",
       "       'Swayback', 'Swayback', 'Lordosis', 'Lordosis', 'Kyphosis',\n",
       "       'Normal', 'Kyphosis', 'Lordosis', 'Swayback', 'Lordosis',\n",
       "       'Kyphosis', 'Swayback', 'Lordosis', 'Swayback', 'Normal',\n",
       "       'Swayback', 'Kyphosis', 'Normal', 'Kyphosis', 'Normal', 'Lordosis',\n",
       "       'Normal', 'Lordosis', 'Kyphosis', 'Normal', 'Lordosis', 'Kyphosis',\n",
       "       'Kyphosis', 'Swayback', 'Kyphosis', 'Lordosis', 'Normal', 'Normal',\n",
       "       'Lordosis', 'Swayback', 'Kyphosis', 'Kyphosis', 'Normal', 'Normal',\n",
       "       'Lordosis', 'Normal', 'Normal', 'Swayback', 'Lordosis', 'Swayback',\n",
       "       'Lordosis', 'Kyphosis', 'Lordosis', 'Lordosis', 'Swayback',\n",
       "       'Swayback', 'Normal', 'Swayback', 'Kyphosis', 'Normal', 'Swayback',\n",
       "       'Normal', 'Swayback', 'Kyphosis', 'Kyphosis', 'Kyphosis',\n",
       "       'Lordosis', 'Kyphosis', 'Lordosis', 'Lordosis', 'Lordosis',\n",
       "       'Normal', 'Swayback', 'Swayback', 'Kyphosis', 'Swayback', 'Normal',\n",
       "       'Swayback', 'Swayback', 'Kyphosis', 'Kyphosis', 'Lordosis',\n",
       "       'Normal', 'Swayback', 'Lordosis', 'Kyphosis', 'Normal', 'Normal',\n",
       "       'Kyphosis', 'Lordosis', 'Lordosis', 'Normal', 'Kyphosis',\n",
       "       'Swayback', 'Kyphosis', 'Kyphosis', 'Lordosis', 'Normal',\n",
       "       'Lordosis', 'Lordosis', 'Kyphosis', 'Lordosis', 'Swayback',\n",
       "       'Kyphosis', 'Lordosis', 'Kyphosis', 'Kyphosis', 'Swayback',\n",
       "       'Kyphosis', 'Normal', 'Normal', 'Kyphosis', 'Lordosis', 'Normal',\n",
       "       'Lordosis', 'Normal', 'Kyphosis', 'Swayback', 'Lordosis',\n",
       "       'Kyphosis', 'Kyphosis', 'Kyphosis', 'Lordosis', 'Swayback',\n",
       "       'Normal', 'Swayback', 'Normal', 'Lordosis', 'Swayback', 'Lordosis',\n",
       "       'Normal', 'Lordosis', 'Swayback', 'Normal', 'Normal', 'Kyphosis',\n",
       "       'Lordosis', 'Normal', 'Swayback', 'Kyphosis', 'Swayback', 'Normal',\n",
       "       'Normal', 'Swayback', 'Normal', 'Swayback', 'Lordosis', 'Lordosis',\n",
       "       'Swayback', 'Swayback', 'Swayback', 'Swayback', 'Swayback',\n",
       "       'Kyphosis', 'Normal', 'Kyphosis', 'Kyphosis', 'Kyphosis',\n",
       "       'Lordosis', 'Lordosis', 'Swayback', 'Kyphosis', 'Normal',\n",
       "       'Swayback', 'Lordosis', 'Lordosis', 'Lordosis', 'Swayback',\n",
       "       'Lordosis', 'Normal', 'Kyphosis', 'Kyphosis', 'Swayback', 'Normal',\n",
       "       'Normal', 'Lordosis', 'Normal', 'Normal', 'Normal', 'Normal',\n",
       "       'Normal', 'Swayback', 'Swayback', 'Kyphosis', 'Swayback',\n",
       "       'Lordosis', 'Swayback', 'Normal', 'Lordosis', 'Normal', 'Lordosis',\n",
       "       'Kyphosis', 'Swayback', 'Swayback', 'Normal', 'Normal', 'Swayback',\n",
       "       'Swayback', 'Kyphosis', 'Swayback', 'Normal', 'Kyphosis', 'Normal',\n",
       "       'Kyphosis', 'Swayback', 'Swayback', 'Kyphosis', 'Swayback',\n",
       "       'Normal', 'Lordosis', 'Swayback', 'Normal', 'Swayback', 'Swayback',\n",
       "       'Normal', 'Lordosis', 'Swayback', 'Lordosis', 'Normal', 'Normal',\n",
       "       'Swayback', 'Swayback', 'Lordosis', 'Lordosis', 'Normal',\n",
       "       'Kyphosis', 'Kyphosis', 'Lordosis', 'Kyphosis', 'Kyphosis',\n",
       "       'Swayback', 'Lordosis', 'Swayback', 'Swayback', 'Swayback',\n",
       "       'Swayback', 'Swayback', 'Kyphosis', 'Swayback'], dtype=object)"
      ]
     },
     "execution_count": 68,
     "metadata": {},
     "output_type": "execute_result"
    }
   ],
   "source": [
    "fit_models['rf'].predict(X_test)"
   ]
  },
  {
   "cell_type": "code",
   "execution_count": 70,
   "id": "d4b53664-00be-45ff-909b-bd782d3de0f3",
   "metadata": {},
   "outputs": [
    {
     "data": {
      "text/plain": [
       "1079      Normal\n",
       "1329      Normal\n",
       "1495      Normal\n",
       "586     Lordosis\n",
       "27      Kyphosis\n",
       "          ...   \n",
       "919     Swayback\n",
       "780     Swayback\n",
       "938     Swayback\n",
       "17      Kyphosis\n",
       "789     Swayback\n",
       "Name: class, Length: 681, dtype: object"
      ]
     },
     "execution_count": 70,
     "metadata": {},
     "output_type": "execute_result"
    }
   ],
   "source": [
    "y_test"
   ]
  },
  {
   "cell_type": "code",
   "execution_count": 72,
   "id": "432a047f-f3c6-410d-b968-ad396d973e4f",
   "metadata": {},
   "outputs": [],
   "source": [
    "# saving the model using pickle\n",
    "with open('posture1.pkl', 'wb') as f:\n",
    "    pickle.dump(fit_models['rf'], f)"
   ]
  },
  {
   "cell_type": "markdown",
   "id": "9cb8b5dc-53ae-4ad5-a161-4b9ec8e7ea47",
   "metadata": {},
   "source": [
    "# TRY THE MODEL IN REAL TIME"
   ]
  },
  {
   "cell_type": "code",
   "execution_count": 5,
   "id": "43f502c4-e8d4-4eeb-b2e0-bec2b9cbf6ab",
   "metadata": {},
   "outputs": [],
   "source": [
    "with open('posture1.pkl', 'rb') as f:\n",
    "    model = pickle.load(f)"
   ]
  },
  {
   "cell_type": "code",
   "execution_count": 74,
   "id": "2f0228ab-8b43-41ed-93c6-cb193e97301d",
   "metadata": {},
   "outputs": [
    {
     "data": {
      "text/html": [
       "<style>#sk-container-id-1 {\n",
       "  /* Definition of color scheme common for light and dark mode */\n",
       "  --sklearn-color-text: black;\n",
       "  --sklearn-color-line: gray;\n",
       "  /* Definition of color scheme for unfitted estimators */\n",
       "  --sklearn-color-unfitted-level-0: #fff5e6;\n",
       "  --sklearn-color-unfitted-level-1: #f6e4d2;\n",
       "  --sklearn-color-unfitted-level-2: #ffe0b3;\n",
       "  --sklearn-color-unfitted-level-3: chocolate;\n",
       "  /* Definition of color scheme for fitted estimators */\n",
       "  --sklearn-color-fitted-level-0: #f0f8ff;\n",
       "  --sklearn-color-fitted-level-1: #d4ebff;\n",
       "  --sklearn-color-fitted-level-2: #b3dbfd;\n",
       "  --sklearn-color-fitted-level-3: cornflowerblue;\n",
       "\n",
       "  /* Specific color for light theme */\n",
       "  --sklearn-color-text-on-default-background: var(--sg-text-color, var(--theme-code-foreground, var(--jp-content-font-color1, black)));\n",
       "  --sklearn-color-background: var(--sg-background-color, var(--theme-background, var(--jp-layout-color0, white)));\n",
       "  --sklearn-color-border-box: var(--sg-text-color, var(--theme-code-foreground, var(--jp-content-font-color1, black)));\n",
       "  --sklearn-color-icon: #696969;\n",
       "\n",
       "  @media (prefers-color-scheme: dark) {\n",
       "    /* Redefinition of color scheme for dark theme */\n",
       "    --sklearn-color-text-on-default-background: var(--sg-text-color, var(--theme-code-foreground, var(--jp-content-font-color1, white)));\n",
       "    --sklearn-color-background: var(--sg-background-color, var(--theme-background, var(--jp-layout-color0, #111)));\n",
       "    --sklearn-color-border-box: var(--sg-text-color, var(--theme-code-foreground, var(--jp-content-font-color1, white)));\n",
       "    --sklearn-color-icon: #878787;\n",
       "  }\n",
       "}\n",
       "\n",
       "#sk-container-id-1 {\n",
       "  color: var(--sklearn-color-text);\n",
       "}\n",
       "\n",
       "#sk-container-id-1 pre {\n",
       "  padding: 0;\n",
       "}\n",
       "\n",
       "#sk-container-id-1 input.sk-hidden--visually {\n",
       "  border: 0;\n",
       "  clip: rect(1px 1px 1px 1px);\n",
       "  clip: rect(1px, 1px, 1px, 1px);\n",
       "  height: 1px;\n",
       "  margin: -1px;\n",
       "  overflow: hidden;\n",
       "  padding: 0;\n",
       "  position: absolute;\n",
       "  width: 1px;\n",
       "}\n",
       "\n",
       "#sk-container-id-1 div.sk-dashed-wrapped {\n",
       "  border: 1px dashed var(--sklearn-color-line);\n",
       "  margin: 0 0.4em 0.5em 0.4em;\n",
       "  box-sizing: border-box;\n",
       "  padding-bottom: 0.4em;\n",
       "  background-color: var(--sklearn-color-background);\n",
       "}\n",
       "\n",
       "#sk-container-id-1 div.sk-container {\n",
       "  /* jupyter's `normalize.less` sets `[hidden] { display: none; }`\n",
       "     but bootstrap.min.css set `[hidden] { display: none !important; }`\n",
       "     so we also need the `!important` here to be able to override the\n",
       "     default hidden behavior on the sphinx rendered scikit-learn.org.\n",
       "     See: https://github.com/scikit-learn/scikit-learn/issues/21755 */\n",
       "  display: inline-block !important;\n",
       "  position: relative;\n",
       "}\n",
       "\n",
       "#sk-container-id-1 div.sk-text-repr-fallback {\n",
       "  display: none;\n",
       "}\n",
       "\n",
       "div.sk-parallel-item,\n",
       "div.sk-serial,\n",
       "div.sk-item {\n",
       "  /* draw centered vertical line to link estimators */\n",
       "  background-image: linear-gradient(var(--sklearn-color-text-on-default-background), var(--sklearn-color-text-on-default-background));\n",
       "  background-size: 2px 100%;\n",
       "  background-repeat: no-repeat;\n",
       "  background-position: center center;\n",
       "}\n",
       "\n",
       "/* Parallel-specific style estimator block */\n",
       "\n",
       "#sk-container-id-1 div.sk-parallel-item::after {\n",
       "  content: \"\";\n",
       "  width: 100%;\n",
       "  border-bottom: 2px solid var(--sklearn-color-text-on-default-background);\n",
       "  flex-grow: 1;\n",
       "}\n",
       "\n",
       "#sk-container-id-1 div.sk-parallel {\n",
       "  display: flex;\n",
       "  align-items: stretch;\n",
       "  justify-content: center;\n",
       "  background-color: var(--sklearn-color-background);\n",
       "  position: relative;\n",
       "}\n",
       "\n",
       "#sk-container-id-1 div.sk-parallel-item {\n",
       "  display: flex;\n",
       "  flex-direction: column;\n",
       "}\n",
       "\n",
       "#sk-container-id-1 div.sk-parallel-item:first-child::after {\n",
       "  align-self: flex-end;\n",
       "  width: 50%;\n",
       "}\n",
       "\n",
       "#sk-container-id-1 div.sk-parallel-item:last-child::after {\n",
       "  align-self: flex-start;\n",
       "  width: 50%;\n",
       "}\n",
       "\n",
       "#sk-container-id-1 div.sk-parallel-item:only-child::after {\n",
       "  width: 0;\n",
       "}\n",
       "\n",
       "/* Serial-specific style estimator block */\n",
       "\n",
       "#sk-container-id-1 div.sk-serial {\n",
       "  display: flex;\n",
       "  flex-direction: column;\n",
       "  align-items: center;\n",
       "  background-color: var(--sklearn-color-background);\n",
       "  padding-right: 1em;\n",
       "  padding-left: 1em;\n",
       "}\n",
       "\n",
       "\n",
       "/* Toggleable style: style used for estimator/Pipeline/ColumnTransformer box that is\n",
       "clickable and can be expanded/collapsed.\n",
       "- Pipeline and ColumnTransformer use this feature and define the default style\n",
       "- Estimators will overwrite some part of the style using the `sk-estimator` class\n",
       "*/\n",
       "\n",
       "/* Pipeline and ColumnTransformer style (default) */\n",
       "\n",
       "#sk-container-id-1 div.sk-toggleable {\n",
       "  /* Default theme specific background. It is overwritten whether we have a\n",
       "  specific estimator or a Pipeline/ColumnTransformer */\n",
       "  background-color: var(--sklearn-color-background);\n",
       "}\n",
       "\n",
       "/* Toggleable label */\n",
       "#sk-container-id-1 label.sk-toggleable__label {\n",
       "  cursor: pointer;\n",
       "  display: block;\n",
       "  width: 100%;\n",
       "  margin-bottom: 0;\n",
       "  padding: 0.5em;\n",
       "  box-sizing: border-box;\n",
       "  text-align: center;\n",
       "}\n",
       "\n",
       "#sk-container-id-1 label.sk-toggleable__label-arrow:before {\n",
       "  /* Arrow on the left of the label */\n",
       "  content: \"▸\";\n",
       "  float: left;\n",
       "  margin-right: 0.25em;\n",
       "  color: var(--sklearn-color-icon);\n",
       "}\n",
       "\n",
       "#sk-container-id-1 label.sk-toggleable__label-arrow:hover:before {\n",
       "  color: var(--sklearn-color-text);\n",
       "}\n",
       "\n",
       "/* Toggleable content - dropdown */\n",
       "\n",
       "#sk-container-id-1 div.sk-toggleable__content {\n",
       "  max-height: 0;\n",
       "  max-width: 0;\n",
       "  overflow: hidden;\n",
       "  text-align: left;\n",
       "  /* unfitted */\n",
       "  background-color: var(--sklearn-color-unfitted-level-0);\n",
       "}\n",
       "\n",
       "#sk-container-id-1 div.sk-toggleable__content.fitted {\n",
       "  /* fitted */\n",
       "  background-color: var(--sklearn-color-fitted-level-0);\n",
       "}\n",
       "\n",
       "#sk-container-id-1 div.sk-toggleable__content pre {\n",
       "  margin: 0.2em;\n",
       "  border-radius: 0.25em;\n",
       "  color: var(--sklearn-color-text);\n",
       "  /* unfitted */\n",
       "  background-color: var(--sklearn-color-unfitted-level-0);\n",
       "}\n",
       "\n",
       "#sk-container-id-1 div.sk-toggleable__content.fitted pre {\n",
       "  /* unfitted */\n",
       "  background-color: var(--sklearn-color-fitted-level-0);\n",
       "}\n",
       "\n",
       "#sk-container-id-1 input.sk-toggleable__control:checked~div.sk-toggleable__content {\n",
       "  /* Expand drop-down */\n",
       "  max-height: 200px;\n",
       "  max-width: 100%;\n",
       "  overflow: auto;\n",
       "}\n",
       "\n",
       "#sk-container-id-1 input.sk-toggleable__control:checked~label.sk-toggleable__label-arrow:before {\n",
       "  content: \"▾\";\n",
       "}\n",
       "\n",
       "/* Pipeline/ColumnTransformer-specific style */\n",
       "\n",
       "#sk-container-id-1 div.sk-label input.sk-toggleable__control:checked~label.sk-toggleable__label {\n",
       "  color: var(--sklearn-color-text);\n",
       "  background-color: var(--sklearn-color-unfitted-level-2);\n",
       "}\n",
       "\n",
       "#sk-container-id-1 div.sk-label.fitted input.sk-toggleable__control:checked~label.sk-toggleable__label {\n",
       "  background-color: var(--sklearn-color-fitted-level-2);\n",
       "}\n",
       "\n",
       "/* Estimator-specific style */\n",
       "\n",
       "/* Colorize estimator box */\n",
       "#sk-container-id-1 div.sk-estimator input.sk-toggleable__control:checked~label.sk-toggleable__label {\n",
       "  /* unfitted */\n",
       "  background-color: var(--sklearn-color-unfitted-level-2);\n",
       "}\n",
       "\n",
       "#sk-container-id-1 div.sk-estimator.fitted input.sk-toggleable__control:checked~label.sk-toggleable__label {\n",
       "  /* fitted */\n",
       "  background-color: var(--sklearn-color-fitted-level-2);\n",
       "}\n",
       "\n",
       "#sk-container-id-1 div.sk-label label.sk-toggleable__label,\n",
       "#sk-container-id-1 div.sk-label label {\n",
       "  /* The background is the default theme color */\n",
       "  color: var(--sklearn-color-text-on-default-background);\n",
       "}\n",
       "\n",
       "/* On hover, darken the color of the background */\n",
       "#sk-container-id-1 div.sk-label:hover label.sk-toggleable__label {\n",
       "  color: var(--sklearn-color-text);\n",
       "  background-color: var(--sklearn-color-unfitted-level-2);\n",
       "}\n",
       "\n",
       "/* Label box, darken color on hover, fitted */\n",
       "#sk-container-id-1 div.sk-label.fitted:hover label.sk-toggleable__label.fitted {\n",
       "  color: var(--sklearn-color-text);\n",
       "  background-color: var(--sklearn-color-fitted-level-2);\n",
       "}\n",
       "\n",
       "/* Estimator label */\n",
       "\n",
       "#sk-container-id-1 div.sk-label label {\n",
       "  font-family: monospace;\n",
       "  font-weight: bold;\n",
       "  display: inline-block;\n",
       "  line-height: 1.2em;\n",
       "}\n",
       "\n",
       "#sk-container-id-1 div.sk-label-container {\n",
       "  text-align: center;\n",
       "}\n",
       "\n",
       "/* Estimator-specific */\n",
       "#sk-container-id-1 div.sk-estimator {\n",
       "  font-family: monospace;\n",
       "  border: 1px dotted var(--sklearn-color-border-box);\n",
       "  border-radius: 0.25em;\n",
       "  box-sizing: border-box;\n",
       "  margin-bottom: 0.5em;\n",
       "  /* unfitted */\n",
       "  background-color: var(--sklearn-color-unfitted-level-0);\n",
       "}\n",
       "\n",
       "#sk-container-id-1 div.sk-estimator.fitted {\n",
       "  /* fitted */\n",
       "  background-color: var(--sklearn-color-fitted-level-0);\n",
       "}\n",
       "\n",
       "/* on hover */\n",
       "#sk-container-id-1 div.sk-estimator:hover {\n",
       "  /* unfitted */\n",
       "  background-color: var(--sklearn-color-unfitted-level-2);\n",
       "}\n",
       "\n",
       "#sk-container-id-1 div.sk-estimator.fitted:hover {\n",
       "  /* fitted */\n",
       "  background-color: var(--sklearn-color-fitted-level-2);\n",
       "}\n",
       "\n",
       "/* Specification for estimator info (e.g. \"i\" and \"?\") */\n",
       "\n",
       "/* Common style for \"i\" and \"?\" */\n",
       "\n",
       ".sk-estimator-doc-link,\n",
       "a:link.sk-estimator-doc-link,\n",
       "a:visited.sk-estimator-doc-link {\n",
       "  float: right;\n",
       "  font-size: smaller;\n",
       "  line-height: 1em;\n",
       "  font-family: monospace;\n",
       "  background-color: var(--sklearn-color-background);\n",
       "  border-radius: 1em;\n",
       "  height: 1em;\n",
       "  width: 1em;\n",
       "  text-decoration: none !important;\n",
       "  margin-left: 1ex;\n",
       "  /* unfitted */\n",
       "  border: var(--sklearn-color-unfitted-level-1) 1pt solid;\n",
       "  color: var(--sklearn-color-unfitted-level-1);\n",
       "}\n",
       "\n",
       ".sk-estimator-doc-link.fitted,\n",
       "a:link.sk-estimator-doc-link.fitted,\n",
       "a:visited.sk-estimator-doc-link.fitted {\n",
       "  /* fitted */\n",
       "  border: var(--sklearn-color-fitted-level-1) 1pt solid;\n",
       "  color: var(--sklearn-color-fitted-level-1);\n",
       "}\n",
       "\n",
       "/* On hover */\n",
       "div.sk-estimator:hover .sk-estimator-doc-link:hover,\n",
       ".sk-estimator-doc-link:hover,\n",
       "div.sk-label-container:hover .sk-estimator-doc-link:hover,\n",
       ".sk-estimator-doc-link:hover {\n",
       "  /* unfitted */\n",
       "  background-color: var(--sklearn-color-unfitted-level-3);\n",
       "  color: var(--sklearn-color-background);\n",
       "  text-decoration: none;\n",
       "}\n",
       "\n",
       "div.sk-estimator.fitted:hover .sk-estimator-doc-link.fitted:hover,\n",
       ".sk-estimator-doc-link.fitted:hover,\n",
       "div.sk-label-container:hover .sk-estimator-doc-link.fitted:hover,\n",
       ".sk-estimator-doc-link.fitted:hover {\n",
       "  /* fitted */\n",
       "  background-color: var(--sklearn-color-fitted-level-3);\n",
       "  color: var(--sklearn-color-background);\n",
       "  text-decoration: none;\n",
       "}\n",
       "\n",
       "/* Span, style for the box shown on hovering the info icon */\n",
       ".sk-estimator-doc-link span {\n",
       "  display: none;\n",
       "  z-index: 9999;\n",
       "  position: relative;\n",
       "  font-weight: normal;\n",
       "  right: .2ex;\n",
       "  padding: .5ex;\n",
       "  margin: .5ex;\n",
       "  width: min-content;\n",
       "  min-width: 20ex;\n",
       "  max-width: 50ex;\n",
       "  color: var(--sklearn-color-text);\n",
       "  box-shadow: 2pt 2pt 4pt #999;\n",
       "  /* unfitted */\n",
       "  background: var(--sklearn-color-unfitted-level-0);\n",
       "  border: .5pt solid var(--sklearn-color-unfitted-level-3);\n",
       "}\n",
       "\n",
       ".sk-estimator-doc-link.fitted span {\n",
       "  /* fitted */\n",
       "  background: var(--sklearn-color-fitted-level-0);\n",
       "  border: var(--sklearn-color-fitted-level-3);\n",
       "}\n",
       "\n",
       ".sk-estimator-doc-link:hover span {\n",
       "  display: block;\n",
       "}\n",
       "\n",
       "/* \"?\"-specific style due to the `<a>` HTML tag */\n",
       "\n",
       "#sk-container-id-1 a.estimator_doc_link {\n",
       "  float: right;\n",
       "  font-size: 1rem;\n",
       "  line-height: 1em;\n",
       "  font-family: monospace;\n",
       "  background-color: var(--sklearn-color-background);\n",
       "  border-radius: 1rem;\n",
       "  height: 1rem;\n",
       "  width: 1rem;\n",
       "  text-decoration: none;\n",
       "  /* unfitted */\n",
       "  color: var(--sklearn-color-unfitted-level-1);\n",
       "  border: var(--sklearn-color-unfitted-level-1) 1pt solid;\n",
       "}\n",
       "\n",
       "#sk-container-id-1 a.estimator_doc_link.fitted {\n",
       "  /* fitted */\n",
       "  border: var(--sklearn-color-fitted-level-1) 1pt solid;\n",
       "  color: var(--sklearn-color-fitted-level-1);\n",
       "}\n",
       "\n",
       "/* On hover */\n",
       "#sk-container-id-1 a.estimator_doc_link:hover {\n",
       "  /* unfitted */\n",
       "  background-color: var(--sklearn-color-unfitted-level-3);\n",
       "  color: var(--sklearn-color-background);\n",
       "  text-decoration: none;\n",
       "}\n",
       "\n",
       "#sk-container-id-1 a.estimator_doc_link.fitted:hover {\n",
       "  /* fitted */\n",
       "  background-color: var(--sklearn-color-fitted-level-3);\n",
       "}\n",
       "</style><div id=\"sk-container-id-1\" class=\"sk-top-container\"><div class=\"sk-text-repr-fallback\"><pre>Pipeline(steps=[(&#x27;standardscaler&#x27;, StandardScaler()),\n",
       "                (&#x27;gradientboostingclassifier&#x27;, GradientBoostingClassifier())])</pre><b>In a Jupyter environment, please rerun this cell to show the HTML representation or trust the notebook. <br />On GitHub, the HTML representation is unable to render, please try loading this page with nbviewer.org.</b></div><div class=\"sk-container\" hidden><div class=\"sk-item sk-dashed-wrapped\"><div class=\"sk-label-container\"><div class=\"sk-label fitted sk-toggleable\"><input class=\"sk-toggleable__control sk-hidden--visually\" id=\"sk-estimator-id-1\" type=\"checkbox\" ><label for=\"sk-estimator-id-1\" class=\"sk-toggleable__label fitted sk-toggleable__label-arrow fitted\">&nbsp;&nbsp;Pipeline<a class=\"sk-estimator-doc-link fitted\" rel=\"noreferrer\" target=\"_blank\" href=\"https://scikit-learn.org/1.5/modules/generated/sklearn.pipeline.Pipeline.html\">?<span>Documentation for Pipeline</span></a><span class=\"sk-estimator-doc-link fitted\">i<span>Fitted</span></span></label><div class=\"sk-toggleable__content fitted\"><pre>Pipeline(steps=[(&#x27;standardscaler&#x27;, StandardScaler()),\n",
       "                (&#x27;gradientboostingclassifier&#x27;, GradientBoostingClassifier())])</pre></div> </div></div><div class=\"sk-serial\"><div class=\"sk-item\"><div class=\"sk-estimator fitted sk-toggleable\"><input class=\"sk-toggleable__control sk-hidden--visually\" id=\"sk-estimator-id-2\" type=\"checkbox\" ><label for=\"sk-estimator-id-2\" class=\"sk-toggleable__label fitted sk-toggleable__label-arrow fitted\">&nbsp;StandardScaler<a class=\"sk-estimator-doc-link fitted\" rel=\"noreferrer\" target=\"_blank\" href=\"https://scikit-learn.org/1.5/modules/generated/sklearn.preprocessing.StandardScaler.html\">?<span>Documentation for StandardScaler</span></a></label><div class=\"sk-toggleable__content fitted\"><pre>StandardScaler()</pre></div> </div></div><div class=\"sk-item\"><div class=\"sk-estimator fitted sk-toggleable\"><input class=\"sk-toggleable__control sk-hidden--visually\" id=\"sk-estimator-id-3\" type=\"checkbox\" ><label for=\"sk-estimator-id-3\" class=\"sk-toggleable__label fitted sk-toggleable__label-arrow fitted\">&nbsp;GradientBoostingClassifier<a class=\"sk-estimator-doc-link fitted\" rel=\"noreferrer\" target=\"_blank\" href=\"https://scikit-learn.org/1.5/modules/generated/sklearn.ensemble.GradientBoostingClassifier.html\">?<span>Documentation for GradientBoostingClassifier</span></a></label><div class=\"sk-toggleable__content fitted\"><pre>GradientBoostingClassifier()</pre></div> </div></div></div></div></div></div>"
      ],
      "text/plain": [
       "Pipeline(steps=[('standardscaler', StandardScaler()),\n",
       "                ('gradientboostingclassifier', GradientBoostingClassifier())])"
      ]
     },
     "execution_count": 74,
     "metadata": {},
     "output_type": "execute_result"
    }
   ],
   "source": [
    "model"
   ]
  },
  {
   "cell_type": "code",
   "execution_count": 78,
   "id": "41dc0a84-0a12-4858-b026-f96e4d136d6a",
   "metadata": {},
   "outputs": [
    {
     "name": "stderr",
     "output_type": "stream",
     "text": [
      "D:\\coding\\hereLiesAanaconda\\Lib\\site-packages\\sklearn\\base.py:493: UserWarning: X does not have valid feature names, but StandardScaler was fitted with feature names\n",
      "  warnings.warn(\n",
      "D:\\coding\\hereLiesAanaconda\\Lib\\site-packages\\sklearn\\base.py:493: UserWarning: X does not have valid feature names, but StandardScaler was fitted with feature names\n",
      "  warnings.warn(\n"
     ]
    },
    {
     "name": "stdout",
     "output_type": "stream",
     "text": [
      "Normal [0.05189422 0.00144377 0.94560477 0.00105724]\n"
     ]
    },
    {
     "name": "stderr",
     "output_type": "stream",
     "text": [
      "D:\\coding\\hereLiesAanaconda\\Lib\\site-packages\\sklearn\\base.py:493: UserWarning: X does not have valid feature names, but StandardScaler was fitted with feature names\n",
      "  warnings.warn(\n",
      "D:\\coding\\hereLiesAanaconda\\Lib\\site-packages\\sklearn\\base.py:493: UserWarning: X does not have valid feature names, but StandardScaler was fitted with feature names\n",
      "  warnings.warn(\n",
      "D:\\coding\\hereLiesAanaconda\\Lib\\site-packages\\sklearn\\base.py:493: UserWarning: X does not have valid feature names, but StandardScaler was fitted with feature names\n",
      "  warnings.warn(\n",
      "D:\\coding\\hereLiesAanaconda\\Lib\\site-packages\\sklearn\\base.py:493: UserWarning: X does not have valid feature names, but StandardScaler was fitted with feature names\n",
      "  warnings.warn(\n"
     ]
    },
    {
     "name": "stdout",
     "output_type": "stream",
     "text": [
      "Normal [0.05183192 0.00264259 0.94446952 0.00105597]\n",
      "Normal [0.06374331 0.00324399 0.93171181 0.00130089]\n"
     ]
    },
    {
     "name": "stderr",
     "output_type": "stream",
     "text": [
      "D:\\coding\\hereLiesAanaconda\\Lib\\site-packages\\sklearn\\base.py:493: UserWarning: X does not have valid feature names, but StandardScaler was fitted with feature names\n",
      "  warnings.warn(\n",
      "D:\\coding\\hereLiesAanaconda\\Lib\\site-packages\\sklearn\\base.py:493: UserWarning: X does not have valid feature names, but StandardScaler was fitted with feature names\n",
      "  warnings.warn(\n",
      "D:\\coding\\hereLiesAanaconda\\Lib\\site-packages\\sklearn\\base.py:493: UserWarning: X does not have valid feature names, but StandardScaler was fitted with feature names\n",
      "  warnings.warn(\n",
      "D:\\coding\\hereLiesAanaconda\\Lib\\site-packages\\sklearn\\base.py:493: UserWarning: X does not have valid feature names, but StandardScaler was fitted with feature names\n",
      "  warnings.warn(\n"
     ]
    },
    {
     "name": "stdout",
     "output_type": "stream",
     "text": [
      "Normal [0.05570086 0.0027951  0.9400979  0.00140614]\n",
      "Normal [0.05159396 0.0025927  0.94480607 0.00100728]\n"
     ]
    },
    {
     "name": "stderr",
     "output_type": "stream",
     "text": [
      "D:\\coding\\hereLiesAanaconda\\Lib\\site-packages\\sklearn\\base.py:493: UserWarning: X does not have valid feature names, but StandardScaler was fitted with feature names\n",
      "  warnings.warn(\n",
      "D:\\coding\\hereLiesAanaconda\\Lib\\site-packages\\sklearn\\base.py:493: UserWarning: X does not have valid feature names, but StandardScaler was fitted with feature names\n",
      "  warnings.warn(\n",
      "D:\\coding\\hereLiesAanaconda\\Lib\\site-packages\\sklearn\\base.py:493: UserWarning: X does not have valid feature names, but StandardScaler was fitted with feature names\n",
      "  warnings.warn(\n",
      "D:\\coding\\hereLiesAanaconda\\Lib\\site-packages\\sklearn\\base.py:493: UserWarning: X does not have valid feature names, but StandardScaler was fitted with feature names\n",
      "  warnings.warn(\n"
     ]
    },
    {
     "name": "stdout",
     "output_type": "stream",
     "text": [
      "Normal [5.16705187e-02 2.59285178e-03 9.44862215e-01 8.74414135e-04]\n",
      "Normal [4.47554170e-02 2.60146075e-03 9.51768300e-01 8.74822524e-04]\n"
     ]
    },
    {
     "name": "stderr",
     "output_type": "stream",
     "text": [
      "D:\\coding\\hereLiesAanaconda\\Lib\\site-packages\\sklearn\\base.py:493: UserWarning: X does not have valid feature names, but StandardScaler was fitted with feature names\n",
      "  warnings.warn(\n",
      "D:\\coding\\hereLiesAanaconda\\Lib\\site-packages\\sklearn\\base.py:493: UserWarning: X does not have valid feature names, but StandardScaler was fitted with feature names\n",
      "  warnings.warn(\n",
      "D:\\coding\\hereLiesAanaconda\\Lib\\site-packages\\sklearn\\base.py:493: UserWarning: X does not have valid feature names, but StandardScaler was fitted with feature names\n",
      "  warnings.warn(\n",
      "D:\\coding\\hereLiesAanaconda\\Lib\\site-packages\\sklearn\\base.py:493: UserWarning: X does not have valid feature names, but StandardScaler was fitted with feature names\n",
      "  warnings.warn(\n"
     ]
    },
    {
     "name": "stdout",
     "output_type": "stream",
     "text": [
      "Normal [0.06508944 0.00360478 0.93004547 0.00126031]\n",
      "Normal [9.21623564e-02 3.58943291e-03 9.03366690e-01 8.81520988e-04]\n"
     ]
    },
    {
     "name": "stderr",
     "output_type": "stream",
     "text": [
      "D:\\coding\\hereLiesAanaconda\\Lib\\site-packages\\sklearn\\base.py:493: UserWarning: X does not have valid feature names, but StandardScaler was fitted with feature names\n",
      "  warnings.warn(\n",
      "D:\\coding\\hereLiesAanaconda\\Lib\\site-packages\\sklearn\\base.py:493: UserWarning: X does not have valid feature names, but StandardScaler was fitted with feature names\n",
      "  warnings.warn(\n",
      "D:\\coding\\hereLiesAanaconda\\Lib\\site-packages\\sklearn\\base.py:493: UserWarning: X does not have valid feature names, but StandardScaler was fitted with feature names\n",
      "  warnings.warn(\n",
      "D:\\coding\\hereLiesAanaconda\\Lib\\site-packages\\sklearn\\base.py:493: UserWarning: X does not have valid feature names, but StandardScaler was fitted with feature names\n",
      "  warnings.warn(\n"
     ]
    },
    {
     "name": "stdout",
     "output_type": "stream",
     "text": [
      "Normal [0.04227764 0.00462195 0.95200417 0.00109625]\n",
      "Normal [0.05211273 0.00543425 0.9413779  0.00107512]\n"
     ]
    },
    {
     "name": "stderr",
     "output_type": "stream",
     "text": [
      "D:\\coding\\hereLiesAanaconda\\Lib\\site-packages\\sklearn\\base.py:493: UserWarning: X does not have valid feature names, but StandardScaler was fitted with feature names\n",
      "  warnings.warn(\n",
      "D:\\coding\\hereLiesAanaconda\\Lib\\site-packages\\sklearn\\base.py:493: UserWarning: X does not have valid feature names, but StandardScaler was fitted with feature names\n",
      "  warnings.warn(\n",
      "D:\\coding\\hereLiesAanaconda\\Lib\\site-packages\\sklearn\\base.py:493: UserWarning: X does not have valid feature names, but StandardScaler was fitted with feature names\n",
      "  warnings.warn(\n",
      "D:\\coding\\hereLiesAanaconda\\Lib\\site-packages\\sklearn\\base.py:493: UserWarning: X does not have valid feature names, but StandardScaler was fitted with feature names\n",
      "  warnings.warn(\n"
     ]
    },
    {
     "name": "stdout",
     "output_type": "stream",
     "text": [
      "Normal [0.04370131 0.0049693  0.94998232 0.00134707]\n",
      "Normal [0.0251864  0.00143384 0.96665066 0.0067291 ]\n"
     ]
    },
    {
     "name": "stderr",
     "output_type": "stream",
     "text": [
      "D:\\coding\\hereLiesAanaconda\\Lib\\site-packages\\sklearn\\base.py:493: UserWarning: X does not have valid feature names, but StandardScaler was fitted with feature names\n",
      "  warnings.warn(\n",
      "D:\\coding\\hereLiesAanaconda\\Lib\\site-packages\\sklearn\\base.py:493: UserWarning: X does not have valid feature names, but StandardScaler was fitted with feature names\n",
      "  warnings.warn(\n",
      "D:\\coding\\hereLiesAanaconda\\Lib\\site-packages\\sklearn\\base.py:493: UserWarning: X does not have valid feature names, but StandardScaler was fitted with feature names\n",
      "  warnings.warn(\n",
      "D:\\coding\\hereLiesAanaconda\\Lib\\site-packages\\sklearn\\base.py:493: UserWarning: X does not have valid feature names, but StandardScaler was fitted with feature names\n",
      "  warnings.warn(\n"
     ]
    },
    {
     "name": "stdout",
     "output_type": "stream",
     "text": [
      "Normal [0.03113176 0.001314   0.95890672 0.00864752]\n",
      "Normal [3.11557032e-02 5.45873372e-04 9.59644256e-01 8.65416738e-03]\n"
     ]
    },
    {
     "name": "stderr",
     "output_type": "stream",
     "text": [
      "D:\\coding\\hereLiesAanaconda\\Lib\\site-packages\\sklearn\\base.py:493: UserWarning: X does not have valid feature names, but StandardScaler was fitted with feature names\n",
      "  warnings.warn(\n",
      "D:\\coding\\hereLiesAanaconda\\Lib\\site-packages\\sklearn\\base.py:493: UserWarning: X does not have valid feature names, but StandardScaler was fitted with feature names\n",
      "  warnings.warn(\n",
      "D:\\coding\\hereLiesAanaconda\\Lib\\site-packages\\sklearn\\base.py:493: UserWarning: X does not have valid feature names, but StandardScaler was fitted with feature names\n",
      "  warnings.warn(\n",
      "D:\\coding\\hereLiesAanaconda\\Lib\\site-packages\\sklearn\\base.py:493: UserWarning: X does not have valid feature names, but StandardScaler was fitted with feature names\n",
      "  warnings.warn(\n"
     ]
    },
    {
     "name": "stdout",
     "output_type": "stream",
     "text": [
      "Normal [2.71632518e-02 5.24422231e-04 9.67927179e-01 4.38514690e-03]\n",
      "Normal [2.24714698e-02 5.12658444e-04 9.72323893e-01 4.69197844e-03]\n"
     ]
    },
    {
     "name": "stderr",
     "output_type": "stream",
     "text": [
      "D:\\coding\\hereLiesAanaconda\\Lib\\site-packages\\sklearn\\base.py:493: UserWarning: X does not have valid feature names, but StandardScaler was fitted with feature names\n",
      "  warnings.warn(\n",
      "D:\\coding\\hereLiesAanaconda\\Lib\\site-packages\\sklearn\\base.py:493: UserWarning: X does not have valid feature names, but StandardScaler was fitted with feature names\n",
      "  warnings.warn(\n",
      "D:\\coding\\hereLiesAanaconda\\Lib\\site-packages\\sklearn\\base.py:493: UserWarning: X does not have valid feature names, but StandardScaler was fitted with feature names\n",
      "  warnings.warn(\n",
      "D:\\coding\\hereLiesAanaconda\\Lib\\site-packages\\sklearn\\base.py:493: UserWarning: X does not have valid feature names, but StandardScaler was fitted with feature names\n",
      "  warnings.warn(\n"
     ]
    },
    {
     "name": "stdout",
     "output_type": "stream",
     "text": [
      "Normal [1.20117119e-02 2.77547720e-04 9.84970524e-01 2.74021655e-03]\n",
      "Normal [7.96441883e-03 1.54678396e-04 9.90638883e-01 1.24202007e-03]\n"
     ]
    },
    {
     "name": "stderr",
     "output_type": "stream",
     "text": [
      "D:\\coding\\hereLiesAanaconda\\Lib\\site-packages\\sklearn\\base.py:493: UserWarning: X does not have valid feature names, but StandardScaler was fitted with feature names\n",
      "  warnings.warn(\n",
      "D:\\coding\\hereLiesAanaconda\\Lib\\site-packages\\sklearn\\base.py:493: UserWarning: X does not have valid feature names, but StandardScaler was fitted with feature names\n",
      "  warnings.warn(\n",
      "D:\\coding\\hereLiesAanaconda\\Lib\\site-packages\\sklearn\\base.py:493: UserWarning: X does not have valid feature names, but StandardScaler was fitted with feature names\n",
      "  warnings.warn(\n",
      "D:\\coding\\hereLiesAanaconda\\Lib\\site-packages\\sklearn\\base.py:493: UserWarning: X does not have valid feature names, but StandardScaler was fitted with feature names\n",
      "  warnings.warn(\n"
     ]
    },
    {
     "name": "stdout",
     "output_type": "stream",
     "text": [
      "Normal [1.46562406e-03 2.93981340e-05 9.98171937e-01 3.33040623e-04]\n",
      "Normal [1.35603083e-03 2.71998647e-05 9.98295355e-01 3.21414019e-04]\n"
     ]
    },
    {
     "name": "stderr",
     "output_type": "stream",
     "text": [
      "D:\\coding\\hereLiesAanaconda\\Lib\\site-packages\\sklearn\\base.py:493: UserWarning: X does not have valid feature names, but StandardScaler was fitted with feature names\n",
      "  warnings.warn(\n",
      "D:\\coding\\hereLiesAanaconda\\Lib\\site-packages\\sklearn\\base.py:493: UserWarning: X does not have valid feature names, but StandardScaler was fitted with feature names\n",
      "  warnings.warn(\n",
      "D:\\coding\\hereLiesAanaconda\\Lib\\site-packages\\sklearn\\base.py:493: UserWarning: X does not have valid feature names, but StandardScaler was fitted with feature names\n",
      "  warnings.warn(\n",
      "D:\\coding\\hereLiesAanaconda\\Lib\\site-packages\\sklearn\\base.py:493: UserWarning: X does not have valid feature names, but StandardScaler was fitted with feature names\n",
      "  warnings.warn(\n"
     ]
    },
    {
     "name": "stdout",
     "output_type": "stream",
     "text": [
      "Normal [1.20573887e-03 2.41514924e-05 9.98496506e-01 2.73603355e-04]\n",
      "Normal [1.18239438e-03 2.36838918e-05 9.98268234e-01 5.25687538e-04]\n"
     ]
    },
    {
     "name": "stderr",
     "output_type": "stream",
     "text": [
      "D:\\coding\\hereLiesAanaconda\\Lib\\site-packages\\sklearn\\base.py:493: UserWarning: X does not have valid feature names, but StandardScaler was fitted with feature names\n",
      "  warnings.warn(\n",
      "D:\\coding\\hereLiesAanaconda\\Lib\\site-packages\\sklearn\\base.py:493: UserWarning: X does not have valid feature names, but StandardScaler was fitted with feature names\n",
      "  warnings.warn(\n",
      "D:\\coding\\hereLiesAanaconda\\Lib\\site-packages\\sklearn\\base.py:493: UserWarning: X does not have valid feature names, but StandardScaler was fitted with feature names\n",
      "  warnings.warn(\n",
      "D:\\coding\\hereLiesAanaconda\\Lib\\site-packages\\sklearn\\base.py:493: UserWarning: X does not have valid feature names, but StandardScaler was fitted with feature names\n",
      "  warnings.warn(\n"
     ]
    },
    {
     "name": "stdout",
     "output_type": "stream",
     "text": [
      "Normal [1.16615470e-03 2.33586037e-05 9.98311803e-01 4.98683280e-04]\n",
      "Normal [9.94845957e-04 2.41231792e-05 9.98457724e-01 5.23306519e-04]\n"
     ]
    },
    {
     "name": "stderr",
     "output_type": "stream",
     "text": [
      "D:\\coding\\hereLiesAanaconda\\Lib\\site-packages\\sklearn\\base.py:493: UserWarning: X does not have valid feature names, but StandardScaler was fitted with feature names\n",
      "  warnings.warn(\n",
      "D:\\coding\\hereLiesAanaconda\\Lib\\site-packages\\sklearn\\base.py:493: UserWarning: X does not have valid feature names, but StandardScaler was fitted with feature names\n",
      "  warnings.warn(\n",
      "D:\\coding\\hereLiesAanaconda\\Lib\\site-packages\\sklearn\\base.py:493: UserWarning: X does not have valid feature names, but StandardScaler was fitted with feature names\n",
      "  warnings.warn(\n",
      "D:\\coding\\hereLiesAanaconda\\Lib\\site-packages\\sklearn\\base.py:493: UserWarning: X does not have valid feature names, but StandardScaler was fitted with feature names\n",
      "  warnings.warn(\n"
     ]
    },
    {
     "name": "stdout",
     "output_type": "stream",
     "text": [
      "Normal [1.61508657e-03 3.88099850e-05 9.97832769e-01 5.13334913e-04]\n",
      "Normal [1.03063146e-02 5.17436513e-05 9.88805189e-01 8.36752516e-04]\n"
     ]
    },
    {
     "name": "stderr",
     "output_type": "stream",
     "text": [
      "D:\\coding\\hereLiesAanaconda\\Lib\\site-packages\\sklearn\\base.py:493: UserWarning: X does not have valid feature names, but StandardScaler was fitted with feature names\n",
      "  warnings.warn(\n",
      "D:\\coding\\hereLiesAanaconda\\Lib\\site-packages\\sklearn\\base.py:493: UserWarning: X does not have valid feature names, but StandardScaler was fitted with feature names\n",
      "  warnings.warn(\n",
      "D:\\coding\\hereLiesAanaconda\\Lib\\site-packages\\sklearn\\base.py:493: UserWarning: X does not have valid feature names, but StandardScaler was fitted with feature names\n",
      "  warnings.warn(\n",
      "D:\\coding\\hereLiesAanaconda\\Lib\\site-packages\\sklearn\\base.py:493: UserWarning: X does not have valid feature names, but StandardScaler was fitted with feature names\n",
      "  warnings.warn(\n"
     ]
    },
    {
     "name": "stdout",
     "output_type": "stream",
     "text": [
      "Normal [1.67229386e-02 5.09386946e-05 9.82167669e-01 1.05845369e-03]\n",
      "Normal [2.31215863e-04 3.04576554e-05 9.99071138e-01 6.67188669e-04]\n"
     ]
    },
    {
     "name": "stderr",
     "output_type": "stream",
     "text": [
      "D:\\coding\\hereLiesAanaconda\\Lib\\site-packages\\sklearn\\base.py:493: UserWarning: X does not have valid feature names, but StandardScaler was fitted with feature names\n",
      "  warnings.warn(\n",
      "D:\\coding\\hereLiesAanaconda\\Lib\\site-packages\\sklearn\\base.py:493: UserWarning: X does not have valid feature names, but StandardScaler was fitted with feature names\n",
      "  warnings.warn(\n"
     ]
    },
    {
     "name": "stdout",
     "output_type": "stream",
     "text": [
      "Normal [5.66081292e-06 1.95683391e-04 9.99385111e-01 4.13544442e-04]\n"
     ]
    },
    {
     "name": "stderr",
     "output_type": "stream",
     "text": [
      "D:\\coding\\hereLiesAanaconda\\Lib\\site-packages\\sklearn\\base.py:493: UserWarning: X does not have valid feature names, but StandardScaler was fitted with feature names\n",
      "  warnings.warn(\n",
      "D:\\coding\\hereLiesAanaconda\\Lib\\site-packages\\sklearn\\base.py:493: UserWarning: X does not have valid feature names, but StandardScaler was fitted with feature names\n",
      "  warnings.warn(\n",
      "D:\\coding\\hereLiesAanaconda\\Lib\\site-packages\\sklearn\\base.py:493: UserWarning: X does not have valid feature names, but StandardScaler was fitted with feature names\n",
      "  warnings.warn(\n",
      "D:\\coding\\hereLiesAanaconda\\Lib\\site-packages\\sklearn\\base.py:493: UserWarning: X does not have valid feature names, but StandardScaler was fitted with feature names\n",
      "  warnings.warn(\n"
     ]
    },
    {
     "name": "stdout",
     "output_type": "stream",
     "text": [
      "Kyphosis [9.60378626e-01 8.28611417e-04 3.48653434e-02 3.92741915e-03]\n",
      "Kyphosis [0.9549865  0.00167239 0.03931399 0.00402713]\n"
     ]
    },
    {
     "name": "stderr",
     "output_type": "stream",
     "text": [
      "D:\\coding\\hereLiesAanaconda\\Lib\\site-packages\\sklearn\\base.py:493: UserWarning: X does not have valid feature names, but StandardScaler was fitted with feature names\n",
      "  warnings.warn(\n",
      "D:\\coding\\hereLiesAanaconda\\Lib\\site-packages\\sklearn\\base.py:493: UserWarning: X does not have valid feature names, but StandardScaler was fitted with feature names\n",
      "  warnings.warn(\n",
      "D:\\coding\\hereLiesAanaconda\\Lib\\site-packages\\sklearn\\base.py:493: UserWarning: X does not have valid feature names, but StandardScaler was fitted with feature names\n",
      "  warnings.warn(\n",
      "D:\\coding\\hereLiesAanaconda\\Lib\\site-packages\\sklearn\\base.py:493: UserWarning: X does not have valid feature names, but StandardScaler was fitted with feature names\n",
      "  warnings.warn(\n",
      "D:\\coding\\hereLiesAanaconda\\Lib\\site-packages\\sklearn\\base.py:493: UserWarning: X does not have valid feature names, but StandardScaler was fitted with feature names\n",
      "  warnings.warn(\n",
      "D:\\coding\\hereLiesAanaconda\\Lib\\site-packages\\sklearn\\base.py:493: UserWarning: X does not have valid feature names, but StandardScaler was fitted with feature names\n",
      "  warnings.warn(\n"
     ]
    },
    {
     "name": "stdout",
     "output_type": "stream",
     "text": [
      "Kyphosis [0.98403054 0.00508154 0.00965209 0.00123582]\n",
      "Kyphosis [9.97189835e-01 7.50731891e-05 2.58242657e-03 1.52665605e-04]\n",
      "Kyphosis [0.81075188 0.01528541 0.13587702 0.0380857 ]\n"
     ]
    },
    {
     "name": "stderr",
     "output_type": "stream",
     "text": [
      "D:\\coding\\hereLiesAanaconda\\Lib\\site-packages\\sklearn\\base.py:493: UserWarning: X does not have valid feature names, but StandardScaler was fitted with feature names\n",
      "  warnings.warn(\n",
      "D:\\coding\\hereLiesAanaconda\\Lib\\site-packages\\sklearn\\base.py:493: UserWarning: X does not have valid feature names, but StandardScaler was fitted with feature names\n",
      "  warnings.warn(\n",
      "D:\\coding\\hereLiesAanaconda\\Lib\\site-packages\\sklearn\\base.py:493: UserWarning: X does not have valid feature names, but StandardScaler was fitted with feature names\n",
      "  warnings.warn(\n",
      "D:\\coding\\hereLiesAanaconda\\Lib\\site-packages\\sklearn\\base.py:493: UserWarning: X does not have valid feature names, but StandardScaler was fitted with feature names\n",
      "  warnings.warn(\n"
     ]
    },
    {
     "name": "stdout",
     "output_type": "stream",
     "text": [
      "Kyphosis [0.49656111 0.30141996 0.19994076 0.00207817]\n",
      "Lordosis [0.01845268 0.92654168 0.05042209 0.00458355]\n"
     ]
    },
    {
     "name": "stderr",
     "output_type": "stream",
     "text": [
      "D:\\coding\\hereLiesAanaconda\\Lib\\site-packages\\sklearn\\base.py:493: UserWarning: X does not have valid feature names, but StandardScaler was fitted with feature names\n",
      "  warnings.warn(\n",
      "D:\\coding\\hereLiesAanaconda\\Lib\\site-packages\\sklearn\\base.py:493: UserWarning: X does not have valid feature names, but StandardScaler was fitted with feature names\n",
      "  warnings.warn(\n",
      "D:\\coding\\hereLiesAanaconda\\Lib\\site-packages\\sklearn\\base.py:493: UserWarning: X does not have valid feature names, but StandardScaler was fitted with feature names\n",
      "  warnings.warn(\n",
      "D:\\coding\\hereLiesAanaconda\\Lib\\site-packages\\sklearn\\base.py:493: UserWarning: X does not have valid feature names, but StandardScaler was fitted with feature names\n",
      "  warnings.warn(\n"
     ]
    },
    {
     "name": "stdout",
     "output_type": "stream",
     "text": [
      "Lordosis [0.01502905 0.95058638 0.02956052 0.00482405]\n",
      "Lordosis [0.05745528 0.48570716 0.42700439 0.02983317]\n"
     ]
    },
    {
     "name": "stderr",
     "output_type": "stream",
     "text": [
      "D:\\coding\\hereLiesAanaconda\\Lib\\site-packages\\sklearn\\base.py:493: UserWarning: X does not have valid feature names, but StandardScaler was fitted with feature names\n",
      "  warnings.warn(\n",
      "D:\\coding\\hereLiesAanaconda\\Lib\\site-packages\\sklearn\\base.py:493: UserWarning: X does not have valid feature names, but StandardScaler was fitted with feature names\n",
      "  warnings.warn(\n",
      "D:\\coding\\hereLiesAanaconda\\Lib\\site-packages\\sklearn\\base.py:493: UserWarning: X does not have valid feature names, but StandardScaler was fitted with feature names\n",
      "  warnings.warn(\n",
      "D:\\coding\\hereLiesAanaconda\\Lib\\site-packages\\sklearn\\base.py:493: UserWarning: X does not have valid feature names, but StandardScaler was fitted with feature names\n",
      "  warnings.warn(\n"
     ]
    },
    {
     "name": "stdout",
     "output_type": "stream",
     "text": [
      "Normal [0.06816048 0.39344319 0.50656477 0.03183156]\n",
      "Lordosis [0.14302563 0.51149406 0.26787859 0.07760172]\n"
     ]
    },
    {
     "name": "stderr",
     "output_type": "stream",
     "text": [
      "D:\\coding\\hereLiesAanaconda\\Lib\\site-packages\\sklearn\\base.py:493: UserWarning: X does not have valid feature names, but StandardScaler was fitted with feature names\n",
      "  warnings.warn(\n",
      "D:\\coding\\hereLiesAanaconda\\Lib\\site-packages\\sklearn\\base.py:493: UserWarning: X does not have valid feature names, but StandardScaler was fitted with feature names\n",
      "  warnings.warn(\n",
      "D:\\coding\\hereLiesAanaconda\\Lib\\site-packages\\sklearn\\base.py:493: UserWarning: X does not have valid feature names, but StandardScaler was fitted with feature names\n",
      "  warnings.warn(\n",
      "D:\\coding\\hereLiesAanaconda\\Lib\\site-packages\\sklearn\\base.py:493: UserWarning: X does not have valid feature names, but StandardScaler was fitted with feature names\n",
      "  warnings.warn(\n"
     ]
    },
    {
     "name": "stdout",
     "output_type": "stream",
     "text": [
      "Lordosis [0.13884052 0.49035734 0.26751359 0.10328855]\n",
      "Lordosis [0.12510127 0.54936792 0.22775705 0.09777375]\n"
     ]
    },
    {
     "name": "stderr",
     "output_type": "stream",
     "text": [
      "D:\\coding\\hereLiesAanaconda\\Lib\\site-packages\\sklearn\\base.py:493: UserWarning: X does not have valid feature names, but StandardScaler was fitted with feature names\n",
      "  warnings.warn(\n",
      "D:\\coding\\hereLiesAanaconda\\Lib\\site-packages\\sklearn\\base.py:493: UserWarning: X does not have valid feature names, but StandardScaler was fitted with feature names\n",
      "  warnings.warn(\n",
      "D:\\coding\\hereLiesAanaconda\\Lib\\site-packages\\sklearn\\base.py:493: UserWarning: X does not have valid feature names, but StandardScaler was fitted with feature names\n",
      "  warnings.warn(\n",
      "D:\\coding\\hereLiesAanaconda\\Lib\\site-packages\\sklearn\\base.py:493: UserWarning: X does not have valid feature names, but StandardScaler was fitted with feature names\n",
      "  warnings.warn(\n"
     ]
    },
    {
     "name": "stdout",
     "output_type": "stream",
     "text": [
      "Lordosis [0.13461433 0.51209888 0.22028619 0.1330006 ]\n",
      "Lordosis [0.08962359 0.45358358 0.37042385 0.08636899]\n"
     ]
    },
    {
     "name": "stderr",
     "output_type": "stream",
     "text": [
      "D:\\coding\\hereLiesAanaconda\\Lib\\site-packages\\sklearn\\base.py:493: UserWarning: X does not have valid feature names, but StandardScaler was fitted with feature names\n",
      "  warnings.warn(\n",
      "D:\\coding\\hereLiesAanaconda\\Lib\\site-packages\\sklearn\\base.py:493: UserWarning: X does not have valid feature names, but StandardScaler was fitted with feature names\n",
      "  warnings.warn(\n",
      "D:\\coding\\hereLiesAanaconda\\Lib\\site-packages\\sklearn\\base.py:493: UserWarning: X does not have valid feature names, but StandardScaler was fitted with feature names\n",
      "  warnings.warn(\n",
      "D:\\coding\\hereLiesAanaconda\\Lib\\site-packages\\sklearn\\base.py:493: UserWarning: X does not have valid feature names, but StandardScaler was fitted with feature names\n",
      "  warnings.warn(\n"
     ]
    },
    {
     "name": "stdout",
     "output_type": "stream",
     "text": [
      "Lordosis [0.06032256 0.48964723 0.41512721 0.03490301]\n",
      "Lordosis [0.05712554 0.49384406 0.43282449 0.01620591]\n"
     ]
    },
    {
     "name": "stderr",
     "output_type": "stream",
     "text": [
      "D:\\coding\\hereLiesAanaconda\\Lib\\site-packages\\sklearn\\base.py:493: UserWarning: X does not have valid feature names, but StandardScaler was fitted with feature names\n",
      "  warnings.warn(\n",
      "D:\\coding\\hereLiesAanaconda\\Lib\\site-packages\\sklearn\\base.py:493: UserWarning: X does not have valid feature names, but StandardScaler was fitted with feature names\n",
      "  warnings.warn(\n",
      "D:\\coding\\hereLiesAanaconda\\Lib\\site-packages\\sklearn\\base.py:493: UserWarning: X does not have valid feature names, but StandardScaler was fitted with feature names\n",
      "  warnings.warn(\n",
      "D:\\coding\\hereLiesAanaconda\\Lib\\site-packages\\sklearn\\base.py:493: UserWarning: X does not have valid feature names, but StandardScaler was fitted with feature names\n",
      "  warnings.warn(\n"
     ]
    },
    {
     "name": "stdout",
     "output_type": "stream",
     "text": [
      "Lordosis [0.0428141  0.60042153 0.34826768 0.00849669]\n",
      "Normal [0.02735962 0.26280967 0.70611164 0.00371907]\n"
     ]
    },
    {
     "name": "stderr",
     "output_type": "stream",
     "text": [
      "D:\\coding\\hereLiesAanaconda\\Lib\\site-packages\\sklearn\\base.py:493: UserWarning: X does not have valid feature names, but StandardScaler was fitted with feature names\n",
      "  warnings.warn(\n",
      "D:\\coding\\hereLiesAanaconda\\Lib\\site-packages\\sklearn\\base.py:493: UserWarning: X does not have valid feature names, but StandardScaler was fitted with feature names\n",
      "  warnings.warn(\n",
      "D:\\coding\\hereLiesAanaconda\\Lib\\site-packages\\sklearn\\base.py:493: UserWarning: X does not have valid feature names, but StandardScaler was fitted with feature names\n",
      "  warnings.warn(\n",
      "D:\\coding\\hereLiesAanaconda\\Lib\\site-packages\\sklearn\\base.py:493: UserWarning: X does not have valid feature names, but StandardScaler was fitted with feature names\n",
      "  warnings.warn(\n"
     ]
    },
    {
     "name": "stdout",
     "output_type": "stream",
     "text": [
      "Lordosis [0.04270131 0.60082179 0.34906732 0.00740957]\n",
      "Lordosis [0.11347951 0.60777417 0.27128351 0.00746281]\n"
     ]
    },
    {
     "name": "stderr",
     "output_type": "stream",
     "text": [
      "D:\\coding\\hereLiesAanaconda\\Lib\\site-packages\\sklearn\\base.py:493: UserWarning: X does not have valid feature names, but StandardScaler was fitted with feature names\n",
      "  warnings.warn(\n",
      "D:\\coding\\hereLiesAanaconda\\Lib\\site-packages\\sklearn\\base.py:493: UserWarning: X does not have valid feature names, but StandardScaler was fitted with feature names\n",
      "  warnings.warn(\n",
      "D:\\coding\\hereLiesAanaconda\\Lib\\site-packages\\sklearn\\base.py:493: UserWarning: X does not have valid feature names, but StandardScaler was fitted with feature names\n",
      "  warnings.warn(\n",
      "D:\\coding\\hereLiesAanaconda\\Lib\\site-packages\\sklearn\\base.py:493: UserWarning: X does not have valid feature names, but StandardScaler was fitted with feature names\n",
      "  warnings.warn(\n"
     ]
    },
    {
     "name": "stdout",
     "output_type": "stream",
     "text": [
      "Lordosis [0.0207946  0.9639035  0.01396504 0.00133687]\n",
      "Lordosis [0.03778857 0.95150682 0.0090857  0.00161892]\n"
     ]
    },
    {
     "name": "stderr",
     "output_type": "stream",
     "text": [
      "D:\\coding\\hereLiesAanaconda\\Lib\\site-packages\\sklearn\\base.py:493: UserWarning: X does not have valid feature names, but StandardScaler was fitted with feature names\n",
      "  warnings.warn(\n",
      "D:\\coding\\hereLiesAanaconda\\Lib\\site-packages\\sklearn\\base.py:493: UserWarning: X does not have valid feature names, but StandardScaler was fitted with feature names\n",
      "  warnings.warn(\n",
      "D:\\coding\\hereLiesAanaconda\\Lib\\site-packages\\sklearn\\base.py:493: UserWarning: X does not have valid feature names, but StandardScaler was fitted with feature names\n",
      "  warnings.warn(\n",
      "D:\\coding\\hereLiesAanaconda\\Lib\\site-packages\\sklearn\\base.py:493: UserWarning: X does not have valid feature names, but StandardScaler was fitted with feature names\n",
      "  warnings.warn(\n"
     ]
    },
    {
     "name": "stdout",
     "output_type": "stream",
     "text": [
      "Lordosis [0.03617065 0.95340325 0.0091038  0.0013223 ]\n",
      "Lordosis [0.04629741 0.94304766 0.00835987 0.00229506]\n"
     ]
    },
    {
     "name": "stderr",
     "output_type": "stream",
     "text": [
      "D:\\coding\\hereLiesAanaconda\\Lib\\site-packages\\sklearn\\base.py:493: UserWarning: X does not have valid feature names, but StandardScaler was fitted with feature names\n",
      "  warnings.warn(\n",
      "D:\\coding\\hereLiesAanaconda\\Lib\\site-packages\\sklearn\\base.py:493: UserWarning: X does not have valid feature names, but StandardScaler was fitted with feature names\n",
      "  warnings.warn(\n",
      "D:\\coding\\hereLiesAanaconda\\Lib\\site-packages\\sklearn\\base.py:493: UserWarning: X does not have valid feature names, but StandardScaler was fitted with feature names\n",
      "  warnings.warn(\n",
      "D:\\coding\\hereLiesAanaconda\\Lib\\site-packages\\sklearn\\base.py:493: UserWarning: X does not have valid feature names, but StandardScaler was fitted with feature names\n",
      "  warnings.warn(\n"
     ]
    },
    {
     "name": "stdout",
     "output_type": "stream",
     "text": [
      "Lordosis [0.14329532 0.84633614 0.00799338 0.00237516]\n",
      "Lordosis [0.19611992 0.79730072 0.00488153 0.00169784]\n"
     ]
    },
    {
     "name": "stderr",
     "output_type": "stream",
     "text": [
      "D:\\coding\\hereLiesAanaconda\\Lib\\site-packages\\sklearn\\base.py:493: UserWarning: X does not have valid feature names, but StandardScaler was fitted with feature names\n",
      "  warnings.warn(\n",
      "D:\\coding\\hereLiesAanaconda\\Lib\\site-packages\\sklearn\\base.py:493: UserWarning: X does not have valid feature names, but StandardScaler was fitted with feature names\n",
      "  warnings.warn(\n",
      "D:\\coding\\hereLiesAanaconda\\Lib\\site-packages\\sklearn\\base.py:493: UserWarning: X does not have valid feature names, but StandardScaler was fitted with feature names\n",
      "  warnings.warn(\n",
      "D:\\coding\\hereLiesAanaconda\\Lib\\site-packages\\sklearn\\base.py:493: UserWarning: X does not have valid feature names, but StandardScaler was fitted with feature names\n",
      "  warnings.warn(\n"
     ]
    },
    {
     "name": "stdout",
     "output_type": "stream",
     "text": [
      "Lordosis [0.36086775 0.63254179 0.00442905 0.0021614 ]\n",
      "Kyphosis [0.8209691  0.17614178 0.00196695 0.00092217]\n"
     ]
    },
    {
     "name": "stderr",
     "output_type": "stream",
     "text": [
      "D:\\coding\\hereLiesAanaconda\\Lib\\site-packages\\sklearn\\base.py:493: UserWarning: X does not have valid feature names, but StandardScaler was fitted with feature names\n",
      "  warnings.warn(\n",
      "D:\\coding\\hereLiesAanaconda\\Lib\\site-packages\\sklearn\\base.py:493: UserWarning: X does not have valid feature names, but StandardScaler was fitted with feature names\n",
      "  warnings.warn(\n",
      "D:\\coding\\hereLiesAanaconda\\Lib\\site-packages\\sklearn\\base.py:493: UserWarning: X does not have valid feature names, but StandardScaler was fitted with feature names\n",
      "  warnings.warn(\n",
      "D:\\coding\\hereLiesAanaconda\\Lib\\site-packages\\sklearn\\base.py:493: UserWarning: X does not have valid feature names, but StandardScaler was fitted with feature names\n",
      "  warnings.warn(\n"
     ]
    },
    {
     "name": "stdout",
     "output_type": "stream",
     "text": [
      "Kyphosis [0.81448243 0.18265477 0.00203968 0.00082312]\n",
      "Kyphosis [9.57283238e-01 4.21866553e-02 3.65411453e-04 1.64695263e-04]\n"
     ]
    },
    {
     "name": "stderr",
     "output_type": "stream",
     "text": [
      "D:\\coding\\hereLiesAanaconda\\Lib\\site-packages\\sklearn\\base.py:493: UserWarning: X does not have valid feature names, but StandardScaler was fitted with feature names\n",
      "  warnings.warn(\n",
      "D:\\coding\\hereLiesAanaconda\\Lib\\site-packages\\sklearn\\base.py:493: UserWarning: X does not have valid feature names, but StandardScaler was fitted with feature names\n",
      "  warnings.warn(\n",
      "D:\\coding\\hereLiesAanaconda\\Lib\\site-packages\\sklearn\\base.py:493: UserWarning: X does not have valid feature names, but StandardScaler was fitted with feature names\n",
      "  warnings.warn(\n",
      "D:\\coding\\hereLiesAanaconda\\Lib\\site-packages\\sklearn\\base.py:493: UserWarning: X does not have valid feature names, but StandardScaler was fitted with feature names\n",
      "  warnings.warn(\n"
     ]
    },
    {
     "name": "stdout",
     "output_type": "stream",
     "text": [
      "Kyphosis [9.51353670e-01 4.78701625e-02 5.89283674e-04 1.86883482e-04]\n",
      "Kyphosis [9.67138108e-01 3.24027415e-02 3.48597443e-04 1.10553044e-04]\n"
     ]
    },
    {
     "name": "stderr",
     "output_type": "stream",
     "text": [
      "D:\\coding\\hereLiesAanaconda\\Lib\\site-packages\\sklearn\\base.py:493: UserWarning: X does not have valid feature names, but StandardScaler was fitted with feature names\n",
      "  warnings.warn(\n",
      "D:\\coding\\hereLiesAanaconda\\Lib\\site-packages\\sklearn\\base.py:493: UserWarning: X does not have valid feature names, but StandardScaler was fitted with feature names\n",
      "  warnings.warn(\n",
      "D:\\coding\\hereLiesAanaconda\\Lib\\site-packages\\sklearn\\base.py:493: UserWarning: X does not have valid feature names, but StandardScaler was fitted with feature names\n",
      "  warnings.warn(\n",
      "D:\\coding\\hereLiesAanaconda\\Lib\\site-packages\\sklearn\\base.py:493: UserWarning: X does not have valid feature names, but StandardScaler was fitted with feature names\n",
      "  warnings.warn(\n"
     ]
    },
    {
     "name": "stdout",
     "output_type": "stream",
     "text": [
      "Kyphosis [9.67156870e-01 3.24003667e-02 3.32208523e-04 1.10555188e-04]\n",
      "Kyphosis [9.74062667e-01 2.55360006e-02 2.71260449e-04 1.30071794e-04]\n"
     ]
    },
    {
     "name": "stderr",
     "output_type": "stream",
     "text": [
      "D:\\coding\\hereLiesAanaconda\\Lib\\site-packages\\sklearn\\base.py:493: UserWarning: X does not have valid feature names, but StandardScaler was fitted with feature names\n",
      "  warnings.warn(\n",
      "D:\\coding\\hereLiesAanaconda\\Lib\\site-packages\\sklearn\\base.py:493: UserWarning: X does not have valid feature names, but StandardScaler was fitted with feature names\n",
      "  warnings.warn(\n",
      "D:\\coding\\hereLiesAanaconda\\Lib\\site-packages\\sklearn\\base.py:493: UserWarning: X does not have valid feature names, but StandardScaler was fitted with feature names\n",
      "  warnings.warn(\n",
      "D:\\coding\\hereLiesAanaconda\\Lib\\site-packages\\sklearn\\base.py:493: UserWarning: X does not have valid feature names, but StandardScaler was fitted with feature names\n",
      "  warnings.warn(\n"
     ]
    },
    {
     "name": "stdout",
     "output_type": "stream",
     "text": [
      "Kyphosis [9.66839654e-01 3.26645970e-02 3.35076560e-04 1.60672185e-04]\n",
      "Kyphosis [9.58036968e-01 4.13770328e-02 4.24449560e-04 1.61549498e-04]\n"
     ]
    },
    {
     "name": "stderr",
     "output_type": "stream",
     "text": [
      "D:\\coding\\hereLiesAanaconda\\Lib\\site-packages\\sklearn\\base.py:493: UserWarning: X does not have valid feature names, but StandardScaler was fitted with feature names\n",
      "  warnings.warn(\n",
      "D:\\coding\\hereLiesAanaconda\\Lib\\site-packages\\sklearn\\base.py:493: UserWarning: X does not have valid feature names, but StandardScaler was fitted with feature names\n",
      "  warnings.warn(\n",
      "D:\\coding\\hereLiesAanaconda\\Lib\\site-packages\\sklearn\\base.py:493: UserWarning: X does not have valid feature names, but StandardScaler was fitted with feature names\n",
      "  warnings.warn(\n",
      "D:\\coding\\hereLiesAanaconda\\Lib\\site-packages\\sklearn\\base.py:493: UserWarning: X does not have valid feature names, but StandardScaler was fitted with feature names\n",
      "  warnings.warn(\n"
     ]
    },
    {
     "name": "stdout",
     "output_type": "stream",
     "text": [
      "Kyphosis [9.50143267e-01 4.92755625e-02 4.20952327e-04 1.60218419e-04]\n",
      "Kyphosis [9.86208100e-01 1.36211959e-02 1.15378933e-04 5.53252227e-05]\n"
     ]
    },
    {
     "name": "stderr",
     "output_type": "stream",
     "text": [
      "D:\\coding\\hereLiesAanaconda\\Lib\\site-packages\\sklearn\\base.py:493: UserWarning: X does not have valid feature names, but StandardScaler was fitted with feature names\n",
      "  warnings.warn(\n",
      "D:\\coding\\hereLiesAanaconda\\Lib\\site-packages\\sklearn\\base.py:493: UserWarning: X does not have valid feature names, but StandardScaler was fitted with feature names\n",
      "  warnings.warn(\n",
      "D:\\coding\\hereLiesAanaconda\\Lib\\site-packages\\sklearn\\base.py:493: UserWarning: X does not have valid feature names, but StandardScaler was fitted with feature names\n",
      "  warnings.warn(\n",
      "D:\\coding\\hereLiesAanaconda\\Lib\\site-packages\\sklearn\\base.py:493: UserWarning: X does not have valid feature names, but StandardScaler was fitted with feature names\n",
      "  warnings.warn(\n",
      "D:\\coding\\hereLiesAanaconda\\Lib\\site-packages\\sklearn\\base.py:493: UserWarning: X does not have valid feature names, but StandardScaler was fitted with feature names\n",
      "  warnings.warn(\n",
      "D:\\coding\\hereLiesAanaconda\\Lib\\site-packages\\sklearn\\base.py:493: UserWarning: X does not have valid feature names, but StandardScaler was fitted with feature names\n",
      "  warnings.warn(\n"
     ]
    },
    {
     "name": "stdout",
     "output_type": "stream",
     "text": [
      "Kyphosis [9.63864867e-01 3.57174349e-02 3.02546089e-04 1.15151890e-04]\n",
      "Kyphosis [9.49304766e-01 5.01448232e-02 3.98672219e-04 1.51738400e-04]\n",
      "Kyphosis [9.02865175e-01 9.59889939e-02 8.29946056e-04 3.15885282e-04]\n"
     ]
    },
    {
     "name": "stderr",
     "output_type": "stream",
     "text": [
      "D:\\coding\\hereLiesAanaconda\\Lib\\site-packages\\sklearn\\base.py:493: UserWarning: X does not have valid feature names, but StandardScaler was fitted with feature names\n",
      "  warnings.warn(\n",
      "D:\\coding\\hereLiesAanaconda\\Lib\\site-packages\\sklearn\\base.py:493: UserWarning: X does not have valid feature names, but StandardScaler was fitted with feature names\n",
      "  warnings.warn(\n",
      "D:\\coding\\hereLiesAanaconda\\Lib\\site-packages\\sklearn\\base.py:493: UserWarning: X does not have valid feature names, but StandardScaler was fitted with feature names\n",
      "  warnings.warn(\n",
      "D:\\coding\\hereLiesAanaconda\\Lib\\site-packages\\sklearn\\base.py:493: UserWarning: X does not have valid feature names, but StandardScaler was fitted with feature names\n",
      "  warnings.warn(\n",
      "D:\\coding\\hereLiesAanaconda\\Lib\\site-packages\\sklearn\\base.py:493: UserWarning: X does not have valid feature names, but StandardScaler was fitted with feature names\n",
      "  warnings.warn(\n",
      "D:\\coding\\hereLiesAanaconda\\Lib\\site-packages\\sklearn\\base.py:493: UserWarning: X does not have valid feature names, but StandardScaler was fitted with feature names\n",
      "  warnings.warn(\n"
     ]
    },
    {
     "name": "stdout",
     "output_type": "stream",
     "text": [
      "Kyphosis [0.80989695 0.1871525  0.00213714 0.00081342]\n",
      "Lordosis [0.34387924 0.64784274 0.00546232 0.0028157 ]\n",
      "Lordosis [0.02328713 0.9632956  0.00885349 0.00456378]\n"
     ]
    },
    {
     "name": "stderr",
     "output_type": "stream",
     "text": [
      "D:\\coding\\hereLiesAanaconda\\Lib\\site-packages\\sklearn\\base.py:493: UserWarning: X does not have valid feature names, but StandardScaler was fitted with feature names\n",
      "  warnings.warn(\n",
      "D:\\coding\\hereLiesAanaconda\\Lib\\site-packages\\sklearn\\base.py:493: UserWarning: X does not have valid feature names, but StandardScaler was fitted with feature names\n",
      "  warnings.warn(\n",
      "D:\\coding\\hereLiesAanaconda\\Lib\\site-packages\\sklearn\\base.py:493: UserWarning: X does not have valid feature names, but StandardScaler was fitted with feature names\n",
      "  warnings.warn(\n",
      "D:\\coding\\hereLiesAanaconda\\Lib\\site-packages\\sklearn\\base.py:493: UserWarning: X does not have valid feature names, but StandardScaler was fitted with feature names\n",
      "  warnings.warn(\n"
     ]
    },
    {
     "name": "stdout",
     "output_type": "stream",
     "text": [
      "Lordosis [0.00105708 0.99557555 0.00222198 0.00114538]\n",
      "Lordosis [0.001355   0.99399796 0.0034092  0.00123784]\n"
     ]
    },
    {
     "name": "stderr",
     "output_type": "stream",
     "text": [
      "D:\\coding\\hereLiesAanaconda\\Lib\\site-packages\\sklearn\\base.py:493: UserWarning: X does not have valid feature names, but StandardScaler was fitted with feature names\n",
      "  warnings.warn(\n",
      "D:\\coding\\hereLiesAanaconda\\Lib\\site-packages\\sklearn\\base.py:493: UserWarning: X does not have valid feature names, but StandardScaler was fitted with feature names\n",
      "  warnings.warn(\n",
      "D:\\coding\\hereLiesAanaconda\\Lib\\site-packages\\sklearn\\base.py:493: UserWarning: X does not have valid feature names, but StandardScaler was fitted with feature names\n",
      "  warnings.warn(\n",
      "D:\\coding\\hereLiesAanaconda\\Lib\\site-packages\\sklearn\\base.py:493: UserWarning: X does not have valid feature names, but StandardScaler was fitted with feature names\n",
      "  warnings.warn(\n",
      "D:\\coding\\hereLiesAanaconda\\Lib\\site-packages\\sklearn\\base.py:493: UserWarning: X does not have valid feature names, but StandardScaler was fitted with feature names\n",
      "  warnings.warn(\n",
      "D:\\coding\\hereLiesAanaconda\\Lib\\site-packages\\sklearn\\base.py:493: UserWarning: X does not have valid feature names, but StandardScaler was fitted with feature names\n",
      "  warnings.warn(\n"
     ]
    },
    {
     "name": "stdout",
     "output_type": "stream",
     "text": [
      "Lordosis [9.02202083e-04 9.94818432e-01 3.03815629e-03 1.24120943e-03]\n",
      "Lordosis [0.00182711 0.98491923 0.00615279 0.00710087]\n",
      "Lordosis [0.00160488 0.977185   0.00660554 0.01460458]\n"
     ]
    },
    {
     "name": "stderr",
     "output_type": "stream",
     "text": [
      "D:\\coding\\hereLiesAanaconda\\Lib\\site-packages\\sklearn\\base.py:493: UserWarning: X does not have valid feature names, but StandardScaler was fitted with feature names\n",
      "  warnings.warn(\n",
      "D:\\coding\\hereLiesAanaconda\\Lib\\site-packages\\sklearn\\base.py:493: UserWarning: X does not have valid feature names, but StandardScaler was fitted with feature names\n",
      "  warnings.warn(\n",
      "D:\\coding\\hereLiesAanaconda\\Lib\\site-packages\\sklearn\\base.py:493: UserWarning: X does not have valid feature names, but StandardScaler was fitted with feature names\n",
      "  warnings.warn(\n",
      "D:\\coding\\hereLiesAanaconda\\Lib\\site-packages\\sklearn\\base.py:493: UserWarning: X does not have valid feature names, but StandardScaler was fitted with feature names\n",
      "  warnings.warn(\n",
      "D:\\coding\\hereLiesAanaconda\\Lib\\site-packages\\sklearn\\base.py:493: UserWarning: X does not have valid feature names, but StandardScaler was fitted with feature names\n",
      "  warnings.warn(\n",
      "D:\\coding\\hereLiesAanaconda\\Lib\\site-packages\\sklearn\\base.py:493: UserWarning: X does not have valid feature names, but StandardScaler was fitted with feature names\n",
      "  warnings.warn(\n"
     ]
    },
    {
     "name": "stdout",
     "output_type": "stream",
     "text": [
      "Lordosis [0.00200205 0.97444379 0.00824025 0.01531391]\n",
      "Lordosis [0.0020415  0.96295874 0.01069831 0.02430145]\n",
      "Lordosis [0.00153298 0.9708795  0.00933929 0.01824822]\n"
     ]
    },
    {
     "name": "stderr",
     "output_type": "stream",
     "text": [
      "D:\\coding\\hereLiesAanaconda\\Lib\\site-packages\\sklearn\\base.py:493: UserWarning: X does not have valid feature names, but StandardScaler was fitted with feature names\n",
      "  warnings.warn(\n",
      "D:\\coding\\hereLiesAanaconda\\Lib\\site-packages\\sklearn\\base.py:493: UserWarning: X does not have valid feature names, but StandardScaler was fitted with feature names\n",
      "  warnings.warn(\n",
      "D:\\coding\\hereLiesAanaconda\\Lib\\site-packages\\sklearn\\base.py:493: UserWarning: X does not have valid feature names, but StandardScaler was fitted with feature names\n",
      "  warnings.warn(\n",
      "D:\\coding\\hereLiesAanaconda\\Lib\\site-packages\\sklearn\\base.py:493: UserWarning: X does not have valid feature names, but StandardScaler was fitted with feature names\n",
      "  warnings.warn(\n",
      "D:\\coding\\hereLiesAanaconda\\Lib\\site-packages\\sklearn\\base.py:493: UserWarning: X does not have valid feature names, but StandardScaler was fitted with feature names\n",
      "  warnings.warn(\n",
      "D:\\coding\\hereLiesAanaconda\\Lib\\site-packages\\sklearn\\base.py:493: UserWarning: X does not have valid feature names, but StandardScaler was fitted with feature names\n",
      "  warnings.warn(\n"
     ]
    },
    {
     "name": "stdout",
     "output_type": "stream",
     "text": [
      "Lordosis [0.00153493 0.97084255 0.00935114 0.01827138]\n",
      "Lordosis [0.0013557  0.96888696 0.0093323  0.02042503]\n",
      "Lordosis [0.00153273 0.96945324 0.00933776 0.01967627]\n"
     ]
    },
    {
     "name": "stderr",
     "output_type": "stream",
     "text": [
      "D:\\coding\\hereLiesAanaconda\\Lib\\site-packages\\sklearn\\base.py:493: UserWarning: X does not have valid feature names, but StandardScaler was fitted with feature names\n",
      "  warnings.warn(\n",
      "D:\\coding\\hereLiesAanaconda\\Lib\\site-packages\\sklearn\\base.py:493: UserWarning: X does not have valid feature names, but StandardScaler was fitted with feature names\n",
      "  warnings.warn(\n",
      "D:\\coding\\hereLiesAanaconda\\Lib\\site-packages\\sklearn\\base.py:493: UserWarning: X does not have valid feature names, but StandardScaler was fitted with feature names\n",
      "  warnings.warn(\n",
      "D:\\coding\\hereLiesAanaconda\\Lib\\site-packages\\sklearn\\base.py:493: UserWarning: X does not have valid feature names, but StandardScaler was fitted with feature names\n",
      "  warnings.warn(\n"
     ]
    },
    {
     "name": "stdout",
     "output_type": "stream",
     "text": [
      "Lordosis [0.00100291 0.96996767 0.00934271 0.01968671]\n",
      "Lordosis [0.00100435 0.97135846 0.00935611 0.01828109]\n"
     ]
    },
    {
     "name": "stderr",
     "output_type": "stream",
     "text": [
      "D:\\coding\\hereLiesAanaconda\\Lib\\site-packages\\sklearn\\base.py:493: UserWarning: X does not have valid feature names, but StandardScaler was fitted with feature names\n",
      "  warnings.warn(\n",
      "D:\\coding\\hereLiesAanaconda\\Lib\\site-packages\\sklearn\\base.py:493: UserWarning: X does not have valid feature names, but StandardScaler was fitted with feature names\n",
      "  warnings.warn(\n",
      "D:\\coding\\hereLiesAanaconda\\Lib\\site-packages\\sklearn\\base.py:493: UserWarning: X does not have valid feature names, but StandardScaler was fitted with feature names\n",
      "  warnings.warn(\n",
      "D:\\coding\\hereLiesAanaconda\\Lib\\site-packages\\sklearn\\base.py:493: UserWarning: X does not have valid feature names, but StandardScaler was fitted with feature names\n",
      "  warnings.warn(\n"
     ]
    },
    {
     "name": "stdout",
     "output_type": "stream",
     "text": [
      "Lordosis [9.69129490e-04 9.79190755e-01 7.33923515e-03 1.25008803e-02]\n",
      "Lordosis [9.07581459e-04 9.82351927e-01 7.36292878e-03 9.37756278e-03]\n"
     ]
    },
    {
     "name": "stderr",
     "output_type": "stream",
     "text": [
      "D:\\coding\\hereLiesAanaconda\\Lib\\site-packages\\sklearn\\base.py:493: UserWarning: X does not have valid feature names, but StandardScaler was fitted with feature names\n",
      "  warnings.warn(\n",
      "D:\\coding\\hereLiesAanaconda\\Lib\\site-packages\\sklearn\\base.py:493: UserWarning: X does not have valid feature names, but StandardScaler was fitted with feature names\n",
      "  warnings.warn(\n",
      "D:\\coding\\hereLiesAanaconda\\Lib\\site-packages\\sklearn\\base.py:493: UserWarning: X does not have valid feature names, but StandardScaler was fitted with feature names\n",
      "  warnings.warn(\n",
      "D:\\coding\\hereLiesAanaconda\\Lib\\site-packages\\sklearn\\base.py:493: UserWarning: X does not have valid feature names, but StandardScaler was fitted with feature names\n",
      "  warnings.warn(\n",
      "D:\\coding\\hereLiesAanaconda\\Lib\\site-packages\\sklearn\\base.py:493: UserWarning: X does not have valid feature names, but StandardScaler was fitted with feature names\n",
      "  warnings.warn(\n"
     ]
    },
    {
     "name": "stdout",
     "output_type": "stream",
     "text": [
      "Lordosis [8.00805814e-04 9.83896515e-01 7.56116734e-03 7.74151177e-03]\n",
      "Lordosis [7.97325564e-04 9.79620565e-01 1.00143150e-02 9.56779422e-03]\n"
     ]
    },
    {
     "name": "stderr",
     "output_type": "stream",
     "text": [
      "D:\\coding\\hereLiesAanaconda\\Lib\\site-packages\\sklearn\\base.py:493: UserWarning: X does not have valid feature names, but StandardScaler was fitted with feature names\n",
      "  warnings.warn(\n",
      "D:\\coding\\hereLiesAanaconda\\Lib\\site-packages\\sklearn\\base.py:493: UserWarning: X does not have valid feature names, but StandardScaler was fitted with feature names\n",
      "  warnings.warn(\n",
      "D:\\coding\\hereLiesAanaconda\\Lib\\site-packages\\sklearn\\base.py:493: UserWarning: X does not have valid feature names, but StandardScaler was fitted with feature names\n",
      "  warnings.warn(\n"
     ]
    },
    {
     "name": "stdout",
     "output_type": "stream",
     "text": [
      "Lordosis [6.33622961e-04 8.19024804e-01 1.71588904e-01 8.75266915e-03]\n",
      "Lordosis [4.23740801e-04 6.82232087e-01 3.10382672e-01 6.96150057e-03]\n"
     ]
    },
    {
     "name": "stderr",
     "output_type": "stream",
     "text": [
      "D:\\coding\\hereLiesAanaconda\\Lib\\site-packages\\sklearn\\base.py:493: UserWarning: X does not have valid feature names, but StandardScaler was fitted with feature names\n",
      "  warnings.warn(\n",
      "D:\\coding\\hereLiesAanaconda\\Lib\\site-packages\\sklearn\\base.py:493: UserWarning: X does not have valid feature names, but StandardScaler was fitted with feature names\n",
      "  warnings.warn(\n",
      "D:\\coding\\hereLiesAanaconda\\Lib\\site-packages\\sklearn\\base.py:493: UserWarning: X does not have valid feature names, but StandardScaler was fitted with feature names\n",
      "  warnings.warn(\n",
      "D:\\coding\\hereLiesAanaconda\\Lib\\site-packages\\sklearn\\base.py:493: UserWarning: X does not have valid feature names, but StandardScaler was fitted with feature names\n",
      "  warnings.warn(\n"
     ]
    },
    {
     "name": "stdout",
     "output_type": "stream",
     "text": [
      "Lordosis [5.45343293e-04 8.23475551e-01 1.69001403e-01 6.97770209e-03]\n",
      "Lordosis [6.05932895e-04 8.04571373e-01 1.87778067e-01 7.04462616e-03]\n"
     ]
    },
    {
     "name": "stderr",
     "output_type": "stream",
     "text": [
      "D:\\coding\\hereLiesAanaconda\\Lib\\site-packages\\sklearn\\base.py:493: UserWarning: X does not have valid feature names, but StandardScaler was fitted with feature names\n",
      "  warnings.warn(\n",
      "D:\\coding\\hereLiesAanaconda\\Lib\\site-packages\\sklearn\\base.py:493: UserWarning: X does not have valid feature names, but StandardScaler was fitted with feature names\n",
      "  warnings.warn(\n",
      "D:\\coding\\hereLiesAanaconda\\Lib\\site-packages\\sklearn\\base.py:493: UserWarning: X does not have valid feature names, but StandardScaler was fitted with feature names\n",
      "  warnings.warn(\n",
      "D:\\coding\\hereLiesAanaconda\\Lib\\site-packages\\sklearn\\base.py:493: UserWarning: X does not have valid feature names, but StandardScaler was fitted with feature names\n",
      "  warnings.warn(\n"
     ]
    },
    {
     "name": "stdout",
     "output_type": "stream",
     "text": [
      "Lordosis [6.73681393e-04 7.82720776e-01 2.08773267e-01 7.83227583e-03]\n",
      "Lordosis [6.73681393e-04 7.82720776e-01 2.08773267e-01 7.83227583e-03]\n"
     ]
    },
    {
     "name": "stderr",
     "output_type": "stream",
     "text": [
      "D:\\coding\\hereLiesAanaconda\\Lib\\site-packages\\sklearn\\base.py:493: UserWarning: X does not have valid feature names, but StandardScaler was fitted with feature names\n",
      "  warnings.warn(\n",
      "D:\\coding\\hereLiesAanaconda\\Lib\\site-packages\\sklearn\\base.py:493: UserWarning: X does not have valid feature names, but StandardScaler was fitted with feature names\n",
      "  warnings.warn(\n",
      "D:\\coding\\hereLiesAanaconda\\Lib\\site-packages\\sklearn\\base.py:493: UserWarning: X does not have valid feature names, but StandardScaler was fitted with feature names\n",
      "  warnings.warn(\n",
      "D:\\coding\\hereLiesAanaconda\\Lib\\site-packages\\sklearn\\base.py:493: UserWarning: X does not have valid feature names, but StandardScaler was fitted with feature names\n",
      "  warnings.warn(\n",
      "D:\\coding\\hereLiesAanaconda\\Lib\\site-packages\\sklearn\\base.py:493: UserWarning: X does not have valid feature names, but StandardScaler was fitted with feature names\n",
      "  warnings.warn(\n",
      "D:\\coding\\hereLiesAanaconda\\Lib\\site-packages\\sklearn\\base.py:493: UserWarning: X does not have valid feature names, but StandardScaler was fitted with feature names\n",
      "  warnings.warn(\n"
     ]
    },
    {
     "name": "stdout",
     "output_type": "stream",
     "text": [
      "Lordosis [6.69277918e-04 8.35238580e-01 1.56311061e-01 7.78108067e-03]\n",
      "Lordosis [6.55691092e-04 9.51024127e-01 3.97066674e-02 8.61351411e-03]\n",
      "Lordosis [6.88676909e-04 9.45527481e-01 4.17041886e-02 1.20796535e-02]\n"
     ]
    },
    {
     "name": "stderr",
     "output_type": "stream",
     "text": [
      "D:\\coding\\hereLiesAanaconda\\Lib\\site-packages\\sklearn\\base.py:493: UserWarning: X does not have valid feature names, but StandardScaler was fitted with feature names\n",
      "  warnings.warn(\n",
      "D:\\coding\\hereLiesAanaconda\\Lib\\site-packages\\sklearn\\base.py:493: UserWarning: X does not have valid feature names, but StandardScaler was fitted with feature names\n",
      "  warnings.warn(\n",
      "D:\\coding\\hereLiesAanaconda\\Lib\\site-packages\\sklearn\\base.py:493: UserWarning: X does not have valid feature names, but StandardScaler was fitted with feature names\n",
      "  warnings.warn(\n",
      "D:\\coding\\hereLiesAanaconda\\Lib\\site-packages\\sklearn\\base.py:493: UserWarning: X does not have valid feature names, but StandardScaler was fitted with feature names\n",
      "  warnings.warn(\n"
     ]
    },
    {
     "name": "stdout",
     "output_type": "stream",
     "text": [
      "Lordosis [6.90771895e-04 9.48403819e-01 4.18310546e-02 9.07435459e-03]\n",
      "Lordosis [6.90771895e-04 9.48403819e-01 4.18310546e-02 9.07435459e-03]\n"
     ]
    },
    {
     "name": "stderr",
     "output_type": "stream",
     "text": [
      "D:\\coding\\hereLiesAanaconda\\Lib\\site-packages\\sklearn\\base.py:493: UserWarning: X does not have valid feature names, but StandardScaler was fitted with feature names\n",
      "  warnings.warn(\n",
      "D:\\coding\\hereLiesAanaconda\\Lib\\site-packages\\sklearn\\base.py:493: UserWarning: X does not have valid feature names, but StandardScaler was fitted with feature names\n",
      "  warnings.warn(\n",
      "D:\\coding\\hereLiesAanaconda\\Lib\\site-packages\\sklearn\\base.py:493: UserWarning: X does not have valid feature names, but StandardScaler was fitted with feature names\n",
      "  warnings.warn(\n",
      "D:\\coding\\hereLiesAanaconda\\Lib\\site-packages\\sklearn\\base.py:493: UserWarning: X does not have valid feature names, but StandardScaler was fitted with feature names\n",
      "  warnings.warn(\n"
     ]
    },
    {
     "name": "stdout",
     "output_type": "stream",
     "text": [
      "Lordosis [5.25951946e-04 9.60714800e-01 3.18500575e-02 6.90919027e-03]\n",
      "Lordosis [5.30046544e-04 9.64900253e-01 2.84073353e-02 6.16236515e-03]\n"
     ]
    },
    {
     "name": "stderr",
     "output_type": "stream",
     "text": [
      "D:\\coding\\hereLiesAanaconda\\Lib\\site-packages\\sklearn\\base.py:493: UserWarning: X does not have valid feature names, but StandardScaler was fitted with feature names\n",
      "  warnings.warn(\n",
      "D:\\coding\\hereLiesAanaconda\\Lib\\site-packages\\sklearn\\base.py:493: UserWarning: X does not have valid feature names, but StandardScaler was fitted with feature names\n",
      "  warnings.warn(\n",
      "D:\\coding\\hereLiesAanaconda\\Lib\\site-packages\\sklearn\\base.py:493: UserWarning: X does not have valid feature names, but StandardScaler was fitted with feature names\n",
      "  warnings.warn(\n",
      "D:\\coding\\hereLiesAanaconda\\Lib\\site-packages\\sklearn\\base.py:493: UserWarning: X does not have valid feature names, but StandardScaler was fitted with feature names\n",
      "  warnings.warn(\n",
      "D:\\coding\\hereLiesAanaconda\\Lib\\site-packages\\sklearn\\base.py:493: UserWarning: X does not have valid feature names, but StandardScaler was fitted with feature names\n",
      "  warnings.warn(\n",
      "D:\\coding\\hereLiesAanaconda\\Lib\\site-packages\\sklearn\\base.py:493: UserWarning: X does not have valid feature names, but StandardScaler was fitted with feature names\n",
      "  warnings.warn(\n"
     ]
    },
    {
     "name": "stdout",
     "output_type": "stream",
     "text": [
      "Lordosis [5.30046544e-04 9.64900253e-01 2.84073353e-02 6.16236515e-03]\n",
      "Lordosis [5.29595884e-04 9.64079869e-01 2.83831826e-02 7.00735291e-03]\n",
      "Lordosis [4.68415785e-04 9.63490860e-01 2.83658418e-02 7.67488214e-03]\n"
     ]
    },
    {
     "name": "stderr",
     "output_type": "stream",
     "text": [
      "D:\\coding\\hereLiesAanaconda\\Lib\\site-packages\\sklearn\\base.py:493: UserWarning: X does not have valid feature names, but StandardScaler was fitted with feature names\n",
      "  warnings.warn(\n",
      "D:\\coding\\hereLiesAanaconda\\Lib\\site-packages\\sklearn\\base.py:493: UserWarning: X does not have valid feature names, but StandardScaler was fitted with feature names\n",
      "  warnings.warn(\n",
      "D:\\coding\\hereLiesAanaconda\\Lib\\site-packages\\sklearn\\base.py:493: UserWarning: X does not have valid feature names, but StandardScaler was fitted with feature names\n",
      "  warnings.warn(\n",
      "D:\\coding\\hereLiesAanaconda\\Lib\\site-packages\\sklearn\\base.py:493: UserWarning: X does not have valid feature names, but StandardScaler was fitted with feature names\n",
      "  warnings.warn(\n"
     ]
    },
    {
     "name": "stdout",
     "output_type": "stream",
     "text": [
      "Lordosis [3.99170694e-04 6.16390708e-01 3.76061396e-01 7.14872531e-03]\n",
      "Lordosis [0.00088918 0.8026564  0.18053017 0.01592425]\n"
     ]
    },
    {
     "name": "stderr",
     "output_type": "stream",
     "text": [
      "D:\\coding\\hereLiesAanaconda\\Lib\\site-packages\\sklearn\\base.py:493: UserWarning: X does not have valid feature names, but StandardScaler was fitted with feature names\n",
      "  warnings.warn(\n",
      "D:\\coding\\hereLiesAanaconda\\Lib\\site-packages\\sklearn\\base.py:493: UserWarning: X does not have valid feature names, but StandardScaler was fitted with feature names\n",
      "  warnings.warn(\n",
      "D:\\coding\\hereLiesAanaconda\\Lib\\site-packages\\sklearn\\base.py:493: UserWarning: X does not have valid feature names, but StandardScaler was fitted with feature names\n",
      "  warnings.warn(\n",
      "D:\\coding\\hereLiesAanaconda\\Lib\\site-packages\\sklearn\\base.py:493: UserWarning: X does not have valid feature names, but StandardScaler was fitted with feature names\n",
      "  warnings.warn(\n"
     ]
    },
    {
     "name": "stdout",
     "output_type": "stream",
     "text": [
      "Lordosis [0.00193683 0.65184417 0.32560805 0.02061095]\n",
      "Lordosis [0.00260898 0.87805568 0.09365379 0.02568155]\n"
     ]
    },
    {
     "name": "stderr",
     "output_type": "stream",
     "text": [
      "D:\\coding\\hereLiesAanaconda\\Lib\\site-packages\\sklearn\\base.py:493: UserWarning: X does not have valid feature names, but StandardScaler was fitted with feature names\n",
      "  warnings.warn(\n",
      "D:\\coding\\hereLiesAanaconda\\Lib\\site-packages\\sklearn\\base.py:493: UserWarning: X does not have valid feature names, but StandardScaler was fitted with feature names\n",
      "  warnings.warn(\n",
      "D:\\coding\\hereLiesAanaconda\\Lib\\site-packages\\sklearn\\base.py:493: UserWarning: X does not have valid feature names, but StandardScaler was fitted with feature names\n",
      "  warnings.warn(\n",
      "D:\\coding\\hereLiesAanaconda\\Lib\\site-packages\\sklearn\\base.py:493: UserWarning: X does not have valid feature names, but StandardScaler was fitted with feature names\n",
      "  warnings.warn(\n"
     ]
    },
    {
     "name": "stdout",
     "output_type": "stream",
     "text": [
      "Lordosis [0.00211014 0.63115404 0.34464394 0.02209188]\n",
      "Lordosis [0.0029947  0.87301279 0.02609216 0.09790035]\n"
     ]
    },
    {
     "name": "stderr",
     "output_type": "stream",
     "text": [
      "D:\\coding\\hereLiesAanaconda\\Lib\\site-packages\\sklearn\\base.py:493: UserWarning: X does not have valid feature names, but StandardScaler was fitted with feature names\n",
      "  warnings.warn(\n",
      "D:\\coding\\hereLiesAanaconda\\Lib\\site-packages\\sklearn\\base.py:493: UserWarning: X does not have valid feature names, but StandardScaler was fitted with feature names\n",
      "  warnings.warn(\n",
      "D:\\coding\\hereLiesAanaconda\\Lib\\site-packages\\sklearn\\base.py:493: UserWarning: X does not have valid feature names, but StandardScaler was fitted with feature names\n",
      "  warnings.warn(\n",
      "D:\\coding\\hereLiesAanaconda\\Lib\\site-packages\\sklearn\\base.py:493: UserWarning: X does not have valid feature names, but StandardScaler was fitted with feature names\n",
      "  warnings.warn(\n"
     ]
    },
    {
     "name": "stdout",
     "output_type": "stream",
     "text": [
      "Lordosis [0.00411279 0.87084401 0.01060367 0.11443954]\n",
      "Swayback [0.00937244 0.45387392 0.02232725 0.51442639]\n"
     ]
    },
    {
     "name": "stderr",
     "output_type": "stream",
     "text": [
      "D:\\coding\\hereLiesAanaconda\\Lib\\site-packages\\sklearn\\base.py:493: UserWarning: X does not have valid feature names, but StandardScaler was fitted with feature names\n",
      "  warnings.warn(\n",
      "D:\\coding\\hereLiesAanaconda\\Lib\\site-packages\\sklearn\\base.py:493: UserWarning: X does not have valid feature names, but StandardScaler was fitted with feature names\n",
      "  warnings.warn(\n",
      "D:\\coding\\hereLiesAanaconda\\Lib\\site-packages\\sklearn\\base.py:493: UserWarning: X does not have valid feature names, but StandardScaler was fitted with feature names\n",
      "  warnings.warn(\n",
      "D:\\coding\\hereLiesAanaconda\\Lib\\site-packages\\sklearn\\base.py:493: UserWarning: X does not have valid feature names, but StandardScaler was fitted with feature names\n",
      "  warnings.warn(\n"
     ]
    },
    {
     "name": "stdout",
     "output_type": "stream",
     "text": [
      "Swayback [0.0088253  0.41745997 0.0406141  0.53310064]\n",
      "Lordosis [0.00410609 0.51492302 0.02357939 0.4573915 ]\n"
     ]
    },
    {
     "name": "stderr",
     "output_type": "stream",
     "text": [
      "D:\\coding\\hereLiesAanaconda\\Lib\\site-packages\\sklearn\\base.py:493: UserWarning: X does not have valid feature names, but StandardScaler was fitted with feature names\n",
      "  warnings.warn(\n",
      "D:\\coding\\hereLiesAanaconda\\Lib\\site-packages\\sklearn\\base.py:493: UserWarning: X does not have valid feature names, but StandardScaler was fitted with feature names\n",
      "  warnings.warn(\n",
      "D:\\coding\\hereLiesAanaconda\\Lib\\site-packages\\sklearn\\base.py:493: UserWarning: X does not have valid feature names, but StandardScaler was fitted with feature names\n",
      "  warnings.warn(\n",
      "D:\\coding\\hereLiesAanaconda\\Lib\\site-packages\\sklearn\\base.py:493: UserWarning: X does not have valid feature names, but StandardScaler was fitted with feature names\n",
      "  warnings.warn(\n"
     ]
    },
    {
     "name": "stdout",
     "output_type": "stream",
     "text": [
      "Lordosis [0.00366616 0.51433139 0.0210531  0.46094934]\n",
      "Lordosis [0.00376038 0.65554904 0.01911122 0.32157936]\n"
     ]
    },
    {
     "name": "stderr",
     "output_type": "stream",
     "text": [
      "D:\\coding\\hereLiesAanaconda\\Lib\\site-packages\\sklearn\\base.py:493: UserWarning: X does not have valid feature names, but StandardScaler was fitted with feature names\n",
      "  warnings.warn(\n",
      "D:\\coding\\hereLiesAanaconda\\Lib\\site-packages\\sklearn\\base.py:493: UserWarning: X does not have valid feature names, but StandardScaler was fitted with feature names\n",
      "  warnings.warn(\n",
      "D:\\coding\\hereLiesAanaconda\\Lib\\site-packages\\sklearn\\base.py:493: UserWarning: X does not have valid feature names, but StandardScaler was fitted with feature names\n",
      "  warnings.warn(\n",
      "D:\\coding\\hereLiesAanaconda\\Lib\\site-packages\\sklearn\\base.py:493: UserWarning: X does not have valid feature names, but StandardScaler was fitted with feature names\n",
      "  warnings.warn(\n"
     ]
    },
    {
     "name": "stdout",
     "output_type": "stream",
     "text": [
      "Lordosis [0.00358323 0.58081786 0.0182109  0.39738802]\n",
      "Lordosis [0.00286445 0.50540604 0.01455789 0.47717161]\n"
     ]
    },
    {
     "name": "stderr",
     "output_type": "stream",
     "text": [
      "D:\\coding\\hereLiesAanaconda\\Lib\\site-packages\\sklearn\\base.py:493: UserWarning: X does not have valid feature names, but StandardScaler was fitted with feature names\n",
      "  warnings.warn(\n",
      "D:\\coding\\hereLiesAanaconda\\Lib\\site-packages\\sklearn\\base.py:493: UserWarning: X does not have valid feature names, but StandardScaler was fitted with feature names\n",
      "  warnings.warn(\n",
      "D:\\coding\\hereLiesAanaconda\\Lib\\site-packages\\sklearn\\base.py:493: UserWarning: X does not have valid feature names, but StandardScaler was fitted with feature names\n",
      "  warnings.warn(\n",
      "D:\\coding\\hereLiesAanaconda\\Lib\\site-packages\\sklearn\\base.py:493: UserWarning: X does not have valid feature names, but StandardScaler was fitted with feature names\n",
      "  warnings.warn(\n"
     ]
    },
    {
     "name": "stdout",
     "output_type": "stream",
     "text": [
      "Lordosis [0.00299034 0.52761712 0.01519766 0.45419488]\n",
      "Lordosis [0.00243098 0.55616545 0.01429146 0.42711212]\n"
     ]
    },
    {
     "name": "stderr",
     "output_type": "stream",
     "text": [
      "D:\\coding\\hereLiesAanaconda\\Lib\\site-packages\\sklearn\\base.py:493: UserWarning: X does not have valid feature names, but StandardScaler was fitted with feature names\n",
      "  warnings.warn(\n",
      "D:\\coding\\hereLiesAanaconda\\Lib\\site-packages\\sklearn\\base.py:493: UserWarning: X does not have valid feature names, but StandardScaler was fitted with feature names\n",
      "  warnings.warn(\n",
      "D:\\coding\\hereLiesAanaconda\\Lib\\site-packages\\sklearn\\base.py:493: UserWarning: X does not have valid feature names, but StandardScaler was fitted with feature names\n",
      "  warnings.warn(\n",
      "D:\\coding\\hereLiesAanaconda\\Lib\\site-packages\\sklearn\\base.py:493: UserWarning: X does not have valid feature names, but StandardScaler was fitted with feature names\n",
      "  warnings.warn(\n"
     ]
    },
    {
     "name": "stdout",
     "output_type": "stream",
     "text": [
      "Swayback [0.0023707  0.4485029  0.01393711 0.53518929]\n",
      "Swayback [0.0023707  0.4485029  0.01393711 0.53518929]\n"
     ]
    },
    {
     "name": "stderr",
     "output_type": "stream",
     "text": [
      "D:\\coding\\hereLiesAanaconda\\Lib\\site-packages\\sklearn\\base.py:493: UserWarning: X does not have valid feature names, but StandardScaler was fitted with feature names\n",
      "  warnings.warn(\n",
      "D:\\coding\\hereLiesAanaconda\\Lib\\site-packages\\sklearn\\base.py:493: UserWarning: X does not have valid feature names, but StandardScaler was fitted with feature names\n",
      "  warnings.warn(\n",
      "D:\\coding\\hereLiesAanaconda\\Lib\\site-packages\\sklearn\\base.py:493: UserWarning: X does not have valid feature names, but StandardScaler was fitted with feature names\n",
      "  warnings.warn(\n",
      "D:\\coding\\hereLiesAanaconda\\Lib\\site-packages\\sklearn\\base.py:493: UserWarning: X does not have valid feature names, but StandardScaler was fitted with feature names\n",
      "  warnings.warn(\n"
     ]
    },
    {
     "name": "stdout",
     "output_type": "stream",
     "text": [
      "Swayback [0.00245451 0.4290065  0.01442981 0.55410918]\n",
      "Swayback [0.00228313 0.39288205 0.01535102 0.58948381]\n"
     ]
    },
    {
     "name": "stderr",
     "output_type": "stream",
     "text": [
      "D:\\coding\\hereLiesAanaconda\\Lib\\site-packages\\sklearn\\base.py:493: UserWarning: X does not have valid feature names, but StandardScaler was fitted with feature names\n",
      "  warnings.warn(\n",
      "D:\\coding\\hereLiesAanaconda\\Lib\\site-packages\\sklearn\\base.py:493: UserWarning: X does not have valid feature names, but StandardScaler was fitted with feature names\n",
      "  warnings.warn(\n",
      "D:\\coding\\hereLiesAanaconda\\Lib\\site-packages\\sklearn\\base.py:493: UserWarning: X does not have valid feature names, but StandardScaler was fitted with feature names\n",
      "  warnings.warn(\n",
      "D:\\coding\\hereLiesAanaconda\\Lib\\site-packages\\sklearn\\base.py:493: UserWarning: X does not have valid feature names, but StandardScaler was fitted with feature names\n",
      "  warnings.warn(\n"
     ]
    },
    {
     "name": "stdout",
     "output_type": "stream",
     "text": [
      "Swayback [0.00209859 0.4046634  0.01411022 0.57912779]\n",
      "Lordosis [0.0020904  0.52467876 0.01405517 0.45917567]\n"
     ]
    },
    {
     "name": "stderr",
     "output_type": "stream",
     "text": [
      "D:\\coding\\hereLiesAanaconda\\Lib\\site-packages\\sklearn\\base.py:493: UserWarning: X does not have valid feature names, but StandardScaler was fitted with feature names\n",
      "  warnings.warn(\n",
      "D:\\coding\\hereLiesAanaconda\\Lib\\site-packages\\sklearn\\base.py:493: UserWarning: X does not have valid feature names, but StandardScaler was fitted with feature names\n",
      "  warnings.warn(\n",
      "D:\\coding\\hereLiesAanaconda\\Lib\\site-packages\\sklearn\\base.py:493: UserWarning: X does not have valid feature names, but StandardScaler was fitted with feature names\n",
      "  warnings.warn(\n",
      "D:\\coding\\hereLiesAanaconda\\Lib\\site-packages\\sklearn\\base.py:493: UserWarning: X does not have valid feature names, but StandardScaler was fitted with feature names\n",
      "  warnings.warn(\n"
     ]
    },
    {
     "name": "stdout",
     "output_type": "stream",
     "text": [
      "Swayback [0.00136109 0.19824997 0.00980372 0.79058522]\n",
      "Swayback [0.00209557 0.20932379 0.01509398 0.77348666]\n"
     ]
    },
    {
     "name": "stderr",
     "output_type": "stream",
     "text": [
      "D:\\coding\\hereLiesAanaconda\\Lib\\site-packages\\sklearn\\base.py:493: UserWarning: X does not have valid feature names, but StandardScaler was fitted with feature names\n",
      "  warnings.warn(\n",
      "D:\\coding\\hereLiesAanaconda\\Lib\\site-packages\\sklearn\\base.py:493: UserWarning: X does not have valid feature names, but StandardScaler was fitted with feature names\n",
      "  warnings.warn(\n",
      "D:\\coding\\hereLiesAanaconda\\Lib\\site-packages\\sklearn\\base.py:493: UserWarning: X does not have valid feature names, but StandardScaler was fitted with feature names\n",
      "  warnings.warn(\n",
      "D:\\coding\\hereLiesAanaconda\\Lib\\site-packages\\sklearn\\base.py:493: UserWarning: X does not have valid feature names, but StandardScaler was fitted with feature names\n",
      "  warnings.warn(\n"
     ]
    },
    {
     "name": "stdout",
     "output_type": "stream",
     "text": [
      "Swayback [6.83368448e-04 6.82609470e-02 4.92218151e-03 9.26133503e-01]\n",
      "Swayback [6.49695451e-04 2.57441713e-02 4.67964089e-03 9.68926492e-01]\n"
     ]
    },
    {
     "name": "stderr",
     "output_type": "stream",
     "text": [
      "D:\\coding\\hereLiesAanaconda\\Lib\\site-packages\\sklearn\\base.py:493: UserWarning: X does not have valid feature names, but StandardScaler was fitted with feature names\n",
      "  warnings.warn(\n",
      "D:\\coding\\hereLiesAanaconda\\Lib\\site-packages\\sklearn\\base.py:493: UserWarning: X does not have valid feature names, but StandardScaler was fitted with feature names\n",
      "  warnings.warn(\n",
      "D:\\coding\\hereLiesAanaconda\\Lib\\site-packages\\sklearn\\base.py:493: UserWarning: X does not have valid feature names, but StandardScaler was fitted with feature names\n",
      "  warnings.warn(\n",
      "D:\\coding\\hereLiesAanaconda\\Lib\\site-packages\\sklearn\\base.py:493: UserWarning: X does not have valid feature names, but StandardScaler was fitted with feature names\n",
      "  warnings.warn(\n"
     ]
    },
    {
     "name": "stdout",
     "output_type": "stream",
     "text": [
      "Swayback [6.06265590e-04 2.51667938e-02 4.36682332e-03 9.69860117e-01]\n",
      "Swayback [0.35588371 0.01622018 0.00281445 0.62508166]\n"
     ]
    },
    {
     "name": "stderr",
     "output_type": "stream",
     "text": [
      "D:\\coding\\hereLiesAanaconda\\Lib\\site-packages\\sklearn\\base.py:493: UserWarning: X does not have valid feature names, but StandardScaler was fitted with feature names\n",
      "  warnings.warn(\n",
      "D:\\coding\\hereLiesAanaconda\\Lib\\site-packages\\sklearn\\base.py:493: UserWarning: X does not have valid feature names, but StandardScaler was fitted with feature names\n",
      "  warnings.warn(\n",
      "D:\\coding\\hereLiesAanaconda\\Lib\\site-packages\\sklearn\\base.py:493: UserWarning: X does not have valid feature names, but StandardScaler was fitted with feature names\n",
      "  warnings.warn(\n",
      "D:\\coding\\hereLiesAanaconda\\Lib\\site-packages\\sklearn\\base.py:493: UserWarning: X does not have valid feature names, but StandardScaler was fitted with feature names\n",
      "  warnings.warn(\n"
     ]
    },
    {
     "name": "stdout",
     "output_type": "stream",
     "text": [
      "Swayback [0.34280143 0.01786902 0.00310055 0.636229  ]\n",
      "Swayback [0.2905666  0.01514621 0.0026281  0.69165909]\n"
     ]
    },
    {
     "name": "stderr",
     "output_type": "stream",
     "text": [
      "D:\\coding\\hereLiesAanaconda\\Lib\\site-packages\\sklearn\\base.py:493: UserWarning: X does not have valid feature names, but StandardScaler was fitted with feature names\n",
      "  warnings.warn(\n",
      "D:\\coding\\hereLiesAanaconda\\Lib\\site-packages\\sklearn\\base.py:493: UserWarning: X does not have valid feature names, but StandardScaler was fitted with feature names\n",
      "  warnings.warn(\n",
      "D:\\coding\\hereLiesAanaconda\\Lib\\site-packages\\sklearn\\base.py:493: UserWarning: X does not have valid feature names, but StandardScaler was fitted with feature names\n",
      "  warnings.warn(\n",
      "D:\\coding\\hereLiesAanaconda\\Lib\\site-packages\\sklearn\\base.py:493: UserWarning: X does not have valid feature names, but StandardScaler was fitted with feature names\n",
      "  warnings.warn(\n"
     ]
    },
    {
     "name": "stdout",
     "output_type": "stream",
     "text": [
      "Swayback [0.31755776 0.01655316 0.00287223 0.66301685]\n",
      "Swayback [0.33579914 0.01750402 0.00303721 0.64365962]\n"
     ]
    },
    {
     "name": "stderr",
     "output_type": "stream",
     "text": [
      "D:\\coding\\hereLiesAanaconda\\Lib\\site-packages\\sklearn\\base.py:493: UserWarning: X does not have valid feature names, but StandardScaler was fitted with feature names\n",
      "  warnings.warn(\n",
      "D:\\coding\\hereLiesAanaconda\\Lib\\site-packages\\sklearn\\base.py:493: UserWarning: X does not have valid feature names, but StandardScaler was fitted with feature names\n",
      "  warnings.warn(\n",
      "D:\\coding\\hereLiesAanaconda\\Lib\\site-packages\\sklearn\\base.py:493: UserWarning: X does not have valid feature names, but StandardScaler was fitted with feature names\n",
      "  warnings.warn(\n",
      "D:\\coding\\hereLiesAanaconda\\Lib\\site-packages\\sklearn\\base.py:493: UserWarning: X does not have valid feature names, but StandardScaler was fitted with feature names\n",
      "  warnings.warn(\n"
     ]
    },
    {
     "name": "stdout",
     "output_type": "stream",
     "text": [
      "Swayback [0.33579914 0.01750402 0.00303721 0.64365962]\n",
      "Swayback [0.33486041 0.0202506  0.00302872 0.64186027]\n"
     ]
    },
    {
     "name": "stderr",
     "output_type": "stream",
     "text": [
      "D:\\coding\\hereLiesAanaconda\\Lib\\site-packages\\sklearn\\base.py:493: UserWarning: X does not have valid feature names, but StandardScaler was fitted with feature names\n",
      "  warnings.warn(\n",
      "D:\\coding\\hereLiesAanaconda\\Lib\\site-packages\\sklearn\\base.py:493: UserWarning: X does not have valid feature names, but StandardScaler was fitted with feature names\n",
      "  warnings.warn(\n",
      "D:\\coding\\hereLiesAanaconda\\Lib\\site-packages\\sklearn\\base.py:493: UserWarning: X does not have valid feature names, but StandardScaler was fitted with feature names\n",
      "  warnings.warn(\n",
      "D:\\coding\\hereLiesAanaconda\\Lib\\site-packages\\sklearn\\base.py:493: UserWarning: X does not have valid feature names, but StandardScaler was fitted with feature names\n",
      "  warnings.warn(\n"
     ]
    },
    {
     "name": "stdout",
     "output_type": "stream",
     "text": [
      "Swayback [0.37993732 0.02297661 0.00343643 0.59364963]\n",
      "Swayback [0.3805959  0.02086778 0.00385765 0.59467866]\n"
     ]
    },
    {
     "name": "stderr",
     "output_type": "stream",
     "text": [
      "D:\\coding\\hereLiesAanaconda\\Lib\\site-packages\\sklearn\\base.py:493: UserWarning: X does not have valid feature names, but StandardScaler was fitted with feature names\n",
      "  warnings.warn(\n",
      "D:\\coding\\hereLiesAanaconda\\Lib\\site-packages\\sklearn\\base.py:493: UserWarning: X does not have valid feature names, but StandardScaler was fitted with feature names\n",
      "  warnings.warn(\n",
      "D:\\coding\\hereLiesAanaconda\\Lib\\site-packages\\sklearn\\base.py:493: UserWarning: X does not have valid feature names, but StandardScaler was fitted with feature names\n",
      "  warnings.warn(\n",
      "D:\\coding\\hereLiesAanaconda\\Lib\\site-packages\\sklearn\\base.py:493: UserWarning: X does not have valid feature names, but StandardScaler was fitted with feature names\n",
      "  warnings.warn(\n"
     ]
    },
    {
     "name": "stdout",
     "output_type": "stream",
     "text": [
      "Swayback [0.38043797 0.01933952 0.00386852 0.59635399]\n",
      "Swayback [0.38767067 0.01786746 0.00356956 0.59089231]\n"
     ]
    },
    {
     "name": "stderr",
     "output_type": "stream",
     "text": [
      "D:\\coding\\hereLiesAanaconda\\Lib\\site-packages\\sklearn\\base.py:493: UserWarning: X does not have valid feature names, but StandardScaler was fitted with feature names\n",
      "  warnings.warn(\n",
      "D:\\coding\\hereLiesAanaconda\\Lib\\site-packages\\sklearn\\base.py:493: UserWarning: X does not have valid feature names, but StandardScaler was fitted with feature names\n",
      "  warnings.warn(\n",
      "D:\\coding\\hereLiesAanaconda\\Lib\\site-packages\\sklearn\\base.py:493: UserWarning: X does not have valid feature names, but StandardScaler was fitted with feature names\n",
      "  warnings.warn(\n",
      "D:\\coding\\hereLiesAanaconda\\Lib\\site-packages\\sklearn\\base.py:493: UserWarning: X does not have valid feature names, but StandardScaler was fitted with feature names\n",
      "  warnings.warn(\n"
     ]
    },
    {
     "name": "stdout",
     "output_type": "stream",
     "text": [
      "Swayback [0.38514356 0.01957872 0.00823725 0.58704047]\n",
      "Kyphosis [0.50138674 0.01879642 0.01292881 0.46688803]\n"
     ]
    },
    {
     "name": "stderr",
     "output_type": "stream",
     "text": [
      "D:\\coding\\hereLiesAanaconda\\Lib\\site-packages\\sklearn\\base.py:493: UserWarning: X does not have valid feature names, but StandardScaler was fitted with feature names\n",
      "  warnings.warn(\n",
      "D:\\coding\\hereLiesAanaconda\\Lib\\site-packages\\sklearn\\base.py:493: UserWarning: X does not have valid feature names, but StandardScaler was fitted with feature names\n",
      "  warnings.warn(\n",
      "D:\\coding\\hereLiesAanaconda\\Lib\\site-packages\\sklearn\\base.py:493: UserWarning: X does not have valid feature names, but StandardScaler was fitted with feature names\n",
      "  warnings.warn(\n",
      "D:\\coding\\hereLiesAanaconda\\Lib\\site-packages\\sklearn\\base.py:493: UserWarning: X does not have valid feature names, but StandardScaler was fitted with feature names\n",
      "  warnings.warn(\n"
     ]
    },
    {
     "name": "stdout",
     "output_type": "stream",
     "text": [
      "Kyphosis [0.48141243 0.01555172 0.03249036 0.4705455 ]\n",
      "Kyphosis [0.44474262 0.01208279 0.11477598 0.42839861]\n"
     ]
    },
    {
     "name": "stderr",
     "output_type": "stream",
     "text": [
      "D:\\coding\\hereLiesAanaconda\\Lib\\site-packages\\sklearn\\base.py:493: UserWarning: X does not have valid feature names, but StandardScaler was fitted with feature names\n",
      "  warnings.warn(\n",
      "D:\\coding\\hereLiesAanaconda\\Lib\\site-packages\\sklearn\\base.py:493: UserWarning: X does not have valid feature names, but StandardScaler was fitted with feature names\n",
      "  warnings.warn(\n",
      "D:\\coding\\hereLiesAanaconda\\Lib\\site-packages\\sklearn\\base.py:493: UserWarning: X does not have valid feature names, but StandardScaler was fitted with feature names\n",
      "  warnings.warn(\n",
      "D:\\coding\\hereLiesAanaconda\\Lib\\site-packages\\sklearn\\base.py:493: UserWarning: X does not have valid feature names, but StandardScaler was fitted with feature names\n",
      "  warnings.warn(\n",
      "D:\\coding\\hereLiesAanaconda\\Lib\\site-packages\\sklearn\\base.py:493: UserWarning: X does not have valid feature names, but StandardScaler was fitted with feature names\n",
      "  warnings.warn(\n",
      "D:\\coding\\hereLiesAanaconda\\Lib\\site-packages\\sklearn\\base.py:493: UserWarning: X does not have valid feature names, but StandardScaler was fitted with feature names\n",
      "  warnings.warn(\n"
     ]
    },
    {
     "name": "stdout",
     "output_type": "stream",
     "text": [
      "Kyphosis [0.64056787 0.0169739  0.31824567 0.02421255]\n",
      "Normal [7.94494330e-04 2.82673199e-02 9.53704197e-01 1.72339891e-02]\n",
      "Normal [0.00141914 0.04136474 0.94333937 0.01387675]\n"
     ]
    },
    {
     "name": "stderr",
     "output_type": "stream",
     "text": [
      "D:\\coding\\hereLiesAanaconda\\Lib\\site-packages\\sklearn\\base.py:493: UserWarning: X does not have valid feature names, but StandardScaler was fitted with feature names\n",
      "  warnings.warn(\n",
      "D:\\coding\\hereLiesAanaconda\\Lib\\site-packages\\sklearn\\base.py:493: UserWarning: X does not have valid feature names, but StandardScaler was fitted with feature names\n",
      "  warnings.warn(\n",
      "D:\\coding\\hereLiesAanaconda\\Lib\\site-packages\\sklearn\\base.py:493: UserWarning: X does not have valid feature names, but StandardScaler was fitted with feature names\n",
      "  warnings.warn(\n",
      "D:\\coding\\hereLiesAanaconda\\Lib\\site-packages\\sklearn\\base.py:493: UserWarning: X does not have valid feature names, but StandardScaler was fitted with feature names\n",
      "  warnings.warn(\n"
     ]
    },
    {
     "name": "stdout",
     "output_type": "stream",
     "text": [
      "Normal [0.0014177  0.02494299 0.95593228 0.01770703]\n",
      "Normal [4.11264955e-04 8.45491625e-03 9.84811251e-01 6.32256741e-03]\n"
     ]
    },
    {
     "name": "stderr",
     "output_type": "stream",
     "text": [
      "D:\\coding\\hereLiesAanaconda\\Lib\\site-packages\\sklearn\\base.py:493: UserWarning: X does not have valid feature names, but StandardScaler was fitted with feature names\n",
      "  warnings.warn(\n",
      "D:\\coding\\hereLiesAanaconda\\Lib\\site-packages\\sklearn\\base.py:493: UserWarning: X does not have valid feature names, but StandardScaler was fitted with feature names\n",
      "  warnings.warn(\n",
      "D:\\coding\\hereLiesAanaconda\\Lib\\site-packages\\sklearn\\base.py:493: UserWarning: X does not have valid feature names, but StandardScaler was fitted with feature names\n",
      "  warnings.warn(\n",
      "D:\\coding\\hereLiesAanaconda\\Lib\\site-packages\\sklearn\\base.py:493: UserWarning: X does not have valid feature names, but StandardScaler was fitted with feature names\n",
      "  warnings.warn(\n",
      "D:\\coding\\hereLiesAanaconda\\Lib\\site-packages\\sklearn\\base.py:493: UserWarning: X does not have valid feature names, but StandardScaler was fitted with feature names\n",
      "  warnings.warn(\n",
      "D:\\coding\\hereLiesAanaconda\\Lib\\site-packages\\sklearn\\base.py:493: UserWarning: X does not have valid feature names, but StandardScaler was fitted with feature names\n",
      "  warnings.warn(\n"
     ]
    },
    {
     "name": "stdout",
     "output_type": "stream",
     "text": [
      "Normal [4.11409759e-04 7.93854267e-03 9.85158000e-01 6.49204799e-03]\n",
      "Normal [6.27836950e-04 9.03956856e-03 9.83852566e-01 6.48002873e-03]\n",
      "Normal [6.72750321e-04 9.66031365e-03 9.84104174e-01 5.56276180e-03]\n"
     ]
    },
    {
     "name": "stderr",
     "output_type": "stream",
     "text": [
      "D:\\coding\\hereLiesAanaconda\\Lib\\site-packages\\sklearn\\base.py:493: UserWarning: X does not have valid feature names, but StandardScaler was fitted with feature names\n",
      "  warnings.warn(\n",
      "D:\\coding\\hereLiesAanaconda\\Lib\\site-packages\\sklearn\\base.py:493: UserWarning: X does not have valid feature names, but StandardScaler was fitted with feature names\n",
      "  warnings.warn(\n",
      "D:\\coding\\hereLiesAanaconda\\Lib\\site-packages\\sklearn\\base.py:493: UserWarning: X does not have valid feature names, but StandardScaler was fitted with feature names\n",
      "  warnings.warn(\n",
      "D:\\coding\\hereLiesAanaconda\\Lib\\site-packages\\sklearn\\base.py:493: UserWarning: X does not have valid feature names, but StandardScaler was fitted with feature names\n",
      "  warnings.warn(\n"
     ]
    },
    {
     "name": "stdout",
     "output_type": "stream",
     "text": [
      "Normal [7.15718972e-04 1.03846563e-02 9.82567777e-01 6.33184808e-03]\n",
      "Normal [0.00188071 0.03123738 0.95034596 0.01653595]\n"
     ]
    },
    {
     "name": "stderr",
     "output_type": "stream",
     "text": [
      "D:\\coding\\hereLiesAanaconda\\Lib\\site-packages\\sklearn\\base.py:493: UserWarning: X does not have valid feature names, but StandardScaler was fitted with feature names\n",
      "  warnings.warn(\n",
      "D:\\coding\\hereLiesAanaconda\\Lib\\site-packages\\sklearn\\base.py:493: UserWarning: X does not have valid feature names, but StandardScaler was fitted with feature names\n",
      "  warnings.warn(\n",
      "D:\\coding\\hereLiesAanaconda\\Lib\\site-packages\\sklearn\\base.py:493: UserWarning: X does not have valid feature names, but StandardScaler was fitted with feature names\n",
      "  warnings.warn(\n",
      "D:\\coding\\hereLiesAanaconda\\Lib\\site-packages\\sklearn\\base.py:493: UserWarning: X does not have valid feature names, but StandardScaler was fitted with feature names\n",
      "  warnings.warn(\n"
     ]
    },
    {
     "name": "stdout",
     "output_type": "stream",
     "text": [
      "Normal [0.00187342 0.03111626 0.94666105 0.02034927]\n",
      "Normal [0.00174996 0.03317404 0.94729227 0.01778373]\n"
     ]
    },
    {
     "name": "stderr",
     "output_type": "stream",
     "text": [
      "D:\\coding\\hereLiesAanaconda\\Lib\\site-packages\\sklearn\\base.py:493: UserWarning: X does not have valid feature names, but StandardScaler was fitted with feature names\n",
      "  warnings.warn(\n",
      "D:\\coding\\hereLiesAanaconda\\Lib\\site-packages\\sklearn\\base.py:493: UserWarning: X does not have valid feature names, but StandardScaler was fitted with feature names\n",
      "  warnings.warn(\n",
      "D:\\coding\\hereLiesAanaconda\\Lib\\site-packages\\sklearn\\base.py:493: UserWarning: X does not have valid feature names, but StandardScaler was fitted with feature names\n",
      "  warnings.warn(\n",
      "D:\\coding\\hereLiesAanaconda\\Lib\\site-packages\\sklearn\\base.py:493: UserWarning: X does not have valid feature names, but StandardScaler was fitted with feature names\n",
      "  warnings.warn(\n"
     ]
    },
    {
     "name": "stdout",
     "output_type": "stream",
     "text": [
      "Normal [0.00173545 0.03699333 0.93943997 0.02183125]\n",
      "Normal [0.00173545 0.03699333 0.93943997 0.02183125]\n"
     ]
    },
    {
     "name": "stderr",
     "output_type": "stream",
     "text": [
      "D:\\coding\\hereLiesAanaconda\\Lib\\site-packages\\sklearn\\base.py:493: UserWarning: X does not have valid feature names, but StandardScaler was fitted with feature names\n",
      "  warnings.warn(\n",
      "D:\\coding\\hereLiesAanaconda\\Lib\\site-packages\\sklearn\\base.py:493: UserWarning: X does not have valid feature names, but StandardScaler was fitted with feature names\n",
      "  warnings.warn(\n",
      "D:\\coding\\hereLiesAanaconda\\Lib\\site-packages\\sklearn\\base.py:493: UserWarning: X does not have valid feature names, but StandardScaler was fitted with feature names\n",
      "  warnings.warn(\n",
      "D:\\coding\\hereLiesAanaconda\\Lib\\site-packages\\sklearn\\base.py:493: UserWarning: X does not have valid feature names, but StandardScaler was fitted with feature names\n",
      "  warnings.warn(\n"
     ]
    },
    {
     "name": "stdout",
     "output_type": "stream",
     "text": [
      "Normal [0.00170315 0.03630476 0.92195366 0.04003844]\n",
      "Normal [0.00161143 0.03836312 0.92006886 0.03995659]\n"
     ]
    },
    {
     "name": "stderr",
     "output_type": "stream",
     "text": [
      "D:\\coding\\hereLiesAanaconda\\Lib\\site-packages\\sklearn\\base.py:493: UserWarning: X does not have valid feature names, but StandardScaler was fitted with feature names\n",
      "  warnings.warn(\n",
      "D:\\coding\\hereLiesAanaconda\\Lib\\site-packages\\sklearn\\base.py:493: UserWarning: X does not have valid feature names, but StandardScaler was fitted with feature names\n",
      "  warnings.warn(\n",
      "D:\\coding\\hereLiesAanaconda\\Lib\\site-packages\\sklearn\\base.py:493: UserWarning: X does not have valid feature names, but StandardScaler was fitted with feature names\n",
      "  warnings.warn(\n",
      "D:\\coding\\hereLiesAanaconda\\Lib\\site-packages\\sklearn\\base.py:493: UserWarning: X does not have valid feature names, but StandardScaler was fitted with feature names\n",
      "  warnings.warn(\n"
     ]
    },
    {
     "name": "stdout",
     "output_type": "stream",
     "text": [
      "Normal [0.00161974 0.03856089 0.92481203 0.03500734]\n",
      "Normal [0.00186184 0.03922793 0.94080984 0.01810039]\n"
     ]
    },
    {
     "name": "stderr",
     "output_type": "stream",
     "text": [
      "D:\\coding\\hereLiesAanaconda\\Lib\\site-packages\\sklearn\\base.py:493: UserWarning: X does not have valid feature names, but StandardScaler was fitted with feature names\n",
      "  warnings.warn(\n",
      "D:\\coding\\hereLiesAanaconda\\Lib\\site-packages\\sklearn\\base.py:493: UserWarning: X does not have valid feature names, but StandardScaler was fitted with feature names\n",
      "  warnings.warn(\n",
      "D:\\coding\\hereLiesAanaconda\\Lib\\site-packages\\sklearn\\base.py:493: UserWarning: X does not have valid feature names, but StandardScaler was fitted with feature names\n",
      "  warnings.warn(\n",
      "D:\\coding\\hereLiesAanaconda\\Lib\\site-packages\\sklearn\\base.py:493: UserWarning: X does not have valid feature names, but StandardScaler was fitted with feature names\n",
      "  warnings.warn(\n"
     ]
    },
    {
     "name": "stdout",
     "output_type": "stream",
     "text": [
      "Normal [0.00172668 0.04152243 0.93469053 0.02206035]\n",
      "Normal [6.22720718e-04 1.49749144e-02 9.75835170e-01 8.56719531e-03]\n"
     ]
    },
    {
     "name": "stderr",
     "output_type": "stream",
     "text": [
      "D:\\coding\\hereLiesAanaconda\\Lib\\site-packages\\sklearn\\base.py:493: UserWarning: X does not have valid feature names, but StandardScaler was fitted with feature names\n",
      "  warnings.warn(\n",
      "D:\\coding\\hereLiesAanaconda\\Lib\\site-packages\\sklearn\\base.py:493: UserWarning: X does not have valid feature names, but StandardScaler was fitted with feature names\n",
      "  warnings.warn(\n",
      "D:\\coding\\hereLiesAanaconda\\Lib\\site-packages\\sklearn\\base.py:493: UserWarning: X does not have valid feature names, but StandardScaler was fitted with feature names\n",
      "  warnings.warn(\n",
      "D:\\coding\\hereLiesAanaconda\\Lib\\site-packages\\sklearn\\base.py:493: UserWarning: X does not have valid feature names, but StandardScaler was fitted with feature names\n",
      "  warnings.warn(\n",
      "D:\\coding\\hereLiesAanaconda\\Lib\\site-packages\\sklearn\\base.py:493: UserWarning: X does not have valid feature names, but StandardScaler was fitted with feature names\n",
      "  warnings.warn(\n",
      "D:\\coding\\hereLiesAanaconda\\Lib\\site-packages\\sklearn\\base.py:493: UserWarning: X does not have valid feature names, but StandardScaler was fitted with feature names\n",
      "  warnings.warn(\n"
     ]
    },
    {
     "name": "stdout",
     "output_type": "stream",
     "text": [
      "Normal [0.00171247 0.04118077 0.92699946 0.0301073 ]\n",
      "Normal [0.00183298 0.04148966 0.92622768 0.03044968]\n",
      "Normal [0.00172363 0.04276452 0.92479926 0.03071259]\n"
     ]
    },
    {
     "name": "stderr",
     "output_type": "stream",
     "text": [
      "D:\\coding\\hereLiesAanaconda\\Lib\\site-packages\\sklearn\\base.py:493: UserWarning: X does not have valid feature names, but StandardScaler was fitted with feature names\n",
      "  warnings.warn(\n",
      "D:\\coding\\hereLiesAanaconda\\Lib\\site-packages\\sklearn\\base.py:493: UserWarning: X does not have valid feature names, but StandardScaler was fitted with feature names\n",
      "  warnings.warn(\n",
      "D:\\coding\\hereLiesAanaconda\\Lib\\site-packages\\sklearn\\base.py:493: UserWarning: X does not have valid feature names, but StandardScaler was fitted with feature names\n",
      "  warnings.warn(\n",
      "D:\\coding\\hereLiesAanaconda\\Lib\\site-packages\\sklearn\\base.py:493: UserWarning: X does not have valid feature names, but StandardScaler was fitted with feature names\n",
      "  warnings.warn(\n"
     ]
    },
    {
     "name": "stdout",
     "output_type": "stream",
     "text": [
      "Normal [2.31880359e-04 4.84343201e-03 9.90766783e-01 4.15790490e-03]\n",
      "Lordosis [0.01430095 0.54757446 0.2882606  0.149864  ]\n"
     ]
    },
    {
     "name": "stderr",
     "output_type": "stream",
     "text": [
      "D:\\coding\\hereLiesAanaconda\\Lib\\site-packages\\sklearn\\base.py:493: UserWarning: X does not have valid feature names, but StandardScaler was fitted with feature names\n",
      "  warnings.warn(\n",
      "D:\\coding\\hereLiesAanaconda\\Lib\\site-packages\\sklearn\\base.py:493: UserWarning: X does not have valid feature names, but StandardScaler was fitted with feature names\n",
      "  warnings.warn(\n",
      "D:\\coding\\hereLiesAanaconda\\Lib\\site-packages\\sklearn\\base.py:493: UserWarning: X does not have valid feature names, but StandardScaler was fitted with feature names\n",
      "  warnings.warn(\n",
      "D:\\coding\\hereLiesAanaconda\\Lib\\site-packages\\sklearn\\base.py:493: UserWarning: X does not have valid feature names, but StandardScaler was fitted with feature names\n",
      "  warnings.warn(\n"
     ]
    },
    {
     "name": "stdout",
     "output_type": "stream",
     "text": [
      "Lordosis [0.0114823  0.70163968 0.16468103 0.12219698]\n",
      "Lordosis [0.01146811 0.69364314 0.16307843 0.13181032]\n"
     ]
    },
    {
     "name": "stderr",
     "output_type": "stream",
     "text": [
      "D:\\coding\\hereLiesAanaconda\\Lib\\site-packages\\sklearn\\base.py:493: UserWarning: X does not have valid feature names, but StandardScaler was fitted with feature names\n",
      "  warnings.warn(\n",
      "D:\\coding\\hereLiesAanaconda\\Lib\\site-packages\\sklearn\\base.py:493: UserWarning: X does not have valid feature names, but StandardScaler was fitted with feature names\n",
      "  warnings.warn(\n",
      "D:\\coding\\hereLiesAanaconda\\Lib\\site-packages\\sklearn\\base.py:493: UserWarning: X does not have valid feature names, but StandardScaler was fitted with feature names\n",
      "  warnings.warn(\n",
      "D:\\coding\\hereLiesAanaconda\\Lib\\site-packages\\sklearn\\base.py:493: UserWarning: X does not have valid feature names, but StandardScaler was fitted with feature names\n",
      "  warnings.warn(\n"
     ]
    },
    {
     "name": "stdout",
     "output_type": "stream",
     "text": [
      "Lordosis [0.0058955  0.82014112 0.09588179 0.07808158]\n",
      "Lordosis [0.00662977 0.80641002 0.11018589 0.07677431]\n"
     ]
    },
    {
     "name": "stderr",
     "output_type": "stream",
     "text": [
      "D:\\coding\\hereLiesAanaconda\\Lib\\site-packages\\sklearn\\base.py:493: UserWarning: X does not have valid feature names, but StandardScaler was fitted with feature names\n",
      "  warnings.warn(\n",
      "D:\\coding\\hereLiesAanaconda\\Lib\\site-packages\\sklearn\\base.py:493: UserWarning: X does not have valid feature names, but StandardScaler was fitted with feature names\n",
      "  warnings.warn(\n",
      "D:\\coding\\hereLiesAanaconda\\Lib\\site-packages\\sklearn\\base.py:493: UserWarning: X does not have valid feature names, but StandardScaler was fitted with feature names\n",
      "  warnings.warn(\n",
      "D:\\coding\\hereLiesAanaconda\\Lib\\site-packages\\sklearn\\base.py:493: UserWarning: X does not have valid feature names, but StandardScaler was fitted with feature names\n",
      "  warnings.warn(\n"
     ]
    },
    {
     "name": "stdout",
     "output_type": "stream",
     "text": [
      "Lordosis [0.0069945  0.78404441 0.11375551 0.09520558]\n",
      "Lordosis [0.00533701 0.78942764 0.09807565 0.1071597 ]\n"
     ]
    },
    {
     "name": "stderr",
     "output_type": "stream",
     "text": [
      "D:\\coding\\hereLiesAanaconda\\Lib\\site-packages\\sklearn\\base.py:493: UserWarning: X does not have valid feature names, but StandardScaler was fitted with feature names\n",
      "  warnings.warn(\n",
      "D:\\coding\\hereLiesAanaconda\\Lib\\site-packages\\sklearn\\base.py:493: UserWarning: X does not have valid feature names, but StandardScaler was fitted with feature names\n",
      "  warnings.warn(\n",
      "D:\\coding\\hereLiesAanaconda\\Lib\\site-packages\\sklearn\\base.py:493: UserWarning: X does not have valid feature names, but StandardScaler was fitted with feature names\n",
      "  warnings.warn(\n",
      "D:\\coding\\hereLiesAanaconda\\Lib\\site-packages\\sklearn\\base.py:493: UserWarning: X does not have valid feature names, but StandardScaler was fitted with feature names\n",
      "  warnings.warn(\n"
     ]
    },
    {
     "name": "stdout",
     "output_type": "stream",
     "text": [
      "Lordosis [0.00188794 0.93745688 0.03070455 0.02995063]\n",
      "Lordosis [0.00115243 0.9740839  0.00778566 0.01697801]\n"
     ]
    },
    {
     "name": "stderr",
     "output_type": "stream",
     "text": [
      "D:\\coding\\hereLiesAanaconda\\Lib\\site-packages\\sklearn\\base.py:493: UserWarning: X does not have valid feature names, but StandardScaler was fitted with feature names\n",
      "  warnings.warn(\n",
      "D:\\coding\\hereLiesAanaconda\\Lib\\site-packages\\sklearn\\base.py:493: UserWarning: X does not have valid feature names, but StandardScaler was fitted with feature names\n",
      "  warnings.warn(\n",
      "D:\\coding\\hereLiesAanaconda\\Lib\\site-packages\\sklearn\\base.py:493: UserWarning: X does not have valid feature names, but StandardScaler was fitted with feature names\n",
      "  warnings.warn(\n",
      "D:\\coding\\hereLiesAanaconda\\Lib\\site-packages\\sklearn\\base.py:493: UserWarning: X does not have valid feature names, but StandardScaler was fitted with feature names\n",
      "  warnings.warn(\n",
      "D:\\coding\\hereLiesAanaconda\\Lib\\site-packages\\sklearn\\base.py:493: UserWarning: X does not have valid feature names, but StandardScaler was fitted with feature names\n",
      "  warnings.warn(\n",
      "D:\\coding\\hereLiesAanaconda\\Lib\\site-packages\\sklearn\\base.py:493: UserWarning: X does not have valid feature names, but StandardScaler was fitted with feature names\n",
      "  warnings.warn(\n"
     ]
    },
    {
     "name": "stdout",
     "output_type": "stream",
     "text": [
      "Lordosis [0.00111186 0.97553099 0.00751163 0.01584552]\n",
      "Lordosis [0.00162337 0.97177226 0.01059602 0.01600835]\n",
      "Lordosis [0.00130571 0.97754796 0.00827047 0.01287586]\n",
      "Lordosis [0.00222424 0.97023853 0.01039396 0.01714328]\n",
      "Lordosis [0.0011487  0.98686499 0.00362922 0.00835708]\n"
     ]
    },
    {
     "name": "stderr",
     "output_type": "stream",
     "text": [
      "D:\\coding\\hereLiesAanaconda\\Lib\\site-packages\\sklearn\\base.py:493: UserWarning: X does not have valid feature names, but StandardScaler was fitted with feature names\n",
      "  warnings.warn(\n",
      "D:\\coding\\hereLiesAanaconda\\Lib\\site-packages\\sklearn\\base.py:493: UserWarning: X does not have valid feature names, but StandardScaler was fitted with feature names\n",
      "  warnings.warn(\n",
      "D:\\coding\\hereLiesAanaconda\\Lib\\site-packages\\sklearn\\base.py:493: UserWarning: X does not have valid feature names, but StandardScaler was fitted with feature names\n",
      "  warnings.warn(\n",
      "D:\\coding\\hereLiesAanaconda\\Lib\\site-packages\\sklearn\\base.py:493: UserWarning: X does not have valid feature names, but StandardScaler was fitted with feature names\n",
      "  warnings.warn(\n",
      "D:\\coding\\hereLiesAanaconda\\Lib\\site-packages\\sklearn\\base.py:493: UserWarning: X does not have valid feature names, but StandardScaler was fitted with feature names\n",
      "  warnings.warn(\n",
      "D:\\coding\\hereLiesAanaconda\\Lib\\site-packages\\sklearn\\base.py:493: UserWarning: X does not have valid feature names, but StandardScaler was fitted with feature names\n",
      "  warnings.warn(\n",
      "D:\\coding\\hereLiesAanaconda\\Lib\\site-packages\\sklearn\\base.py:493: UserWarning: X does not have valid feature names, but StandardScaler was fitted with feature names\n",
      "  warnings.warn(\n",
      "D:\\coding\\hereLiesAanaconda\\Lib\\site-packages\\sklearn\\base.py:493: UserWarning: X does not have valid feature names, but StandardScaler was fitted with feature names\n",
      "  warnings.warn(\n"
     ]
    },
    {
     "name": "stdout",
     "output_type": "stream",
     "text": [
      "Lordosis [0.00124696 0.98638441 0.00269849 0.00967014]\n",
      "Lordosis [0.04050107 0.94737049 0.00234535 0.00978309]\n"
     ]
    },
    {
     "name": "stderr",
     "output_type": "stream",
     "text": [
      "D:\\coding\\hereLiesAanaconda\\Lib\\site-packages\\sklearn\\base.py:493: UserWarning: X does not have valid feature names, but StandardScaler was fitted with feature names\n",
      "  warnings.warn(\n",
      "D:\\coding\\hereLiesAanaconda\\Lib\\site-packages\\sklearn\\base.py:493: UserWarning: X does not have valid feature names, but StandardScaler was fitted with feature names\n",
      "  warnings.warn(\n",
      "D:\\coding\\hereLiesAanaconda\\Lib\\site-packages\\sklearn\\base.py:493: UserWarning: X does not have valid feature names, but StandardScaler was fitted with feature names\n",
      "  warnings.warn(\n",
      "D:\\coding\\hereLiesAanaconda\\Lib\\site-packages\\sklearn\\base.py:493: UserWarning: X does not have valid feature names, but StandardScaler was fitted with feature names\n",
      "  warnings.warn(\n"
     ]
    },
    {
     "name": "stdout",
     "output_type": "stream",
     "text": [
      "Lordosis [0.10036587 0.878627   0.00237613 0.018631  ]\n",
      "Lordosis [0.09750267 0.88397232 0.00239059 0.01613442]\n"
     ]
    },
    {
     "name": "stderr",
     "output_type": "stream",
     "text": [
      "D:\\coding\\hereLiesAanaconda\\Lib\\site-packages\\sklearn\\base.py:493: UserWarning: X does not have valid feature names, but StandardScaler was fitted with feature names\n",
      "  warnings.warn(\n",
      "D:\\coding\\hereLiesAanaconda\\Lib\\site-packages\\sklearn\\base.py:493: UserWarning: X does not have valid feature names, but StandardScaler was fitted with feature names\n",
      "  warnings.warn(\n",
      "D:\\coding\\hereLiesAanaconda\\Lib\\site-packages\\sklearn\\base.py:493: UserWarning: X does not have valid feature names, but StandardScaler was fitted with feature names\n",
      "  warnings.warn(\n",
      "D:\\coding\\hereLiesAanaconda\\Lib\\site-packages\\sklearn\\base.py:493: UserWarning: X does not have valid feature names, but StandardScaler was fitted with feature names\n",
      "  warnings.warn(\n"
     ]
    },
    {
     "name": "stdout",
     "output_type": "stream",
     "text": [
      "Lordosis [0.33706668 0.65069477 0.00158969 0.01064885]\n",
      "Lordosis [0.47021729 0.52152317 0.00106587 0.00719368]\n"
     ]
    },
    {
     "name": "stderr",
     "output_type": "stream",
     "text": [
      "D:\\coding\\hereLiesAanaconda\\Lib\\site-packages\\sklearn\\base.py:493: UserWarning: X does not have valid feature names, but StandardScaler was fitted with feature names\n",
      "  warnings.warn(\n",
      "D:\\coding\\hereLiesAanaconda\\Lib\\site-packages\\sklearn\\base.py:493: UserWarning: X does not have valid feature names, but StandardScaler was fitted with feature names\n",
      "  warnings.warn(\n",
      "D:\\coding\\hereLiesAanaconda\\Lib\\site-packages\\sklearn\\base.py:493: UserWarning: X does not have valid feature names, but StandardScaler was fitted with feature names\n",
      "  warnings.warn(\n",
      "D:\\coding\\hereLiesAanaconda\\Lib\\site-packages\\sklearn\\base.py:493: UserWarning: X does not have valid feature names, but StandardScaler was fitted with feature names\n",
      "  warnings.warn(\n"
     ]
    },
    {
     "name": "stdout",
     "output_type": "stream",
     "text": [
      "Kyphosis [7.33434170e-01 2.63680656e-01 6.28513836e-04 2.25665989e-03]\n",
      "Kyphosis [8.82184435e-01 1.14345240e-01 7.55984853e-04 2.71434071e-03]\n"
     ]
    },
    {
     "name": "stderr",
     "output_type": "stream",
     "text": [
      "D:\\coding\\hereLiesAanaconda\\Lib\\site-packages\\sklearn\\base.py:493: UserWarning: X does not have valid feature names, but StandardScaler was fitted with feature names\n",
      "  warnings.warn(\n",
      "D:\\coding\\hereLiesAanaconda\\Lib\\site-packages\\sklearn\\base.py:493: UserWarning: X does not have valid feature names, but StandardScaler was fitted with feature names\n",
      "  warnings.warn(\n",
      "D:\\coding\\hereLiesAanaconda\\Lib\\site-packages\\sklearn\\base.py:493: UserWarning: X does not have valid feature names, but StandardScaler was fitted with feature names\n",
      "  warnings.warn(\n",
      "D:\\coding\\hereLiesAanaconda\\Lib\\site-packages\\sklearn\\base.py:493: UserWarning: X does not have valid feature names, but StandardScaler was fitted with feature names\n",
      "  warnings.warn(\n",
      "D:\\coding\\hereLiesAanaconda\\Lib\\site-packages\\sklearn\\base.py:493: UserWarning: X does not have valid feature names, but StandardScaler was fitted with feature names\n",
      "  warnings.warn(\n",
      "D:\\coding\\hereLiesAanaconda\\Lib\\site-packages\\sklearn\\base.py:493: UserWarning: X does not have valid feature names, but StandardScaler was fitted with feature names\n",
      "  warnings.warn(\n"
     ]
    },
    {
     "name": "stdout",
     "output_type": "stream",
     "text": [
      "Kyphosis [0.80607106 0.18841053 0.00138767 0.00413073]\n",
      "Kyphosis [0.89966038 0.09253632 0.00154879 0.00625452]\n",
      "Kyphosis [0.91589117 0.07947363 0.00136638 0.00326882]\n"
     ]
    },
    {
     "name": "stderr",
     "output_type": "stream",
     "text": [
      "D:\\coding\\hereLiesAanaconda\\Lib\\site-packages\\sklearn\\base.py:493: UserWarning: X does not have valid feature names, but StandardScaler was fitted with feature names\n",
      "  warnings.warn(\n",
      "D:\\coding\\hereLiesAanaconda\\Lib\\site-packages\\sklearn\\base.py:493: UserWarning: X does not have valid feature names, but StandardScaler was fitted with feature names\n",
      "  warnings.warn(\n",
      "D:\\coding\\hereLiesAanaconda\\Lib\\site-packages\\sklearn\\base.py:493: UserWarning: X does not have valid feature names, but StandardScaler was fitted with feature names\n",
      "  warnings.warn(\n",
      "D:\\coding\\hereLiesAanaconda\\Lib\\site-packages\\sklearn\\base.py:493: UserWarning: X does not have valid feature names, but StandardScaler was fitted with feature names\n",
      "  warnings.warn(\n"
     ]
    },
    {
     "name": "stdout",
     "output_type": "stream",
     "text": [
      "Kyphosis [9.54857139e-01 4.19979571e-02 6.24196286e-04 2.52070760e-03]\n",
      "Kyphosis [9.54885172e-01 4.19991901e-02 5.94856319e-04 2.52078160e-03]\n"
     ]
    },
    {
     "name": "stderr",
     "output_type": "stream",
     "text": [
      "D:\\coding\\hereLiesAanaconda\\Lib\\site-packages\\sklearn\\base.py:493: UserWarning: X does not have valid feature names, but StandardScaler was fitted with feature names\n",
      "  warnings.warn(\n",
      "D:\\coding\\hereLiesAanaconda\\Lib\\site-packages\\sklearn\\base.py:493: UserWarning: X does not have valid feature names, but StandardScaler was fitted with feature names\n",
      "  warnings.warn(\n",
      "D:\\coding\\hereLiesAanaconda\\Lib\\site-packages\\sklearn\\base.py:493: UserWarning: X does not have valid feature names, but StandardScaler was fitted with feature names\n",
      "  warnings.warn(\n",
      "D:\\coding\\hereLiesAanaconda\\Lib\\site-packages\\sklearn\\base.py:493: UserWarning: X does not have valid feature names, but StandardScaler was fitted with feature names\n",
      "  warnings.warn(\n",
      "D:\\coding\\hereLiesAanaconda\\Lib\\site-packages\\sklearn\\base.py:493: UserWarning: X does not have valid feature names, but StandardScaler was fitted with feature names\n",
      "  warnings.warn(\n",
      "D:\\coding\\hereLiesAanaconda\\Lib\\site-packages\\sklearn\\base.py:493: UserWarning: X does not have valid feature names, but StandardScaler was fitted with feature names\n",
      "  warnings.warn(\n"
     ]
    },
    {
     "name": "stdout",
     "output_type": "stream",
     "text": [
      "Kyphosis [9.55200363e-01 4.16536029e-02 6.24420654e-04 2.52161367e-03]\n",
      "Kyphosis [9.05985360e-01 9.10585545e-02 5.64393638e-04 2.39169200e-03]\n",
      "Kyphosis [9.08807610e-01 8.81991537e-02 5.94093412e-04 2.39914240e-03]\n"
     ]
    },
    {
     "name": "stderr",
     "output_type": "stream",
     "text": [
      "D:\\coding\\hereLiesAanaconda\\Lib\\site-packages\\sklearn\\base.py:493: UserWarning: X does not have valid feature names, but StandardScaler was fitted with feature names\n",
      "  warnings.warn(\n",
      "D:\\coding\\hereLiesAanaconda\\Lib\\site-packages\\sklearn\\base.py:493: UserWarning: X does not have valid feature names, but StandardScaler was fitted with feature names\n",
      "  warnings.warn(\n",
      "D:\\coding\\hereLiesAanaconda\\Lib\\site-packages\\sklearn\\base.py:493: UserWarning: X does not have valid feature names, but StandardScaler was fitted with feature names\n",
      "  warnings.warn(\n",
      "D:\\coding\\hereLiesAanaconda\\Lib\\site-packages\\sklearn\\base.py:493: UserWarning: X does not have valid feature names, but StandardScaler was fitted with feature names\n",
      "  warnings.warn(\n"
     ]
    },
    {
     "name": "stdout",
     "output_type": "stream",
     "text": [
      "Kyphosis [9.09282955e-01 8.82452856e-02 5.66447912e-04 1.90531153e-03]\n",
      "Kyphosis [9.10764974e-01 8.67592382e-02 5.67371152e-04 1.90841695e-03]\n"
     ]
    },
    {
     "name": "stderr",
     "output_type": "stream",
     "text": [
      "D:\\coding\\hereLiesAanaconda\\Lib\\site-packages\\sklearn\\base.py:493: UserWarning: X does not have valid feature names, but StandardScaler was fitted with feature names\n",
      "  warnings.warn(\n",
      "D:\\coding\\hereLiesAanaconda\\Lib\\site-packages\\sklearn\\base.py:493: UserWarning: X does not have valid feature names, but StandardScaler was fitted with feature names\n",
      "  warnings.warn(\n",
      "D:\\coding\\hereLiesAanaconda\\Lib\\site-packages\\sklearn\\base.py:493: UserWarning: X does not have valid feature names, but StandardScaler was fitted with feature names\n",
      "  warnings.warn(\n",
      "D:\\coding\\hereLiesAanaconda\\Lib\\site-packages\\sklearn\\base.py:493: UserWarning: X does not have valid feature names, but StandardScaler was fitted with feature names\n",
      "  warnings.warn(\n"
     ]
    },
    {
     "name": "stdout",
     "output_type": "stream",
     "text": [
      "Kyphosis [9.17872659e-01 7.96322321e-02 5.71798963e-04 1.92331039e-03]\n",
      "Kyphosis [9.63644991e-01 3.37354738e-02 6.00313346e-04 2.01922174e-03]\n"
     ]
    },
    {
     "name": "stderr",
     "output_type": "stream",
     "text": [
      "D:\\coding\\hereLiesAanaconda\\Lib\\site-packages\\sklearn\\base.py:493: UserWarning: X does not have valid feature names, but StandardScaler was fitted with feature names\n",
      "  warnings.warn(\n",
      "D:\\coding\\hereLiesAanaconda\\Lib\\site-packages\\sklearn\\base.py:493: UserWarning: X does not have valid feature names, but StandardScaler was fitted with feature names\n",
      "  warnings.warn(\n",
      "D:\\coding\\hereLiesAanaconda\\Lib\\site-packages\\sklearn\\base.py:493: UserWarning: X does not have valid feature names, but StandardScaler was fitted with feature names\n",
      "  warnings.warn(\n",
      "D:\\coding\\hereLiesAanaconda\\Lib\\site-packages\\sklearn\\base.py:493: UserWarning: X does not have valid feature names, but StandardScaler was fitted with feature names\n",
      "  warnings.warn(\n"
     ]
    },
    {
     "name": "stdout",
     "output_type": "stream",
     "text": [
      "Kyphosis [9.18592772e-01 7.96947073e-02 5.72247566e-04 1.14027302e-03]\n",
      "Kyphosis [0.59346354 0.39517512 0.00379645 0.00756489]\n"
     ]
    },
    {
     "name": "stderr",
     "output_type": "stream",
     "text": [
      "D:\\coding\\hereLiesAanaconda\\Lib\\site-packages\\sklearn\\base.py:493: UserWarning: X does not have valid feature names, but StandardScaler was fitted with feature names\n",
      "  warnings.warn(\n",
      "D:\\coding\\hereLiesAanaconda\\Lib\\site-packages\\sklearn\\base.py:493: UserWarning: X does not have valid feature names, but StandardScaler was fitted with feature names\n",
      "  warnings.warn(\n",
      "D:\\coding\\hereLiesAanaconda\\Lib\\site-packages\\sklearn\\base.py:493: UserWarning: X does not have valid feature names, but StandardScaler was fitted with feature names\n",
      "  warnings.warn(\n",
      "D:\\coding\\hereLiesAanaconda\\Lib\\site-packages\\sklearn\\base.py:493: UserWarning: X does not have valid feature names, but StandardScaler was fitted with feature names\n",
      "  warnings.warn(\n",
      "D:\\coding\\hereLiesAanaconda\\Lib\\site-packages\\sklearn\\base.py:493: UserWarning: X does not have valid feature names, but StandardScaler was fitted with feature names\n",
      "  warnings.warn(\n",
      "D:\\coding\\hereLiesAanaconda\\Lib\\site-packages\\sklearn\\base.py:493: UserWarning: X does not have valid feature names, but StandardScaler was fitted with feature names\n",
      "  warnings.warn(\n"
     ]
    },
    {
     "name": "stdout",
     "output_type": "stream",
     "text": [
      "Lordosis [0.00796449 0.97898369 0.00436133 0.00869048]\n",
      "Lordosis [0.00133694 0.98560636 0.00382181 0.00923489]\n",
      "Lordosis [0.00211485 0.96981624 0.0098197  0.01824921]\n",
      "Lordosis [0.00124947 0.91769149 0.06383853 0.01722051]\n",
      "Lordosis [0.00105332 0.9562551  0.01716476 0.02552683]\n"
     ]
    },
    {
     "name": "stderr",
     "output_type": "stream",
     "text": [
      "D:\\coding\\hereLiesAanaconda\\Lib\\site-packages\\sklearn\\base.py:493: UserWarning: X does not have valid feature names, but StandardScaler was fitted with feature names\n",
      "  warnings.warn(\n",
      "D:\\coding\\hereLiesAanaconda\\Lib\\site-packages\\sklearn\\base.py:493: UserWarning: X does not have valid feature names, but StandardScaler was fitted with feature names\n",
      "  warnings.warn(\n",
      "D:\\coding\\hereLiesAanaconda\\Lib\\site-packages\\sklearn\\base.py:493: UserWarning: X does not have valid feature names, but StandardScaler was fitted with feature names\n",
      "  warnings.warn(\n",
      "D:\\coding\\hereLiesAanaconda\\Lib\\site-packages\\sklearn\\base.py:493: UserWarning: X does not have valid feature names, but StandardScaler was fitted with feature names\n",
      "  warnings.warn(\n",
      "D:\\coding\\hereLiesAanaconda\\Lib\\site-packages\\sklearn\\base.py:493: UserWarning: X does not have valid feature names, but StandardScaler was fitted with feature names\n",
      "  warnings.warn(\n",
      "D:\\coding\\hereLiesAanaconda\\Lib\\site-packages\\sklearn\\base.py:493: UserWarning: X does not have valid feature names, but StandardScaler was fitted with feature names\n",
      "  warnings.warn(\n",
      "D:\\coding\\hereLiesAanaconda\\Lib\\site-packages\\sklearn\\base.py:493: UserWarning: X does not have valid feature names, but StandardScaler was fitted with feature names\n",
      "  warnings.warn(\n",
      "D:\\coding\\hereLiesAanaconda\\Lib\\site-packages\\sklearn\\base.py:493: UserWarning: X does not have valid feature names, but StandardScaler was fitted with feature names\n",
      "  warnings.warn(\n",
      "D:\\coding\\hereLiesAanaconda\\Lib\\site-packages\\sklearn\\base.py:493: UserWarning: X does not have valid feature names, but StandardScaler was fitted with feature names\n",
      "  warnings.warn(\n",
      "D:\\coding\\hereLiesAanaconda\\Lib\\site-packages\\sklearn\\base.py:493: UserWarning: X does not have valid feature names, but StandardScaler was fitted with feature names\n",
      "  warnings.warn(\n"
     ]
    },
    {
     "name": "stdout",
     "output_type": "stream",
     "text": [
      "Lordosis [0.00097489 0.96422355 0.0119429  0.02285867]\n",
      "Lordosis [0.00136025 0.95373233 0.01474772 0.0301597 ]\n",
      "Lordosis [0.00225956 0.84204412 0.10202656 0.05366976]\n"
     ]
    },
    {
     "name": "stderr",
     "output_type": "stream",
     "text": [
      "D:\\coding\\hereLiesAanaconda\\Lib\\site-packages\\sklearn\\base.py:493: UserWarning: X does not have valid feature names, but StandardScaler was fitted with feature names\n",
      "  warnings.warn(\n",
      "D:\\coding\\hereLiesAanaconda\\Lib\\site-packages\\sklearn\\base.py:493: UserWarning: X does not have valid feature names, but StandardScaler was fitted with feature names\n",
      "  warnings.warn(\n",
      "D:\\coding\\hereLiesAanaconda\\Lib\\site-packages\\sklearn\\base.py:493: UserWarning: X does not have valid feature names, but StandardScaler was fitted with feature names\n",
      "  warnings.warn(\n",
      "D:\\coding\\hereLiesAanaconda\\Lib\\site-packages\\sklearn\\base.py:493: UserWarning: X does not have valid feature names, but StandardScaler was fitted with feature names\n",
      "  warnings.warn(\n"
     ]
    },
    {
     "name": "stdout",
     "output_type": "stream",
     "text": [
      "Normal [0.00086845 0.30118116 0.67017638 0.02777401]\n",
      "Lordosis [0.00233555 0.89246188 0.04655671 0.05864586]\n"
     ]
    },
    {
     "name": "stderr",
     "output_type": "stream",
     "text": [
      "D:\\coding\\hereLiesAanaconda\\Lib\\site-packages\\sklearn\\base.py:493: UserWarning: X does not have valid feature names, but StandardScaler was fitted with feature names\n",
      "  warnings.warn(\n",
      "D:\\coding\\hereLiesAanaconda\\Lib\\site-packages\\sklearn\\base.py:493: UserWarning: X does not have valid feature names, but StandardScaler was fitted with feature names\n",
      "  warnings.warn(\n",
      "D:\\coding\\hereLiesAanaconda\\Lib\\site-packages\\sklearn\\base.py:493: UserWarning: X does not have valid feature names, but StandardScaler was fitted with feature names\n",
      "  warnings.warn(\n",
      "D:\\coding\\hereLiesAanaconda\\Lib\\site-packages\\sklearn\\base.py:493: UserWarning: X does not have valid feature names, but StandardScaler was fitted with feature names\n",
      "  warnings.warn(\n"
     ]
    },
    {
     "name": "stdout",
     "output_type": "stream",
     "text": [
      "Lordosis [0.00281885 0.80678181 0.11961789 0.07078145]\n",
      "Lordosis [0.00322454 0.62677096 0.27591167 0.09409283]\n"
     ]
    },
    {
     "name": "stderr",
     "output_type": "stream",
     "text": [
      "D:\\coding\\hereLiesAanaconda\\Lib\\site-packages\\sklearn\\base.py:493: UserWarning: X does not have valid feature names, but StandardScaler was fitted with feature names\n",
      "  warnings.warn(\n",
      "D:\\coding\\hereLiesAanaconda\\Lib\\site-packages\\sklearn\\base.py:493: UserWarning: X does not have valid feature names, but StandardScaler was fitted with feature names\n",
      "  warnings.warn(\n",
      "D:\\coding\\hereLiesAanaconda\\Lib\\site-packages\\sklearn\\base.py:493: UserWarning: X does not have valid feature names, but StandardScaler was fitted with feature names\n",
      "  warnings.warn(\n",
      "D:\\coding\\hereLiesAanaconda\\Lib\\site-packages\\sklearn\\base.py:493: UserWarning: X does not have valid feature names, but StandardScaler was fitted with feature names\n",
      "  warnings.warn(\n",
      "D:\\coding\\hereLiesAanaconda\\Lib\\site-packages\\sklearn\\base.py:493: UserWarning: X does not have valid feature names, but StandardScaler was fitted with feature names\n",
      "  warnings.warn(\n"
     ]
    },
    {
     "name": "stdout",
     "output_type": "stream",
     "text": [
      "Normal [0.0015898  0.27348655 0.68926192 0.03566173]\n",
      "Normal [0.00137418 0.23639418 0.73206339 0.03016825]\n"
     ]
    },
    {
     "name": "stderr",
     "output_type": "stream",
     "text": [
      "D:\\coding\\hereLiesAanaconda\\Lib\\site-packages\\sklearn\\base.py:493: UserWarning: X does not have valid feature names, but StandardScaler was fitted with feature names\n",
      "  warnings.warn(\n",
      "D:\\coding\\hereLiesAanaconda\\Lib\\site-packages\\sklearn\\base.py:493: UserWarning: X does not have valid feature names, but StandardScaler was fitted with feature names\n",
      "  warnings.warn(\n",
      "D:\\coding\\hereLiesAanaconda\\Lib\\site-packages\\sklearn\\base.py:493: UserWarning: X does not have valid feature names, but StandardScaler was fitted with feature names\n",
      "  warnings.warn(\n"
     ]
    },
    {
     "name": "stdout",
     "output_type": "stream",
     "text": [
      "Normal [0.00120235 0.18418966 0.77783917 0.03676883]\n",
      "Normal [0.00157512 0.27835973 0.65576777 0.06429738]\n"
     ]
    },
    {
     "name": "stderr",
     "output_type": "stream",
     "text": [
      "D:\\coding\\hereLiesAanaconda\\Lib\\site-packages\\sklearn\\base.py:493: UserWarning: X does not have valid feature names, but StandardScaler was fitted with feature names\n",
      "  warnings.warn(\n",
      "D:\\coding\\hereLiesAanaconda\\Lib\\site-packages\\sklearn\\base.py:493: UserWarning: X does not have valid feature names, but StandardScaler was fitted with feature names\n",
      "  warnings.warn(\n",
      "D:\\coding\\hereLiesAanaconda\\Lib\\site-packages\\sklearn\\base.py:493: UserWarning: X does not have valid feature names, but StandardScaler was fitted with feature names\n",
      "  warnings.warn(\n",
      "D:\\coding\\hereLiesAanaconda\\Lib\\site-packages\\sklearn\\base.py:493: UserWarning: X does not have valid feature names, but StandardScaler was fitted with feature names\n",
      "  warnings.warn(\n"
     ]
    },
    {
     "name": "stdout",
     "output_type": "stream",
     "text": [
      "Normal [0.00157512 0.27835973 0.65576777 0.06429738]\n",
      "Normal [0.00140181 0.29896374 0.66432759 0.03530686]\n"
     ]
    },
    {
     "name": "stderr",
     "output_type": "stream",
     "text": [
      "D:\\coding\\hereLiesAanaconda\\Lib\\site-packages\\sklearn\\base.py:493: UserWarning: X does not have valid feature names, but StandardScaler was fitted with feature names\n",
      "  warnings.warn(\n",
      "D:\\coding\\hereLiesAanaconda\\Lib\\site-packages\\sklearn\\base.py:493: UserWarning: X does not have valid feature names, but StandardScaler was fitted with feature names\n",
      "  warnings.warn(\n",
      "D:\\coding\\hereLiesAanaconda\\Lib\\site-packages\\sklearn\\base.py:493: UserWarning: X does not have valid feature names, but StandardScaler was fitted with feature names\n",
      "  warnings.warn(\n",
      "D:\\coding\\hereLiesAanaconda\\Lib\\site-packages\\sklearn\\base.py:493: UserWarning: X does not have valid feature names, but StandardScaler was fitted with feature names\n",
      "  warnings.warn(\n"
     ]
    },
    {
     "name": "stdout",
     "output_type": "stream",
     "text": [
      "Normal [0.0013322  0.33377777 0.63133654 0.03355349]\n",
      "Normal [6.94838337e-04 1.96706966e-01 7.85362150e-01 1.72360452e-02]\n"
     ]
    },
    {
     "name": "stderr",
     "output_type": "stream",
     "text": [
      "D:\\coding\\hereLiesAanaconda\\Lib\\site-packages\\sklearn\\base.py:493: UserWarning: X does not have valid feature names, but StandardScaler was fitted with feature names\n",
      "  warnings.warn(\n",
      "D:\\coding\\hereLiesAanaconda\\Lib\\site-packages\\sklearn\\base.py:493: UserWarning: X does not have valid feature names, but StandardScaler was fitted with feature names\n",
      "  warnings.warn(\n",
      "D:\\coding\\hereLiesAanaconda\\Lib\\site-packages\\sklearn\\base.py:493: UserWarning: X does not have valid feature names, but StandardScaler was fitted with feature names\n",
      "  warnings.warn(\n",
      "D:\\coding\\hereLiesAanaconda\\Lib\\site-packages\\sklearn\\base.py:493: UserWarning: X does not have valid feature names, but StandardScaler was fitted with feature names\n",
      "  warnings.warn(\n"
     ]
    },
    {
     "name": "stdout",
     "output_type": "stream",
     "text": [
      "Normal [7.17389398e-04 1.63642852e-01 8.10851173e-01 2.47885852e-02]\n",
      "Normal [7.18309401e-04 1.63852713e-01 8.11891034e-01 2.35379431e-02]\n"
     ]
    },
    {
     "name": "stderr",
     "output_type": "stream",
     "text": [
      "D:\\coding\\hereLiesAanaconda\\Lib\\site-packages\\sklearn\\base.py:493: UserWarning: X does not have valid feature names, but StandardScaler was fitted with feature names\n",
      "  warnings.warn(\n",
      "D:\\coding\\hereLiesAanaconda\\Lib\\site-packages\\sklearn\\base.py:493: UserWarning: X does not have valid feature names, but StandardScaler was fitted with feature names\n",
      "  warnings.warn(\n",
      "D:\\coding\\hereLiesAanaconda\\Lib\\site-packages\\sklearn\\base.py:493: UserWarning: X does not have valid feature names, but StandardScaler was fitted with feature names\n",
      "  warnings.warn(\n",
      "D:\\coding\\hereLiesAanaconda\\Lib\\site-packages\\sklearn\\base.py:493: UserWarning: X does not have valid feature names, but StandardScaler was fitted with feature names\n",
      "  warnings.warn(\n",
      "D:\\coding\\hereLiesAanaconda\\Lib\\site-packages\\sklearn\\base.py:493: UserWarning: X does not have valid feature names, but StandardScaler was fitted with feature names\n",
      "  warnings.warn(\n",
      "D:\\coding\\hereLiesAanaconda\\Lib\\site-packages\\sklearn\\base.py:493: UserWarning: X does not have valid feature names, but StandardScaler was fitted with feature names\n",
      "  warnings.warn(\n"
     ]
    },
    {
     "name": "stdout",
     "output_type": "stream",
     "text": [
      "Normal [5.50993763e-04 1.25686540e-01 8.54108883e-01 1.96535831e-02]\n",
      "Normal [5.58274393e-04 1.14133683e-01 8.65394765e-01 1.99132784e-02]\n",
      "Normal [5.84422397e-04 6.67963739e-02 9.17064686e-01 1.55545176e-02]\n"
     ]
    },
    {
     "name": "stderr",
     "output_type": "stream",
     "text": [
      "D:\\coding\\hereLiesAanaconda\\Lib\\site-packages\\sklearn\\base.py:493: UserWarning: X does not have valid feature names, but StandardScaler was fitted with feature names\n",
      "  warnings.warn(\n",
      "D:\\coding\\hereLiesAanaconda\\Lib\\site-packages\\sklearn\\base.py:493: UserWarning: X does not have valid feature names, but StandardScaler was fitted with feature names\n",
      "  warnings.warn(\n",
      "D:\\coding\\hereLiesAanaconda\\Lib\\site-packages\\sklearn\\base.py:493: UserWarning: X does not have valid feature names, but StandardScaler was fitted with feature names\n",
      "  warnings.warn(\n",
      "D:\\coding\\hereLiesAanaconda\\Lib\\site-packages\\sklearn\\base.py:493: UserWarning: X does not have valid feature names, but StandardScaler was fitted with feature names\n",
      "  warnings.warn(\n"
     ]
    },
    {
     "name": "stdout",
     "output_type": "stream",
     "text": [
      "Normal [4.46808416e-04 4.79185356e-02 9.41430062e-01 1.02045937e-02]\n",
      "Normal [6.57027160e-05 5.93154852e-03 9.92845547e-01 1.15720207e-03]\n"
     ]
    },
    {
     "name": "stderr",
     "output_type": "stream",
     "text": [
      "D:\\coding\\hereLiesAanaconda\\Lib\\site-packages\\sklearn\\base.py:493: UserWarning: X does not have valid feature names, but StandardScaler was fitted with feature names\n",
      "  warnings.warn(\n",
      "D:\\coding\\hereLiesAanaconda\\Lib\\site-packages\\sklearn\\base.py:493: UserWarning: X does not have valid feature names, but StandardScaler was fitted with feature names\n",
      "  warnings.warn(\n",
      "D:\\coding\\hereLiesAanaconda\\Lib\\site-packages\\sklearn\\base.py:493: UserWarning: X does not have valid feature names, but StandardScaler was fitted with feature names\n",
      "  warnings.warn(\n",
      "D:\\coding\\hereLiesAanaconda\\Lib\\site-packages\\sklearn\\base.py:493: UserWarning: X does not have valid feature names, but StandardScaler was fitted with feature names\n",
      "  warnings.warn(\n",
      "D:\\coding\\hereLiesAanaconda\\Lib\\site-packages\\sklearn\\base.py:493: UserWarning: X does not have valid feature names, but StandardScaler was fitted with feature names\n",
      "  warnings.warn(\n"
     ]
    },
    {
     "name": "stdout",
     "output_type": "stream",
     "text": [
      "Normal [5.74642013e-05 5.88620690e-03 9.93130907e-01 9.25422105e-04]\n",
      "Normal [2.48739920e-04 5.68725379e-02 9.40003457e-01 2.87526471e-03]\n"
     ]
    },
    {
     "name": "stderr",
     "output_type": "stream",
     "text": [
      "D:\\coding\\hereLiesAanaconda\\Lib\\site-packages\\sklearn\\base.py:493: UserWarning: X does not have valid feature names, but StandardScaler was fitted with feature names\n",
      "  warnings.warn(\n",
      "D:\\coding\\hereLiesAanaconda\\Lib\\site-packages\\sklearn\\base.py:493: UserWarning: X does not have valid feature names, but StandardScaler was fitted with feature names\n",
      "  warnings.warn(\n",
      "D:\\coding\\hereLiesAanaconda\\Lib\\site-packages\\sklearn\\base.py:493: UserWarning: X does not have valid feature names, but StandardScaler was fitted with feature names\n",
      "  warnings.warn(\n"
     ]
    },
    {
     "name": "stdout",
     "output_type": "stream",
     "text": [
      "Normal [2.25809024e-04 8.23550486e-02 9.14789279e-01 2.62986347e-03]\n",
      "Lordosis [0.00537193 0.75446263 0.18546244 0.054703  ]\n"
     ]
    },
    {
     "name": "stderr",
     "output_type": "stream",
     "text": [
      "D:\\coding\\hereLiesAanaconda\\Lib\\site-packages\\sklearn\\base.py:493: UserWarning: X does not have valid feature names, but StandardScaler was fitted with feature names\n",
      "  warnings.warn(\n",
      "D:\\coding\\hereLiesAanaconda\\Lib\\site-packages\\sklearn\\base.py:493: UserWarning: X does not have valid feature names, but StandardScaler was fitted with feature names\n",
      "  warnings.warn(\n",
      "D:\\coding\\hereLiesAanaconda\\Lib\\site-packages\\sklearn\\base.py:493: UserWarning: X does not have valid feature names, but StandardScaler was fitted with feature names\n",
      "  warnings.warn(\n",
      "D:\\coding\\hereLiesAanaconda\\Lib\\site-packages\\sklearn\\base.py:493: UserWarning: X does not have valid feature names, but StandardScaler was fitted with feature names\n",
      "  warnings.warn(\n"
     ]
    },
    {
     "name": "stdout",
     "output_type": "stream",
     "text": [
      "Lordosis [0.00830129 0.62056858 0.28659702 0.08453311]\n",
      "Lordosis [0.00575619 0.75401816 0.18550894 0.05471671]\n"
     ]
    },
    {
     "name": "stderr",
     "output_type": "stream",
     "text": [
      "D:\\coding\\hereLiesAanaconda\\Lib\\site-packages\\sklearn\\base.py:493: UserWarning: X does not have valid feature names, but StandardScaler was fitted with feature names\n",
      "  warnings.warn(\n",
      "D:\\coding\\hereLiesAanaconda\\Lib\\site-packages\\sklearn\\base.py:493: UserWarning: X does not have valid feature names, but StandardScaler was fitted with feature names\n",
      "  warnings.warn(\n",
      "D:\\coding\\hereLiesAanaconda\\Lib\\site-packages\\sklearn\\base.py:493: UserWarning: X does not have valid feature names, but StandardScaler was fitted with feature names\n",
      "  warnings.warn(\n",
      "D:\\coding\\hereLiesAanaconda\\Lib\\site-packages\\sklearn\\base.py:493: UserWarning: X does not have valid feature names, but StandardScaler was fitted with feature names\n",
      "  warnings.warn(\n",
      "D:\\coding\\hereLiesAanaconda\\Lib\\site-packages\\sklearn\\base.py:493: UserWarning: X does not have valid feature names, but StandardScaler was fitted with feature names\n",
      "  warnings.warn(\n",
      "D:\\coding\\hereLiesAanaconda\\Lib\\site-packages\\sklearn\\base.py:493: UserWarning: X does not have valid feature names, but StandardScaler was fitted with feature names\n",
      "  warnings.warn(\n"
     ]
    },
    {
     "name": "stdout",
     "output_type": "stream",
     "text": [
      "Lordosis [0.0050422  0.6885725  0.20999472 0.09639059]\n",
      "Normal [0.00360854 0.24224362 0.67184192 0.08230592]\n",
      "Normal [0.00254474 0.22532249 0.73483603 0.03729675]\n"
     ]
    },
    {
     "name": "stderr",
     "output_type": "stream",
     "text": [
      "D:\\coding\\hereLiesAanaconda\\Lib\\site-packages\\sklearn\\base.py:493: UserWarning: X does not have valid feature names, but StandardScaler was fitted with feature names\n",
      "  warnings.warn(\n",
      "D:\\coding\\hereLiesAanaconda\\Lib\\site-packages\\sklearn\\base.py:493: UserWarning: X does not have valid feature names, but StandardScaler was fitted with feature names\n",
      "  warnings.warn(\n",
      "D:\\coding\\hereLiesAanaconda\\Lib\\site-packages\\sklearn\\base.py:493: UserWarning: X does not have valid feature names, but StandardScaler was fitted with feature names\n",
      "  warnings.warn(\n",
      "D:\\coding\\hereLiesAanaconda\\Lib\\site-packages\\sklearn\\base.py:493: UserWarning: X does not have valid feature names, but StandardScaler was fitted with feature names\n",
      "  warnings.warn(\n"
     ]
    },
    {
     "name": "stdout",
     "output_type": "stream",
     "text": [
      "Normal [0.00095491 0.22939486 0.75260604 0.01704419]\n",
      "Normal [0.0030337  0.43027812 0.51253942 0.05414876]\n"
     ]
    },
    {
     "name": "stderr",
     "output_type": "stream",
     "text": [
      "D:\\coding\\hereLiesAanaconda\\Lib\\site-packages\\sklearn\\base.py:493: UserWarning: X does not have valid feature names, but StandardScaler was fitted with feature names\n",
      "  warnings.warn(\n",
      "D:\\coding\\hereLiesAanaconda\\Lib\\site-packages\\sklearn\\base.py:493: UserWarning: X does not have valid feature names, but StandardScaler was fitted with feature names\n",
      "  warnings.warn(\n",
      "D:\\coding\\hereLiesAanaconda\\Lib\\site-packages\\sklearn\\base.py:493: UserWarning: X does not have valid feature names, but StandardScaler was fitted with feature names\n",
      "  warnings.warn(\n",
      "D:\\coding\\hereLiesAanaconda\\Lib\\site-packages\\sklearn\\base.py:493: UserWarning: X does not have valid feature names, but StandardScaler was fitted with feature names\n",
      "  warnings.warn(\n"
     ]
    },
    {
     "name": "stdout",
     "output_type": "stream",
     "text": [
      "Normal [0.00201487 0.11703068 0.84499092 0.03596353]\n",
      "Lordosis [0.01050503 0.41225027 0.38973996 0.18750475]\n"
     ]
    },
    {
     "name": "stderr",
     "output_type": "stream",
     "text": [
      "D:\\coding\\hereLiesAanaconda\\Lib\\site-packages\\sklearn\\base.py:493: UserWarning: X does not have valid feature names, but StandardScaler was fitted with feature names\n",
      "  warnings.warn(\n",
      "D:\\coding\\hereLiesAanaconda\\Lib\\site-packages\\sklearn\\base.py:493: UserWarning: X does not have valid feature names, but StandardScaler was fitted with feature names\n",
      "  warnings.warn(\n",
      "D:\\coding\\hereLiesAanaconda\\Lib\\site-packages\\sklearn\\base.py:493: UserWarning: X does not have valid feature names, but StandardScaler was fitted with feature names\n",
      "  warnings.warn(\n",
      "D:\\coding\\hereLiesAanaconda\\Lib\\site-packages\\sklearn\\base.py:493: UserWarning: X does not have valid feature names, but StandardScaler was fitted with feature names\n",
      "  warnings.warn(\n",
      "D:\\coding\\hereLiesAanaconda\\Lib\\site-packages\\sklearn\\base.py:493: UserWarning: X does not have valid feature names, but StandardScaler was fitted with feature names\n",
      "  warnings.warn(\n",
      "D:\\coding\\hereLiesAanaconda\\Lib\\site-packages\\sklearn\\base.py:493: UserWarning: X does not have valid feature names, but StandardScaler was fitted with feature names\n",
      "  warnings.warn(\n"
     ]
    },
    {
     "name": "stdout",
     "output_type": "stream",
     "text": [
      "Lordosis [0.00873258 0.47607324 0.32398169 0.19121249]\n",
      "Lordosis [0.00719271 0.54987671 0.3015214  0.14140917]\n",
      "Lordosis [0.00438184 0.46407777 0.43269869 0.09884169]\n"
     ]
    },
    {
     "name": "stderr",
     "output_type": "stream",
     "text": [
      "D:\\coding\\hereLiesAanaconda\\Lib\\site-packages\\sklearn\\base.py:493: UserWarning: X does not have valid feature names, but StandardScaler was fitted with feature names\n",
      "  warnings.warn(\n",
      "D:\\coding\\hereLiesAanaconda\\Lib\\site-packages\\sklearn\\base.py:493: UserWarning: X does not have valid feature names, but StandardScaler was fitted with feature names\n",
      "  warnings.warn(\n",
      "D:\\coding\\hereLiesAanaconda\\Lib\\site-packages\\sklearn\\base.py:493: UserWarning: X does not have valid feature names, but StandardScaler was fitted with feature names\n",
      "  warnings.warn(\n",
      "D:\\coding\\hereLiesAanaconda\\Lib\\site-packages\\sklearn\\base.py:493: UserWarning: X does not have valid feature names, but StandardScaler was fitted with feature names\n",
      "  warnings.warn(\n"
     ]
    },
    {
     "name": "stdout",
     "output_type": "stream",
     "text": [
      "Lordosis [0.00829124 0.65522166 0.24611163 0.09037547]\n",
      "Lordosis [0.00729572 0.60643353 0.25234993 0.13392081]\n"
     ]
    },
    {
     "name": "stderr",
     "output_type": "stream",
     "text": [
      "D:\\coding\\hereLiesAanaconda\\Lib\\site-packages\\sklearn\\base.py:493: UserWarning: X does not have valid feature names, but StandardScaler was fitted with feature names\n",
      "  warnings.warn(\n",
      "D:\\coding\\hereLiesAanaconda\\Lib\\site-packages\\sklearn\\base.py:493: UserWarning: X does not have valid feature names, but StandardScaler was fitted with feature names\n",
      "  warnings.warn(\n",
      "D:\\coding\\hereLiesAanaconda\\Lib\\site-packages\\sklearn\\base.py:493: UserWarning: X does not have valid feature names, but StandardScaler was fitted with feature names\n",
      "  warnings.warn(\n",
      "D:\\coding\\hereLiesAanaconda\\Lib\\site-packages\\sklearn\\base.py:493: UserWarning: X does not have valid feature names, but StandardScaler was fitted with feature names\n",
      "  warnings.warn(\n"
     ]
    },
    {
     "name": "stdout",
     "output_type": "stream",
     "text": [
      "Lordosis [0.00472067 0.73941145 0.16328212 0.09258575]\n",
      "Lordosis [0.00425189 0.88678765 0.04591086 0.0630496 ]\n"
     ]
    },
    {
     "name": "stderr",
     "output_type": "stream",
     "text": [
      "D:\\coding\\hereLiesAanaconda\\Lib\\site-packages\\sklearn\\base.py:493: UserWarning: X does not have valid feature names, but StandardScaler was fitted with feature names\n",
      "  warnings.warn(\n",
      "D:\\coding\\hereLiesAanaconda\\Lib\\site-packages\\sklearn\\base.py:493: UserWarning: X does not have valid feature names, but StandardScaler was fitted with feature names\n",
      "  warnings.warn(\n",
      "D:\\coding\\hereLiesAanaconda\\Lib\\site-packages\\sklearn\\base.py:493: UserWarning: X does not have valid feature names, but StandardScaler was fitted with feature names\n",
      "  warnings.warn(\n",
      "D:\\coding\\hereLiesAanaconda\\Lib\\site-packages\\sklearn\\base.py:493: UserWarning: X does not have valid feature names, but StandardScaler was fitted with feature names\n",
      "  warnings.warn(\n",
      "D:\\coding\\hereLiesAanaconda\\Lib\\site-packages\\sklearn\\base.py:493: UserWarning: X does not have valid feature names, but StandardScaler was fitted with feature names\n",
      "  warnings.warn(\n",
      "D:\\coding\\hereLiesAanaconda\\Lib\\site-packages\\sklearn\\base.py:493: UserWarning: X does not have valid feature names, but StandardScaler was fitted with feature names\n",
      "  warnings.warn(\n"
     ]
    },
    {
     "name": "stdout",
     "output_type": "stream",
     "text": [
      "Lordosis [0.00380968 0.88216808 0.04391747 0.07010477]\n",
      "Lordosis [0.00783352 0.79411447 0.07295549 0.12509652]\n",
      "Lordosis [0.00799878 0.7939822  0.07294334 0.12507568]\n"
     ]
    },
    {
     "name": "stderr",
     "output_type": "stream",
     "text": [
      "D:\\coding\\hereLiesAanaconda\\Lib\\site-packages\\sklearn\\base.py:493: UserWarning: X does not have valid feature names, but StandardScaler was fitted with feature names\n",
      "  warnings.warn(\n",
      "D:\\coding\\hereLiesAanaconda\\Lib\\site-packages\\sklearn\\base.py:493: UserWarning: X does not have valid feature names, but StandardScaler was fitted with feature names\n",
      "  warnings.warn(\n",
      "D:\\coding\\hereLiesAanaconda\\Lib\\site-packages\\sklearn\\base.py:493: UserWarning: X does not have valid feature names, but StandardScaler was fitted with feature names\n",
      "  warnings.warn(\n",
      "D:\\coding\\hereLiesAanaconda\\Lib\\site-packages\\sklearn\\base.py:493: UserWarning: X does not have valid feature names, but StandardScaler was fitted with feature names\n",
      "  warnings.warn(\n"
     ]
    },
    {
     "name": "stdout",
     "output_type": "stream",
     "text": [
      "Normal [0.00271077 0.29611596 0.51908363 0.18208965]\n",
      "Lordosis [0.00327629 0.79998956 0.09496927 0.10176488]\n"
     ]
    },
    {
     "name": "stderr",
     "output_type": "stream",
     "text": [
      "D:\\coding\\hereLiesAanaconda\\Lib\\site-packages\\sklearn\\base.py:493: UserWarning: X does not have valid feature names, but StandardScaler was fitted with feature names\n",
      "  warnings.warn(\n",
      "D:\\coding\\hereLiesAanaconda\\Lib\\site-packages\\sklearn\\base.py:493: UserWarning: X does not have valid feature names, but StandardScaler was fitted with feature names\n",
      "  warnings.warn(\n",
      "D:\\coding\\hereLiesAanaconda\\Lib\\site-packages\\sklearn\\base.py:493: UserWarning: X does not have valid feature names, but StandardScaler was fitted with feature names\n",
      "  warnings.warn(\n",
      "D:\\coding\\hereLiesAanaconda\\Lib\\site-packages\\sklearn\\base.py:493: UserWarning: X does not have valid feature names, but StandardScaler was fitted with feature names\n",
      "  warnings.warn(\n"
     ]
    },
    {
     "name": "stdout",
     "output_type": "stream",
     "text": [
      "Lordosis [0.00450354 0.61962129 0.12909748 0.24677769]\n",
      "Lordosis [0.00347346 0.52852925 0.27523212 0.19276517]\n"
     ]
    },
    {
     "name": "stderr",
     "output_type": "stream",
     "text": [
      "D:\\coding\\hereLiesAanaconda\\Lib\\site-packages\\sklearn\\base.py:493: UserWarning: X does not have valid feature names, but StandardScaler was fitted with feature names\n",
      "  warnings.warn(\n",
      "D:\\coding\\hereLiesAanaconda\\Lib\\site-packages\\sklearn\\base.py:493: UserWarning: X does not have valid feature names, but StandardScaler was fitted with feature names\n",
      "  warnings.warn(\n",
      "D:\\coding\\hereLiesAanaconda\\Lib\\site-packages\\sklearn\\base.py:493: UserWarning: X does not have valid feature names, but StandardScaler was fitted with feature names\n",
      "  warnings.warn(\n",
      "D:\\coding\\hereLiesAanaconda\\Lib\\site-packages\\sklearn\\base.py:493: UserWarning: X does not have valid feature names, but StandardScaler was fitted with feature names\n",
      "  warnings.warn(\n"
     ]
    },
    {
     "name": "stdout",
     "output_type": "stream",
     "text": [
      "Lordosis [0.00338367 0.59055759 0.2283646  0.17769414]\n",
      "Lordosis [0.00436805 0.76444531 0.04669821 0.18448844]\n"
     ]
    },
    {
     "name": "stderr",
     "output_type": "stream",
     "text": [
      "D:\\coding\\hereLiesAanaconda\\Lib\\site-packages\\sklearn\\base.py:493: UserWarning: X does not have valid feature names, but StandardScaler was fitted with feature names\n",
      "  warnings.warn(\n",
      "D:\\coding\\hereLiesAanaconda\\Lib\\site-packages\\sklearn\\base.py:493: UserWarning: X does not have valid feature names, but StandardScaler was fitted with feature names\n",
      "  warnings.warn(\n",
      "D:\\coding\\hereLiesAanaconda\\Lib\\site-packages\\sklearn\\base.py:493: UserWarning: X does not have valid feature names, but StandardScaler was fitted with feature names\n",
      "  warnings.warn(\n",
      "D:\\coding\\hereLiesAanaconda\\Lib\\site-packages\\sklearn\\base.py:493: UserWarning: X does not have valid feature names, but StandardScaler was fitted with feature names\n",
      "  warnings.warn(\n"
     ]
    },
    {
     "name": "stdout",
     "output_type": "stream",
     "text": [
      "Lordosis [0.00519477 0.90912888 0.03620795 0.04946841]\n",
      "Lordosis [0.0107655  0.97388482 0.00560574 0.00974395]\n"
     ]
    },
    {
     "name": "stderr",
     "output_type": "stream",
     "text": [
      "D:\\coding\\hereLiesAanaconda\\Lib\\site-packages\\sklearn\\base.py:493: UserWarning: X does not have valid feature names, but StandardScaler was fitted with feature names\n",
      "  warnings.warn(\n",
      "D:\\coding\\hereLiesAanaconda\\Lib\\site-packages\\sklearn\\base.py:493: UserWarning: X does not have valid feature names, but StandardScaler was fitted with feature names\n",
      "  warnings.warn(\n",
      "D:\\coding\\hereLiesAanaconda\\Lib\\site-packages\\sklearn\\base.py:493: UserWarning: X does not have valid feature names, but StandardScaler was fitted with feature names\n",
      "  warnings.warn(\n",
      "D:\\coding\\hereLiesAanaconda\\Lib\\site-packages\\sklearn\\base.py:493: UserWarning: X does not have valid feature names, but StandardScaler was fitted with feature names\n",
      "  warnings.warn(\n"
     ]
    },
    {
     "name": "stdout",
     "output_type": "stream",
     "text": [
      "Lordosis [0.02110217 0.9628211  0.00709931 0.00897741]\n",
      "Lordosis [0.07023643 0.90394684 0.01700286 0.00881387]\n"
     ]
    },
    {
     "name": "stderr",
     "output_type": "stream",
     "text": [
      "D:\\coding\\hereLiesAanaconda\\Lib\\site-packages\\sklearn\\base.py:493: UserWarning: X does not have valid feature names, but StandardScaler was fitted with feature names\n",
      "  warnings.warn(\n",
      "D:\\coding\\hereLiesAanaconda\\Lib\\site-packages\\sklearn\\base.py:493: UserWarning: X does not have valid feature names, but StandardScaler was fitted with feature names\n",
      "  warnings.warn(\n",
      "D:\\coding\\hereLiesAanaconda\\Lib\\site-packages\\sklearn\\base.py:493: UserWarning: X does not have valid feature names, but StandardScaler was fitted with feature names\n",
      "  warnings.warn(\n",
      "D:\\coding\\hereLiesAanaconda\\Lib\\site-packages\\sklearn\\base.py:493: UserWarning: X does not have valid feature names, but StandardScaler was fitted with feature names\n",
      "  warnings.warn(\n"
     ]
    },
    {
     "name": "stdout",
     "output_type": "stream",
     "text": [
      "Lordosis [0.12281106 0.82188571 0.0379511  0.01735212]\n",
      "Lordosis [0.09524536 0.86514093 0.02705619 0.01255753]\n"
     ]
    },
    {
     "name": "stderr",
     "output_type": "stream",
     "text": [
      "D:\\coding\\hereLiesAanaconda\\Lib\\site-packages\\sklearn\\base.py:493: UserWarning: X does not have valid feature names, but StandardScaler was fitted with feature names\n",
      "  warnings.warn(\n",
      "D:\\coding\\hereLiesAanaconda\\Lib\\site-packages\\sklearn\\base.py:493: UserWarning: X does not have valid feature names, but StandardScaler was fitted with feature names\n",
      "  warnings.warn(\n",
      "D:\\coding\\hereLiesAanaconda\\Lib\\site-packages\\sklearn\\base.py:493: UserWarning: X does not have valid feature names, but StandardScaler was fitted with feature names\n",
      "  warnings.warn(\n",
      "D:\\coding\\hereLiesAanaconda\\Lib\\site-packages\\sklearn\\base.py:493: UserWarning: X does not have valid feature names, but StandardScaler was fitted with feature names\n",
      "  warnings.warn(\n"
     ]
    },
    {
     "name": "stdout",
     "output_type": "stream",
     "text": [
      "Lordosis [0.08810074 0.86632121 0.02894954 0.01662852]\n",
      "Lordosis [0.08619263 0.85986375 0.03767525 0.01626837]\n"
     ]
    },
    {
     "name": "stderr",
     "output_type": "stream",
     "text": [
      "D:\\coding\\hereLiesAanaconda\\Lib\\site-packages\\sklearn\\base.py:493: UserWarning: X does not have valid feature names, but StandardScaler was fitted with feature names\n",
      "  warnings.warn(\n",
      "D:\\coding\\hereLiesAanaconda\\Lib\\site-packages\\sklearn\\base.py:493: UserWarning: X does not have valid feature names, but StandardScaler was fitted with feature names\n",
      "  warnings.warn(\n",
      "D:\\coding\\hereLiesAanaconda\\Lib\\site-packages\\sklearn\\base.py:493: UserWarning: X does not have valid feature names, but StandardScaler was fitted with feature names\n",
      "  warnings.warn(\n",
      "D:\\coding\\hereLiesAanaconda\\Lib\\site-packages\\sklearn\\base.py:493: UserWarning: X does not have valid feature names, but StandardScaler was fitted with feature names\n",
      "  warnings.warn(\n"
     ]
    },
    {
     "name": "stdout",
     "output_type": "stream",
     "text": [
      "Lordosis [0.04393779 0.92310236 0.02169606 0.01126379]\n",
      "Lordosis [0.08611726 0.84928204 0.04252388 0.02207682]\n"
     ]
    },
    {
     "name": "stderr",
     "output_type": "stream",
     "text": [
      "D:\\coding\\hereLiesAanaconda\\Lib\\site-packages\\sklearn\\base.py:493: UserWarning: X does not have valid feature names, but StandardScaler was fitted with feature names\n",
      "  warnings.warn(\n",
      "D:\\coding\\hereLiesAanaconda\\Lib\\site-packages\\sklearn\\base.py:493: UserWarning: X does not have valid feature names, but StandardScaler was fitted with feature names\n",
      "  warnings.warn(\n",
      "D:\\coding\\hereLiesAanaconda\\Lib\\site-packages\\sklearn\\base.py:493: UserWarning: X does not have valid feature names, but StandardScaler was fitted with feature names\n",
      "  warnings.warn(\n",
      "D:\\coding\\hereLiesAanaconda\\Lib\\site-packages\\sklearn\\base.py:493: UserWarning: X does not have valid feature names, but StandardScaler was fitted with feature names\n",
      "  warnings.warn(\n"
     ]
    },
    {
     "name": "stdout",
     "output_type": "stream",
     "text": [
      "Lordosis [0.0254324  0.90801727 0.04546477 0.02108556]\n",
      "Lordosis [0.00286769 0.94855979 0.02078169 0.02779082]\n"
     ]
    },
    {
     "name": "stderr",
     "output_type": "stream",
     "text": [
      "D:\\coding\\hereLiesAanaconda\\Lib\\site-packages\\sklearn\\base.py:493: UserWarning: X does not have valid feature names, but StandardScaler was fitted with feature names\n",
      "  warnings.warn(\n",
      "D:\\coding\\hereLiesAanaconda\\Lib\\site-packages\\sklearn\\base.py:493: UserWarning: X does not have valid feature names, but StandardScaler was fitted with feature names\n",
      "  warnings.warn(\n",
      "D:\\coding\\hereLiesAanaconda\\Lib\\site-packages\\sklearn\\base.py:493: UserWarning: X does not have valid feature names, but StandardScaler was fitted with feature names\n",
      "  warnings.warn(\n",
      "D:\\coding\\hereLiesAanaconda\\Lib\\site-packages\\sklearn\\base.py:493: UserWarning: X does not have valid feature names, but StandardScaler was fitted with feature names\n",
      "  warnings.warn(\n"
     ]
    },
    {
     "name": "stdout",
     "output_type": "stream",
     "text": [
      "Lordosis [0.00257079 0.88099396 0.01863013 0.09780512]\n",
      "Lordosis [0.11886219 0.66067159 0.1064357  0.11403052]\n"
     ]
    },
    {
     "name": "stderr",
     "output_type": "stream",
     "text": [
      "D:\\coding\\hereLiesAanaconda\\Lib\\site-packages\\sklearn\\base.py:493: UserWarning: X does not have valid feature names, but StandardScaler was fitted with feature names\n",
      "  warnings.warn(\n",
      "D:\\coding\\hereLiesAanaconda\\Lib\\site-packages\\sklearn\\base.py:493: UserWarning: X does not have valid feature names, but StandardScaler was fitted with feature names\n",
      "  warnings.warn(\n",
      "D:\\coding\\hereLiesAanaconda\\Lib\\site-packages\\sklearn\\base.py:493: UserWarning: X does not have valid feature names, but StandardScaler was fitted with feature names\n",
      "  warnings.warn(\n",
      "D:\\coding\\hereLiesAanaconda\\Lib\\site-packages\\sklearn\\base.py:493: UserWarning: X does not have valid feature names, but StandardScaler was fitted with feature names\n",
      "  warnings.warn(\n"
     ]
    },
    {
     "name": "stdout",
     "output_type": "stream",
     "text": [
      "Lordosis [0.25259659 0.43203012 0.24514577 0.07022752]\n",
      "Lordosis [0.30448727 0.42454341 0.19837486 0.07259446]\n"
     ]
    },
    {
     "name": "stderr",
     "output_type": "stream",
     "text": [
      "D:\\coding\\hereLiesAanaconda\\Lib\\site-packages\\sklearn\\base.py:493: UserWarning: X does not have valid feature names, but StandardScaler was fitted with feature names\n",
      "  warnings.warn(\n",
      "D:\\coding\\hereLiesAanaconda\\Lib\\site-packages\\sklearn\\base.py:493: UserWarning: X does not have valid feature names, but StandardScaler was fitted with feature names\n",
      "  warnings.warn(\n",
      "D:\\coding\\hereLiesAanaconda\\Lib\\site-packages\\sklearn\\base.py:493: UserWarning: X does not have valid feature names, but StandardScaler was fitted with feature names\n",
      "  warnings.warn(\n",
      "D:\\coding\\hereLiesAanaconda\\Lib\\site-packages\\sklearn\\base.py:493: UserWarning: X does not have valid feature names, but StandardScaler was fitted with feature names\n",
      "  warnings.warn(\n"
     ]
    },
    {
     "name": "stdout",
     "output_type": "stream",
     "text": [
      "Normal [0.33950572 0.08028003 0.53434969 0.04586456]\n",
      "Kyphosis [0.8717845  0.02226826 0.10245413 0.00349311]\n"
     ]
    },
    {
     "name": "stderr",
     "output_type": "stream",
     "text": [
      "D:\\coding\\hereLiesAanaconda\\Lib\\site-packages\\sklearn\\base.py:493: UserWarning: X does not have valid feature names, but StandardScaler was fitted with feature names\n",
      "  warnings.warn(\n",
      "D:\\coding\\hereLiesAanaconda\\Lib\\site-packages\\sklearn\\base.py:493: UserWarning: X does not have valid feature names, but StandardScaler was fitted with feature names\n",
      "  warnings.warn(\n",
      "D:\\coding\\hereLiesAanaconda\\Lib\\site-packages\\sklearn\\base.py:493: UserWarning: X does not have valid feature names, but StandardScaler was fitted with feature names\n",
      "  warnings.warn(\n",
      "D:\\coding\\hereLiesAanaconda\\Lib\\site-packages\\sklearn\\base.py:493: UserWarning: X does not have valid feature names, but StandardScaler was fitted with feature names\n",
      "  warnings.warn(\n"
     ]
    },
    {
     "name": "stdout",
     "output_type": "stream",
     "text": [
      "Kyphosis [0.95509063 0.02269002 0.01674895 0.0054704 ]\n",
      "Kyphosis [0.90091836 0.08950272 0.00857946 0.00099945]\n"
     ]
    },
    {
     "name": "stderr",
     "output_type": "stream",
     "text": [
      "D:\\coding\\hereLiesAanaconda\\Lib\\site-packages\\sklearn\\base.py:493: UserWarning: X does not have valid feature names, but StandardScaler was fitted with feature names\n",
      "  warnings.warn(\n",
      "D:\\coding\\hereLiesAanaconda\\Lib\\site-packages\\sklearn\\base.py:493: UserWarning: X does not have valid feature names, but StandardScaler was fitted with feature names\n",
      "  warnings.warn(\n",
      "D:\\coding\\hereLiesAanaconda\\Lib\\site-packages\\sklearn\\base.py:493: UserWarning: X does not have valid feature names, but StandardScaler was fitted with feature names\n",
      "  warnings.warn(\n",
      "D:\\coding\\hereLiesAanaconda\\Lib\\site-packages\\sklearn\\base.py:493: UserWarning: X does not have valid feature names, but StandardScaler was fitted with feature names\n",
      "  warnings.warn(\n",
      "D:\\coding\\hereLiesAanaconda\\Lib\\site-packages\\sklearn\\base.py:493: UserWarning: X does not have valid feature names, but StandardScaler was fitted with feature names\n",
      "  warnings.warn(\n",
      "D:\\coding\\hereLiesAanaconda\\Lib\\site-packages\\sklearn\\base.py:493: UserWarning: X does not have valid feature names, but StandardScaler was fitted with feature names\n",
      "  warnings.warn(\n"
     ]
    },
    {
     "name": "stdout",
     "output_type": "stream",
     "text": [
      "Kyphosis [9.42774422e-01 5.18243947e-02 4.85425589e-03 5.46927284e-04]\n",
      "Kyphosis [9.35329178e-01 6.28999248e-02 4.43607744e-04 1.32728943e-03]\n",
      "Kyphosis [8.94490507e-01 1.03997556e-01 7.91762386e-04 7.20175299e-04]\n"
     ]
    },
    {
     "name": "stderr",
     "output_type": "stream",
     "text": [
      "D:\\coding\\hereLiesAanaconda\\Lib\\site-packages\\sklearn\\base.py:493: UserWarning: X does not have valid feature names, but StandardScaler was fitted with feature names\n",
      "  warnings.warn(\n",
      "D:\\coding\\hereLiesAanaconda\\Lib\\site-packages\\sklearn\\base.py:493: UserWarning: X does not have valid feature names, but StandardScaler was fitted with feature names\n",
      "  warnings.warn(\n",
      "D:\\coding\\hereLiesAanaconda\\Lib\\site-packages\\sklearn\\base.py:493: UserWarning: X does not have valid feature names, but StandardScaler was fitted with feature names\n",
      "  warnings.warn(\n",
      "D:\\coding\\hereLiesAanaconda\\Lib\\site-packages\\sklearn\\base.py:493: UserWarning: X does not have valid feature names, but StandardScaler was fitted with feature names\n",
      "  warnings.warn(\n"
     ]
    },
    {
     "name": "stdout",
     "output_type": "stream",
     "text": [
      "Kyphosis [8.84714272e-01 1.13819050e-01 7.68061153e-04 6.98617009e-04]\n",
      "Kyphosis [8.99398209e-01 9.89161491e-02 9.75430197e-04 7.10212219e-04]\n"
     ]
    },
    {
     "name": "stderr",
     "output_type": "stream",
     "text": [
      "D:\\coding\\hereLiesAanaconda\\Lib\\site-packages\\sklearn\\base.py:493: UserWarning: X does not have valid feature names, but StandardScaler was fitted with feature names\n",
      "  warnings.warn(\n",
      "D:\\coding\\hereLiesAanaconda\\Lib\\site-packages\\sklearn\\base.py:493: UserWarning: X does not have valid feature names, but StandardScaler was fitted with feature names\n",
      "  warnings.warn(\n",
      "D:\\coding\\hereLiesAanaconda\\Lib\\site-packages\\sklearn\\base.py:493: UserWarning: X does not have valid feature names, but StandardScaler was fitted with feature names\n",
      "  warnings.warn(\n",
      "D:\\coding\\hereLiesAanaconda\\Lib\\site-packages\\sklearn\\base.py:493: UserWarning: X does not have valid feature names, but StandardScaler was fitted with feature names\n",
      "  warnings.warn(\n"
     ]
    },
    {
     "name": "stdout",
     "output_type": "stream",
     "text": [
      "Kyphosis [9.62820604e-01 3.36793195e-02 2.72302085e-03 7.77056108e-04]\n",
      "Kyphosis [0.87281677 0.12146648 0.00419101 0.00152574]\n"
     ]
    },
    {
     "name": "stderr",
     "output_type": "stream",
     "text": [
      "D:\\coding\\hereLiesAanaconda\\Lib\\site-packages\\sklearn\\base.py:493: UserWarning: X does not have valid feature names, but StandardScaler was fitted with feature names\n",
      "  warnings.warn(\n",
      "D:\\coding\\hereLiesAanaconda\\Lib\\site-packages\\sklearn\\base.py:493: UserWarning: X does not have valid feature names, but StandardScaler was fitted with feature names\n",
      "  warnings.warn(\n",
      "D:\\coding\\hereLiesAanaconda\\Lib\\site-packages\\sklearn\\base.py:493: UserWarning: X does not have valid feature names, but StandardScaler was fitted with feature names\n",
      "  warnings.warn(\n",
      "D:\\coding\\hereLiesAanaconda\\Lib\\site-packages\\sklearn\\base.py:493: UserWarning: X does not have valid feature names, but StandardScaler was fitted with feature names\n",
      "  warnings.warn(\n"
     ]
    },
    {
     "name": "stdout",
     "output_type": "stream",
     "text": [
      "Kyphosis [0.82512017 0.17009982 0.00384947 0.00093055]\n",
      "Kyphosis [0.79833711 0.18531765 0.01468057 0.00166467]\n"
     ]
    },
    {
     "name": "stderr",
     "output_type": "stream",
     "text": [
      "D:\\coding\\hereLiesAanaconda\\Lib\\site-packages\\sklearn\\base.py:493: UserWarning: X does not have valid feature names, but StandardScaler was fitted with feature names\n",
      "  warnings.warn(\n",
      "D:\\coding\\hereLiesAanaconda\\Lib\\site-packages\\sklearn\\base.py:493: UserWarning: X does not have valid feature names, but StandardScaler was fitted with feature names\n",
      "  warnings.warn(\n",
      "D:\\coding\\hereLiesAanaconda\\Lib\\site-packages\\sklearn\\base.py:493: UserWarning: X does not have valid feature names, but StandardScaler was fitted with feature names\n",
      "  warnings.warn(\n",
      "D:\\coding\\hereLiesAanaconda\\Lib\\site-packages\\sklearn\\base.py:493: UserWarning: X does not have valid feature names, but StandardScaler was fitted with feature names\n",
      "  warnings.warn(\n"
     ]
    },
    {
     "name": "stdout",
     "output_type": "stream",
     "text": [
      "Kyphosis [0.8468937  0.14450262 0.00683776 0.00176592]\n",
      "Kyphosis [0.74091196 0.24435169 0.01362458 0.00111177]\n"
     ]
    },
    {
     "name": "stderr",
     "output_type": "stream",
     "text": [
      "D:\\coding\\hereLiesAanaconda\\Lib\\site-packages\\sklearn\\base.py:493: UserWarning: X does not have valid feature names, but StandardScaler was fitted with feature names\n",
      "  warnings.warn(\n",
      "D:\\coding\\hereLiesAanaconda\\Lib\\site-packages\\sklearn\\base.py:493: UserWarning: X does not have valid feature names, but StandardScaler was fitted with feature names\n",
      "  warnings.warn(\n"
     ]
    },
    {
     "name": "stdout",
     "output_type": "stream",
     "text": [
      "Kyphosis [0.88672498 0.09699387 0.01474831 0.00153283]\n"
     ]
    }
   ],
   "source": [
    "cap = cv2.VideoCapture(0)\n",
    "# Initiate holistic model\n",
    "with mp_holistic.Holistic(min_detection_confidence=0.5, min_tracking_confidence=0.5) as holistic:\n",
    "    \n",
    "    while cap.isOpened():\n",
    "        ret, frame = cap.read()\n",
    "        \n",
    "        # Recolor Feed\n",
    "        image = cv2.cvtColor(frame, cv2.COLOR_BGR2RGB)\n",
    "        image.flags.writeable = False        \n",
    "        \n",
    "        # Make Detections\n",
    "        results = holistic.process(image)\n",
    "        # print(results.face_landmarks)\n",
    "        \n",
    "        # face_landmarks, pose_landmarks, left_hand_landmarks, right_hand_landmarks\n",
    "        \n",
    "        # Recolor image back to BGR for rendering\n",
    "        image.flags.writeable = True   \n",
    "        image = cv2.cvtColor(image, cv2.COLOR_RGB2BGR)\n",
    "\n",
    "        # 4. Pose Detections\n",
    "        mp_drawing.draw_landmarks(image, results.pose_landmarks, mp_holistic.POSE_CONNECTIONS, \n",
    "                                 mp_drawing.DrawingSpec(color=(245,117,66), thickness=2, circle_radius=4),\n",
    "                                 mp_drawing.DrawingSpec(color=(245,66,230), thickness=2, circle_radius=2)\n",
    "                                 )\n",
    "        # Export coordinates\n",
    "        try:\n",
    "            # Extract Pose landmarks\n",
    "            pose = results.pose_landmarks.landmark\n",
    "            pose_row = list(np.array([[landmark.x, landmark.y, landmark.z, landmark.visibility] for landmark in pose]).flatten())\n",
    "            \n",
    "            # Make Detections\n",
    "            X = pd.DataFrame([pose_row])\n",
    "            body_language_class = model.predict(X)[0]\n",
    "            body_language_prob = model.predict_proba(X)[0]\n",
    "            print(body_language_class, body_language_prob)\n",
    "            \n",
    "            # Grab ear coords\n",
    "            coords = tuple(np.multiply(\n",
    "                            np.array(\n",
    "                                (results.pose_landmarks.landmark[mp_holistic.PoseLandmark.LEFT_EAR].x, \n",
    "                                 results.pose_landmarks.landmark[mp_holistic.PoseLandmark.LEFT_EAR].y))\n",
    "                        , [640,480]).astype(int))\n",
    "            \n",
    "            cv2.rectangle(image, \n",
    "                          (coords[0], coords[1]+5), \n",
    "                          (coords[0]+len(body_language_class)*20, coords[1]-30), \n",
    "                          (245, 117, 16), -1)\n",
    "            cv2.putText(image, body_language_class, coords, \n",
    "                        cv2.FONT_HERSHEY_SIMPLEX, 1, (255, 255, 255), 2, cv2.LINE_AA)\n",
    "            \n",
    "            # Get status box\n",
    "            cv2.rectangle(image, (0,0), (250, 60), (245, 117, 16), -1)\n",
    "            \n",
    "            # Display Class\n",
    "            cv2.putText(image, 'CLASS'\n",
    "                        , (95,12), cv2.FONT_HERSHEY_SIMPLEX, 0.5, (0, 0, 0), 1, cv2.LINE_AA)\n",
    "            cv2.putText(image, body_language_class.split(' ')[0]\n",
    "                        , (90,40), cv2.FONT_HERSHEY_SIMPLEX, 1, (255, 255, 255), 2, cv2.LINE_AA)\n",
    "            \n",
    "            # Display Probability\n",
    "            cv2.putText(image, 'PROB'\n",
    "                        , (15,12), cv2.FONT_HERSHEY_SIMPLEX, 0.5, (0, 0, 0), 1, cv2.LINE_AA)\n",
    "            cv2.putText(image, str(round(body_language_prob[np.argmax(body_language_prob)],2))\n",
    "                        , (10,40), cv2.FONT_HERSHEY_SIMPLEX, 1, (255, 255, 255), 2, cv2.LINE_AA)\n",
    "            \n",
    "        except:\n",
    "            pass\n",
    "                        \n",
    "        cv2.imshow('Raw Webcam Feed', image)\n",
    "\n",
    "        if cv2.waitKey(10) & 0xFF == ord('q'):\n",
    "            break\n",
    "\n",
    "cap.release()\n",
    "cv2.destroyAllWindows()"
   ]
  },
  {
   "cell_type": "markdown",
   "id": "a27de9b9-d062-4e61-8e0d-de2e20288db8",
   "metadata": {},
   "source": [
    "# TO BE CONTINUED"
   ]
  }
 ],
 "metadata": {
  "kernelspec": {
   "display_name": "Python [conda env:base] *",
   "language": "python",
   "name": "conda-base-py"
  },
  "language_info": {
   "codemirror_mode": {
    "name": "ipython",
    "version": 3
   },
   "file_extension": ".py",
   "mimetype": "text/x-python",
   "name": "python",
   "nbconvert_exporter": "python",
   "pygments_lexer": "ipython3",
   "version": "3.12.7"
  }
 },
 "nbformat": 4,
 "nbformat_minor": 5
}
